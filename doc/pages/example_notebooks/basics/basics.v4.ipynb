{
 "cells": [
  {
   "cell_type": "markdown",
   "metadata": {},
   "source": [
    "## Introduction to Python Steering\n",
    "The following is a tour of the basic layout of CRPropa 3, showing how to setup and run a 1D simulation of the extragalactic propagation of UHECR protons from a Python shell.\n",
    "\n",
    "### Simulation setup\n",
    "We start with a ```ModuleList```, which is a container for simulation modules, and represents the simulation.\n",
    "\n",
    "The first module in a simulation should be a propagation module, which will move the cosmic rays. In a 1D simulation magnetic deflections of charged particles are not considered, thus we can use the ```SimplePropagation``` for rectalinear propagation.\n",
    "\n",
    "Next we add modules for photo-pion and electron-pair production with the cosmic microwave background and a module for neutron and nuclear decay. Finally we add a minimum energy requirement: Cosmic rays are stopped once they reach a the minimum energy.\n",
    "In general the order of modules doesn't matter much for sufficiently small propagation steps. For good practice, we recommend the order: Propagator --> Interactions -> Break conditions -> Observer / Output.\n",
    "\n",
    "**Please note** that all input, output and internal calculations are done using SI-units to enforce expressive statements such as ```E = 1 * EeV``` or ```D = 100 * Mpc```."
   ]
  },
  {
   "cell_type": "code",
   "execution_count": 1,
   "metadata": {},
   "outputs": [],
   "source": [
    "from crpropa import *\n",
    "\n",
    "# simulation: a sequence of simulation modules\n",
    "sim = ModuleList()\n",
    "\n",
    "# add propagator for rectalinear propagation\n",
    "sim.add( SimplePropagation() )\n",
    "\n",
    "# add interaction modules\n",
    "sim.add( PhotoPionProduction(CMB) )\n",
    "sim.add( ElectronPairProduction(CMB) )\n",
    "sim.add( NuclearDecay() )\n",
    "sim.add( MinimumEnergy( 1 * EeV) )"
   ]
  },
  {
   "cell_type": "markdown",
   "metadata": {},
   "source": [
    "### Propagating a single particle"
   ]
  },
  {
   "cell_type": "markdown",
   "metadata": {},
   "source": [
    "The simulation can now be used to propagate a cosmic ray, which is called candidate. We create a 100 EeV proton and propagate it using the simulation. The propagation stops when the energy drops below the minimum energy requirement that was specified. The possible propagation distances are rather long since we are neglecting cosmology in this example."
   ]
  },
  {
   "cell_type": "code",
   "execution_count": 2,
   "metadata": {},
   "outputs": [
    {
     "name": "stdout",
     "output_type": "stream",
     "text": [
      "CosmicRay at z = 0\n",
      "  source:  Particle 1000010010, E = 200 EeV, x = 100 0 0 Mpc, p = -1 0 0\n",
      "  current: Particle 1000010010, E = 0.995288 EeV, x = -13171.5 0 0 Mpc, p = -1 0 0\n",
      "Propagated distance 13271.4786453 Mpc\n"
     ]
    }
   ],
   "source": [
    "cosmicray = Candidate(nucleusId(1,1), 200 * EeV, Vector3d(100 * Mpc, 0, 0))\n",
    "\n",
    "sim.run(cosmicray)\n",
    "print cosmicray\n",
    "print 'Propagated distance', cosmicray.getTrajectoryLength() / Mpc, 'Mpc'"
   ]
  },
  {
   "cell_type": "markdown",
   "metadata": {},
   "source": [
    "### Defining an observer\n",
    "\n",
    "To define an observer within the simulation we create a ```Observer``` object.\n",
    "The convention of 1D simulations is that cosmic rays, starting from positive coordinates, propagate in the negative direction until the reach the observer at 0. Only the x-coordinate is used in the three-vectors that represent position and momentum."
   ]
  },
  {
   "cell_type": "code",
   "execution_count": 3,
   "metadata": {},
   "outputs": [
    {
     "name": "stdout",
     "output_type": "stream",
     "text": [
      "Observer\n",
      "    ObserverPoint: observer at x = 0\n",
      "    Flag: '' -> ''\n",
      "    MakeInactive: yes\n",
      "\n"
     ]
    }
   ],
   "source": [
    "# add an observer\n",
    "obs = Observer()\n",
    "obs.add( ObserverPoint() )  # observer at x = 0\n",
    "sim.add(obs)\n",
    "print obs"
   ]
  },
  {
   "cell_type": "markdown",
   "metadata": {},
   "source": [
    "### Defining the output file \n",
    "We want to save the propagated cosmic rays to an output file.\n",
    "Plain text output is provided by the TextOutput module.  \n",
    "For the type of information being stored we can use one of five presets: Event1D, Event3D, Trajectory1D, Trajectory3D and Everything.  \n",
    "We can also fine tune with ```enable(XXXColumn)``` and ```disable(XXXColumn)```"
   ]
  },
  {
   "cell_type": "code",
   "execution_count": 9,
   "metadata": {},
   "outputs": [],
   "source": [
    "# trajectory output\n",
    "output1 = TextOutput('trajectories.txt', Output.Trajectory1D)\n",
    "#sim.add(output1)  # generates a lot of output\n",
    "\n",
    "#output1.disable(Output.RedshiftColumn)  # don't save the current redshift\n",
    "#output1.disableAll()  # disable everything to start from scratch\n",
    "#output1.enable(Output.CurrentEnergyColumn)  # current energy\n",
    "#output1.enable(Output.CurrentIdColumn)      # current particle type\n",
    "# ...\n"
   ]
  },
  {
   "cell_type": "markdown",
   "metadata": {},
   "source": [
    "If in the example above ```output1``` is added to the module list, it is called on every propagation step to write out the cosmic ray information. \n",
    "To only save cosmic rays that reach our observer, we add an output to the observer that we previously defined.\n",
    "This time we are satisfied with the output type Event1D."
   ]
  },
  {
   "cell_type": "code",
   "execution_count": 5,
   "metadata": {},
   "outputs": [],
   "source": [
    "# event output\n",
    "output2 = TextOutput('events.txt', Output.Event1D)\n",
    "obs.onDetection(output2)\n",
    "\n",
    "#sim.run(cosmicray)\n",
    "#output2.close()"
   ]
  },
  {
   "cell_type": "markdown",
   "metadata": {},
   "source": [
    "Similary, the output could be linked to the ```MinimumEnergy``` module to save those cosmic rays that fall below the minimum energy, and so on.  \n",
    "**Note:** If we want to use the CRPropa output file from within the same  script that runs the simulation, the output module should be explicitly closed after the simulation run in order to get all events flushed to the file."
   ]
  },
  {
   "cell_type": "markdown",
   "metadata": {},
   "source": [
    "### Defining the source\n",
    "To avoid setting each individual cosmic ray by hand we defince a cosmic ray source.\n",
    "The source is located at a distance of 100 Mpc and accelerates protons with a power law spectrum and energies between 1 - 200 EeV."
   ]
  },
  {
   "cell_type": "code",
   "execution_count": 6,
   "metadata": {},
   "outputs": [
    {
     "name": "stdout",
     "output_type": "stream",
     "text": [
      "Cosmic ray source\n",
      "    SourcePosition: 100 0 0 Mpc\n",
      "    SourceParticleType: 1000010010\n",
      "    SourcePowerLawSpectrum: Random energy E = 1 - 200 EeV, dN/dE ~ E^-1\n",
      "\n"
     ]
    }
   ],
   "source": [
    "# cosmic ray source\n",
    "source = Source()\n",
    "source.add( SourcePosition(100 * Mpc) )\n",
    "source.add( SourceParticleType(nucleusId(1, 1)) )\n",
    "source.add( SourcePowerLawSpectrum(1 * EeV, 200 * EeV, -1) )\n",
    "print source"
   ]
  },
  {
   "cell_type": "markdown",
   "metadata": {},
   "source": [
    "### Running the simulation\n",
    "\n",
    "Finally we run the simulation to inject and propagate 10000 cosmic rays. An optional progress bar can show the progress of the simulation."
   ]
  },
  {
   "cell_type": "code",
   "execution_count": 7,
   "metadata": {},
   "outputs": [],
   "source": [
    "sim.setShowProgress(True)  # switch on the progress bar\n",
    "sim.run(source, 10000)"
   ]
  },
  {
   "cell_type": "markdown",
   "metadata": {},
   "source": [
    "### (Optional) Plotting\n",
    "\n",
    "This is not part of CRPropa, but since we're at it we can plot the energy spectrum of detected particles to observe the GZK suppression.\n",
    "The plotting is done here using matplotlib, but of course you can use whatever plotting tool you prefer.  \n"
   ]
  },
  {
   "cell_type": "code",
   "execution_count": 8,
   "metadata": {},
   "outputs": [
    {
     "name": "stdout",
     "output_type": "stream",
     "text": [
      "Number of events 10000\n"
     ]
    },
    {
     "data": {
      "text/plain": [
       "<matplotlib.legend.Legend at 0x7fba80059310>"
      ]
     },
     "execution_count": 8,
     "metadata": {},
     "output_type": "execute_result"
    },
    {
     "data": {
      "image/png": "[encoded data removed]",
      "text/plain": [
       "<matplotlib.figure.Figure at 0x7fba800a7b50>"
      ]
     },
     "metadata": {},
     "output_type": "display_data"
    }
   ],
   "source": [
    "%matplotlib inline\n",
    "import matplotlib.pyplot as plt\n",
    "import numpy as np\n",
    "\n",
    "output2.close()  # close output file before loading\n",
    "data = np.genfromtxt('events.txt', names=True)\n",
    "print 'Number of events', len(data)\n",
    "\n",
    "logE0 = np.log10(data['E0']) + 18\n",
    "logE  = np.log10(data['E']) + 18\n",
    "\n",
    "plt.figure(figsize=(10, 7))\n",
    "h1 = plt.hist(logE0, bins=25, range=(18, 20.5), histtype='stepfilled', alpha=0.5, label='At source')\n",
    "h2 = plt.hist(logE,  bins=25, range=(18, 20.5), histtype='stepfilled', alpha=0.5, label='Observed')\n",
    "plt.xlabel('log(E/eV)')\n",
    "plt.ylabel('N(E)')\n",
    "plt.legend(loc = 'upper left', fontsize=20)\n"
   ]
  },
  {
   "cell_type": "code",
   "execution_count": null,
   "metadata": {},
   "outputs": [],
   "source": []
  }
 ],
 "metadata": {
  "kernelspec": {
   "display_name": "Python 2",
   "language": "python",
   "name": "python2"
  },
  "language_info": {
   "codemirror_mode": {
    "name": "ipython",
    "version": 2
   },
   "file_extension": ".py",
   "mimetype": "text/x-python",
   "name": "python",
   "nbconvert_exporter": "python",
   "pygments_lexer": "ipython2",
   "version": "2.7.16"
  }
 },
 "nbformat": 4,
 "nbformat_minor": 1
}
