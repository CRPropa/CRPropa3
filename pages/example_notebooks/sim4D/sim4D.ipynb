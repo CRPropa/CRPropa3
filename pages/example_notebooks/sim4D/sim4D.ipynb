{
 "cells": [
  {
   "attachments": {},
   "cell_type": "markdown",
   "metadata": {},
   "source": [
    "# 4D Simulation\n",
    "\n",
    "The following is a simple 4D simulation where cosmic rays are emitted by a source at a specified spatial position at a specified time-point. A cosmic ray is detected if it arrives at the observer position within a specified time window.\n",
    "\n",
    "**Note:** In CRPropa, time is always expressed in terms of redshift $z$, whereas positions are always expressed in terms of comoving coordinates as Cartesian 3-vectors.\n",
    "\n",
    "### Simulation setup\n",
    "The simulation setup is that of a 3D simulation with a few additions:\n",
    "1. We add a source property for the redshift at emission. This can be either ```SourceRedshift```, ```SourceUniformRedshift``` or ```SourceRedshiftEvolution```.\n",
    "2. The simulation module ```FutureRedshift``` implements adiabatic energy loss and updates the redshift. In contrast to ```Redshift``` it allows particles to be propagated into the future $z < 0$ which enables faster convergence for finite observation windows.\n",
    "3. The observer feature ```ObserverRedshiftWindow``` specifies a time window $z_\\mathrm{min} < z < z_\\mathrm{max}$ in which particles are detected if they hit the observer. Note that this can also be done after the simulation by cutting on the redshifts at observation. For this we also output the current redshift at observation.\n",
    "4. A minimum redshift is defined via MinimumRedshift which we set to the lower bound of the observer time window.\n",
    "\n",
    "### Periodic boundaries\n",
    "Due to the additional time dimension, particles are detected much less often. In order to increase the otherwhise horrible simulation efficiency, a ```PeriodicBox``` is defined: Particles that leave this simulation volume, enter again from the opposite side and their source position is moved accordingly.\n",
    "As a result the periodic boundaries keep the particles close to the observer and therefore increase the chance of detection. A careful setup is required however:\n",
    "1. Sources should only be defined inside the volume as sources outside are filled up by the periodic conditions.\n",
    "2. The magnetic field at the boundaries should be periodic as well. This is the case for ```initTurbulence``` as long as the simulation volume coincides with (multiples of) the magnetic field grid.\n",
    "\n",
    "### Source positions\n",
    "In the example below, a single source is defined. For specifying multiple identical discrete sources ```SourceMultiplePositions``` can be used. Multiple non-identical sources can be added to a ```SourceList```. For continous source distributions ```SourceUniformSphere```, ```SourceUniformBox``` and ```SourceUniformCylinder``` can be used. ```SourceDensityGrid``` allows to specify a source distribution via a 3D grid."
   ]
  },
  {
   "cell_type": "markdown",
   "metadata": {},
   "source": [
    "### Note: \n",
    "This simulation may take **several** minutes."
   ]
  },
  {
   "cell_type": "code",
   "execution_count": 1,
   "metadata": {},
   "outputs": [
    {
     "name": "stdout",
     "output_type": "stream",
     "text": [
      "crpropa::ModuleList: Number of Threads: 16\n",
      "Run ModuleList\n",
      "  Started Tue Jan  9 10:49:16 2024 : [\u001b[1;32m Finished \u001b[0m] 100%    Needed: 00:00:34  - Finished at Tue Jan  9 10:49:50 2024\n",
      "\r"
     ]
    }
   ],
   "source": [
    "from crpropa import *\n",
    "\n",
    "\n",
    "# set up random turbulent field\n",
    "Brms = 1 * nG\n",
    "lMin = 60 * kpc\n",
    "lMax = 800 * kpc\n",
    "sIndex = 5./3.\n",
    "turbSpectrum = SimpleTurbulenceSpectrum(Brms, lMin, lMax, sIndex)\n",
    "gridprops = GridProperties(Vector3d(0), 256, 30 * kpc)\n",
    "Bfield = SimpleGridTurbulence(turbSpectrum, gridprops, 42)\n",
    "\n",
    "# simulation setup\n",
    "sim = ModuleList()\n",
    "sim.add(PropagationCK(Bfield))\n",
    "sim.add(FutureRedshift())\n",
    "#sim.add(FutureRedshift()) # Switch back to FutureRedshift when PR #416 is merged\n",
    "sim.add(Redshift())\n",
    "sim.add(PhotoPionProduction(CMB()))\n",
    "sim.add(PhotoPionProduction(IRB_Kneiske04()))\n",
    "sim.add(PhotoDisintegration(CMB()))\n",
    "sim.add(PhotoDisintegration(IRB_Kneiske04()))\n",
    "sim.add(ElectronPairProduction(CMB()))\n",
    "sim.add(ElectronPairProduction(IRB_Kneiske04()))\n",
    "sim.add(NuclearDecay())\n",
    "sim.add(MinimumEnergy(1 * EeV))\n",
    "#sim.add(MinimumRedshift(-0.1)) # Switch back to z_min=-0.1 when PR #416 is merged\n",
    "sim.add(MinimumRedshift(0.))\n",
    "\n",
    "\n",
    "# periodic boundaries\n",
    "extent = 256 * 30 * kpc  # size of the magnetic field grid\n",
    "sim.add(PeriodicBox(Vector3d(-extent), Vector3d(2 * extent)))\n",
    "\n",
    "# define the observer\n",
    "obs = Observer()\n",
    "obs.add(ObserverSurface( Sphere(Vector3d(0.), 0.5 * Mpc)))\n",
    "obs.add(ObserverRedshiftWindow(-0.1, 0.1))\n",
    "output = TextOutput('output.txt', Output.Event3D)\n",
    "output.enable(output.RedshiftColumn)\n",
    "obs.onDetection(output)\n",
    "sim.add(obs)\n",
    "\n",
    "# define the source(s)\n",
    "source = Source()\n",
    "source.add(SourcePosition(Vector3d(10, 0, 0) * Mpc))\n",
    "source.add(SourceIsotropicEmission())\n",
    "source.add(SourceParticleType(nucleusId(1, 1)))\n",
    "source.add(SourcePowerLawSpectrum(1 * EeV, 200 * EeV, -1))\n",
    "source.add(SourceRedshiftEvolution(1.5, 0.001, 3))\n",
    "\n",
    "# run simulation\n",
    "sim.setShowProgress(True)\n",
    "sim.run(source, 10000)\n",
    "output.close()"
   ]
  },
  {
   "cell_type": "code",
   "execution_count": 2,
   "metadata": {},
   "outputs": [],
   "source": [
    "columnnames=['D', 'z', 'ID', 'E', 'X', 'Y', 'Z', 'Px', 'Py', 'Pz','ID0', 'E0', 'X0', 'Y0', 'Z0', 'P0x', 'P0y', 'P0z']\n",
    "types = [float] * len(columnnames)\n",
    "import numpy as np\n",
    "data = np.loadtxt('./output.txt', dtype={'names': columnnames, 'formats': types})"
   ]
  },
  {
   "cell_type": "code",
   "execution_count": 3,
   "metadata": {},
   "outputs": [
    {
     "data": {
      "image/png": "[encoded data removed]",
      "text/plain": [
       "<Figure size 640x480 with 1 Axes>"
      ]
     },
     "metadata": {},
     "output_type": "display_data"
    }
   ],
   "source": [
    "import matplotlib.pyplot as plt\n",
    "bins = np.linspace(-0.1,0.1, 10)\n",
    "plt.hist(data['z'], bins=bins, histtype='step')\n",
    "plt.xlabel(r'observed redshift $z$')\n",
    "plt.show()"
   ]
  },
  {
   "cell_type": "code",
   "execution_count": null,
   "metadata": {},
   "outputs": [],
   "source": []
  }
 ],
 "metadata": {
  "kernelspec": {
   "display_name": "crp_docu",
   "language": "python",
   "name": "python3"
  },
  "language_info": {
   "codemirror_mode": {
    "name": "ipython",
    "version": 3
   },
   "file_extension": ".py",
   "mimetype": "text/x-python",
   "name": "python",
   "nbconvert_exporter": "python",
   "pygments_lexer": "ipython3",
   "version": "3.9.2"
  },
  "vscode": {
   "interpreter": {
    "hash": "c416687c884a42c367c2f4b19e8bea2627679ca3202fbf20d972b7cd00ee0b77"
   }
  },
  "widgets": {
   "application/vnd.jupyter.widget-state+json": {
    "state": {},
    "version_major": 2,
    "version_minor": 0
   }
  }
 },
 "nbformat": 4,
 "nbformat_minor": 4
}
