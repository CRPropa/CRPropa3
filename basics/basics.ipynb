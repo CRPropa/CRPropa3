{
 "metadata": {
  "name": "",
  "signature": "sha256:ee45f7169544c9ea1b663c9fdcb86eece82594739330add280440187a27537ea"
 },
 "nbformat": 3,
 "nbformat_minor": 0,
 "worksheets": [
  {
   "cells": [
    {
     "cell_type": "code",
     "collapsed": false,
     "input": [
      "from crpropa import *\n",
      "\n",
      "# simulation: a sequence of simulation modules\n",
      "sim = ModuleList()\n",
      "\n",
      "# add propagator for rectalinear propagation\n",
      "sim.add( SimplePropagation() )\n",
      "\n",
      "# add interaction modules\n",
      "sim.add( PhotoPionProduction(CMB) )\n",
      "sim.add( PhotoDisintegration(CMB) )\n",
      "sim.add( NuclearDecay() )\n",
      "sim.add( ElectronPairProduction(CMB) )\n",
      "sim.add( MinimumEnergy( 1 * EeV) )\n",
      "\n",
      "# add an observer\n",
      "obs = Observer()\n",
      "obs.add( ObserverPoint() )\n",
      "obs.add( ObserverOutput1D('events_sim1D.txt') )\n",
      "sim.add( obs )  # add to simulation\n",
      "\n",
      "print sim # show the simulation setup"
     ],
     "language": "python",
     "metadata": {},
     "outputs": [
      {
       "output_type": "stream",
       "stream": "stdout",
       "text": [
        "ModuleList\n",
        "  Simple Propagation: Step size = 0 - 10 Mpc\n",
        "  PhotoPionProduction: CMB\n",
        "  PhotoDisintegration: CMB\n",
        "  NuclearDecay\n",
        "  ElectronPairProduction: CMB\n",
        "  Minimum energy: 1 EeV, flag: Deactivated\n",
        "  Observer\n",
        "    ObserverPoint: observer at x = 0\n",
        "    ObserverOutput1D: events_sim1D.txt\n",
        "\n",
        "\n"
       ]
      }
     ],
     "prompt_number": 3
    },
    {
     "cell_type": "code",
     "collapsed": false,
     "input": [
      "# cosmic ray source\n",
      "source = Source()\n",
      "source.add( SourcePosition(100 * Mpc) )\n",
      "source.add( SourceRedshift1D() )\n",
      "source.add( SourceParticleType(nucleusId(1, 1)) )\n",
      "source.add( SourcePowerLawSpectrum(1 * EeV, 200 * EeV, -2) )\n",
      "print source"
     ],
     "language": "python",
     "metadata": {},
     "outputs": [
      {
       "output_type": "stream",
       "stream": "stdout",
       "text": [
        "Cosmic ray source\n",
        "    \n",
        "    SourceRedshift1D: Redshift according to source distance\n",
        "    SourceParticleType: 1000010010\n",
        "    SourcePowerLawSpectrum: Random energy E = 1 - 200 EeV, dN/dE ~ E^-2\n",
        "\n"
       ]
      }
     ],
     "prompt_number": 2
    },
    {
     "cell_type": "code",
     "collapsed": false,
     "input": [
      "sim.run(source, 10000)"
     ],
     "language": "python",
     "metadata": {},
     "outputs": [],
     "prompt_number": 4
    },
    {
     "cell_type": "code",
     "collapsed": false,
     "input": [
      "from numy"
     ],
     "language": "python",
     "metadata": {},
     "outputs": []
    }
   ],
   "metadata": {}
  }
 ]
}