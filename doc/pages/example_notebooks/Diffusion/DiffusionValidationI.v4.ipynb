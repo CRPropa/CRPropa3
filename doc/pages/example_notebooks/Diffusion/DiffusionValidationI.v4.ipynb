{
 "cells": [
  {
   "cell_type": "markdown",
   "metadata": {},
   "source": [
    "# Diffusion Validation I"
   ]
  },
  {
   "cell_type": "markdown",
   "metadata": {},
   "source": [
    "#### This notebook simulates a diffusion process in a homogeneous background magnetic field. The diffusion tensor is anisotropic, meaning the parallel component is larger than the perpendicular component ($\\kappa_\\parallel = 10\\cdot\\kappa_\\perp$)."
   ]
  },
  {
   "cell_type": "markdown",
   "metadata": {},
   "source": [
    "Load modules and use jupyter inline magic to use interactive plots."
   ]
  },
  {
   "cell_type": "code",
   "execution_count": 1,
   "metadata": {},
   "outputs": [],
   "source": [
    "%matplotlib inline\n",
    "\n",
    "import pandas as pd\n",
    "import matplotlib.pyplot as plt\n",
    "import seaborn as sns\n",
    "import numpy as np\n",
    "from scipy.stats import chisquare\n",
    "from scipy.integrate import quad\n",
    "import sys\n",
    "sys.path.append('../../../../build/')\n",
    "from crpropa import *\n",
    "\n",
    "#figure settings\n",
    "A4heigth = 29.7/2.54\n",
    "A4width = 21./2.54"
   ]
  },
  {
   "cell_type": "markdown",
   "metadata": {},
   "source": [
    "Definition of the probability distribution function of the particle density in one dimension: <br>\n",
    "$\\psi(R, t) = \\frac{2}{\\sqrt{4 \\pi D t}} \\cdot \\exp{-\\frac{R^2}{4 D t}}$ <br>\n",
    "Here, $R=||\\vec{R}||$ is the norm of the position."
   ]
  },
  {
   "cell_type": "code",
   "execution_count": 2,
   "metadata": {},
   "outputs": [],
   "source": [
    "def pdf(R, t, epsilon):\n",
    "    \"\"\"Probability distribution function of a diffusion process.\n",
    "    The diffusion coefficient is D=1e24m^2/s\n",
    "    \n",
    "    R - distance from injection\n",
    "    t - time elapsed since injection\n",
    "    epsilon - scaling for the perpendicular component\n",
    "    \"\"\"\n",
    "    D = 1e24*epsilon\n",
    "    pdf = 2 * pow(4 * np.pi * D * t, -0.5) * np.exp(- R**2. / (4 * D * t))\n",
    "    return pdf\n",
    "\n",
    "def dataCheck(df):\n",
    "    \"\"\"Check if all candidates are recorded 50 times.\"\"\"\n",
    "    cnt = df.SN.value_counts()!=50\n",
    "    err = cnt[cnt==True].index.to_numpy()\n",
    "    if len(err) != 0:\n",
    "        print(\"Something went wrong!\")\n",
    "        print(\"The following serial numbers ({}) have an incomplete set of observations.\".format(err))\n",
    "        print(\"Try to rerun the simulation cell or run that part of the program outside of jupyter.\")\n",
    "        print(\"File an issue on github if the problem persists; https://github.com/CRPropa/CRPropa3/issues\")"
   ]
  },
  {
   "cell_type": "markdown",
   "metadata": {},
   "source": [
    "Simulation set-up <br>\n",
    "Using 10000 pseudo particles to trace the phase space."
   ]
  },
  {
   "cell_type": "code",
   "execution_count": 3,
   "metadata": {},
   "outputs": [
    {
     "name": "stdout",
     "output_type": "stream",
     "text": [
      "Simulation finished\n"
     ]
    }
   ],
   "source": [
    "N = 10000\n",
    "\n",
    "# Number of Snapshots\n",
    "# used in ObserverTimeEvolution\n",
    "# candidates are recorded every deltaT=2kpc/c\n",
    "n = 50.\n",
    "step = 100*kpc / n\n",
    "\n",
    "# magnetic field\n",
    "ConstMagVec = Vector3d(0*nG,0*nG,1*nG)\n",
    "BField = UniformMagneticField(ConstMagVec)\n",
    "\n",
    "# parameters used for field line tracking\n",
    "precision = 1e-4\n",
    "minStep = 0.1*pc\n",
    "maxStep = 1*kpc\n",
    "\n",
    "#ratio between parallel and perpendicular diffusion coefficient\n",
    "epsilon = .1\n",
    "\n",
    "# source settings\n",
    "# A point source at the origin is isotropically injecting 10TeV protons.\n",
    "source = Source()\n",
    "source.add(SourcePosition(Vector3d(0.)))\n",
    "source.add(SourceParticleType(nucleusId(1, 1))) \n",
    "source.add(SourceEnergy(10*TeV))\n",
    "source.add(SourceIsotropicEmission())\n",
    "\n",
    "# Output settings\n",
    "# Only serial number, trajectory length and current position are stored\n",
    "# The unit of length is set to kpc\n",
    "Out = TextOutput('./Test.txt')\n",
    "Out.disableAll()\n",
    "Out.enable(Output.TrajectoryLengthColumn)\n",
    "Out.enable(Output.CurrentPositionColumn)\n",
    "Out.enable(Output.SerialNumberColumn)\n",
    "Out.setLengthScale(kpc)\n",
    "\n",
    "# Observer settings\n",
    "Obs = Observer()\n",
    "Obs.add(ObserverTimeEvolution(step, step, n))\n",
    "Obs.setDeactivateOnDetection(False) # important line, as particles would be deactivated after first detection otherwise\n",
    "Obs.onDetection(Out)\n",
    "\n",
    "# Difffusion Module\n",
    "# D_xx=D_yy= 1e23 m^2 / s, D_zz=10*D_xx\n",
    "# The normalization is adjusted and the energy dependence is deactivated (setting power law index alpha=0)\n",
    "Dif = DiffusionSDE(BField, precision, minStep, maxStep, epsilon)\n",
    "Dif.setScale(1./6.1)\n",
    "Dif.setAlpha(0.)\n",
    "\n",
    "\n",
    "# Boundary\n",
    "# Simulation ends after t=100kpc/c\n",
    "maxTra = MaximumTrajectoryLength(100.0*kpc)\n",
    "\n",
    "# module list\n",
    "# Add modules to the list and run the simulation\n",
    "sim = ModuleList()\n",
    "\n",
    "sim.add(Dif)\n",
    "sim.add(Obs)\n",
    "sim.add(maxTra)\n",
    "\n",
    "sim.run(source, N, True)\n",
    "\n",
    "# Close the Output modules to flush last chunk of data to file.\n",
    "Out.close()\n",
    "\n",
    "\n",
    "print(\"Simulation finished\")"
   ]
  },
  {
   "cell_type": "markdown",
   "metadata": {},
   "source": [
    "Load the simulation data and add a time column"
   ]
  },
  {
   "cell_type": "code",
   "execution_count": 4,
   "metadata": {},
   "outputs": [],
   "source": [
    "df = pd.read_csv('Test.txt', delimiter='\\t', names=[\"D\", \"SN\", \"X\", \"Y\", \"Z\", \"SN0\", \"SN1\"], comment='#')\n",
    "df['t'] = df.D * kpc / c_light #time in seconds\n",
    "dataCheck(df)"
   ]
  },
  {
   "cell_type": "markdown",
   "metadata": {},
   "source": [
    "#### Distribution in x, y and z\n",
    "Plot the density distribution in all three coordinates."
   ]
  },
  {
   "cell_type": "code",
   "execution_count": 5,
   "metadata": {},
   "outputs": [
    {
     "data": {
      "image/png": "[encoded data removed]",
      "text/plain": [
       "<Figure size 595.276x210.472 with 3 Axes>"
      ]
     },
     "metadata": {
      "needs_background": "light"
     },
     "output_type": "display_data"
    }
   ],
   "source": [
    "fig, axes = plt.subplots(nrows=1, ncols=3, figsize=(1.*A4width,A4heigth/4.))\n",
    "\n",
    "coord = ['X', 'Y', 'Z']\n",
    "\n",
    "for i, x_i in enumerate(coord):\n",
    "    L = [10, 50, 100]\n",
    "    for j, l in enumerate(L):\n",
    "        t = l*kpc/c_light\n",
    "        s = '%.2e' % t\n",
    "        df[df.D==l][x_i].hist(bins=np.linspace(-0.5, 0.5, 20), ax=axes[i], label='t = '+s+' s', zorder=3-j)\n",
    "    axes[i].set_title(x_i)\n",
    "    axes[i].set_xlim(-0.5, 0.5)\n",
    "    axes[i].legend(loc='best')\n",
    "    axes[i].set_xlabel('Distance [kpc]')\n",
    "    if i>0:\n",
    "        axes[i].set_yticklabels([])\n",
    "    else:\n",
    "        axes[i].set_ylabel(\"number density\")\n",
    "\n",
    "plt.tight_layout()\n"
   ]
  },
  {
   "cell_type": "markdown",
   "metadata": {},
   "source": [
    "${\\mathrm{\\bf Fig 1:}}$ Distribution of particles in three directions. Z-axis is parallel to the mean magnetic field. $\\kappa_{\\parallel}=100*\\kappa_{\\perp}$"
   ]
  },
  {
   "cell_type": "markdown",
   "metadata": {},
   "source": [
    "#### Use the absolute distance from origin $|x|, |y|, |z|$ and compare to analytical expectations."
   ]
  },
  {
   "cell_type": "code",
   "execution_count": 6,
   "metadata": {},
   "outputs": [
    {
     "data": {
      "image/png": "[encoded data removed]",
      "text/plain": [
       "<Figure size 595.276x210.472 with 3 Axes>"
      ]
     },
     "metadata": {
      "needs_background": "light"
     },
     "output_type": "display_data"
    }
   ],
   "source": [
    "fig, axes = plt.subplots(nrows=1, ncols=3, figsize=(1.*A4width,A4heigth/4.))\n",
    "\n",
    "coord = ['X', 'Y', 'Z']\n",
    "\n",
    "ChiDict = {}\n",
    "\n",
    "for i, x_i in enumerate(coord):\n",
    "    ChiDict[str(x_i)] = {}\n",
    "    \n",
    "    L = [10, 50, 100]\n",
    "    colors = sns.color_palette()\n",
    "    for j, l in enumerate(L):\n",
    "        ChiDict[str(x_i)][str(l)] = {}\n",
    "        if i <2:\n",
    "            abs(df[df.D==l][x_i]).hist(bins=np.linspace(0, 0.1, 11), ax=axes[i], alpha=1., zorder=3-j, color=colors[j])\n",
    "            hist = np.histogram(abs(df[df.D==l][x_i]), bins=np.linspace(0,0.1,11))\n",
    "            \n",
    "            PDF = np.zeros(len(hist[0]))\n",
    "            xP = np.zeros(len(hist[0]))\n",
    "            for k in range(len(PDF)):\n",
    "                a, b = hist[1][k]*kpc, hist[1][k+1]*kpc\n",
    "                xP[k] = (a+b)/2./kpc\n",
    "                PDF[k] = quad(pdf, a,b, args=(l*kpc/c_light, 0.1))[0]*N\n",
    "            t = l*kpc/c_light\n",
    "            s = '%.2e' % t\n",
    "            axes[i].plot(xP, PDF, color=colors[j], label='t = '+s+' s', zorder=10)\n",
    "            #axes[i].legend(loc='best')\n",
    "            axes[i].set_xlim(0., 0.1)\n",
    "        else:\n",
    "            abs(df[df.D==l][x_i]).hist(bins=np.linspace(0, 0.5, 11), ax=axes[i], alpha=1., zorder=3-j, color=colors[j])\n",
    "            hist = np.histogram(abs(df[df.D==l][x_i]), bins=np.linspace(0,0.5,11))\n",
    "            PDF = np.zeros(len(hist[0]))\n",
    "            xP = np.zeros(len(hist[0]))\n",
    "            for k in range(len(PDF)):\n",
    "                a, b = hist[1][k]*kpc, hist[1][k+1]*kpc\n",
    "                xP[k] = (a+b)/2./kpc\n",
    "                PDF[k] = quad(pdf, a,b, args=(l*kpc/c_light, 1.))[0]*N\n",
    "            \n",
    "            axes[i].plot(xP, PDF, color=colors[j], label='t = '+s+' s', zorder=10) \n",
    "            axes[i].set_xlim(0., 0.5)\n",
    "        ChiDict[str(x_i)][str(l)]['Obs'] = hist[0]\n",
    "        ChiDict[str(x_i)][str(l)]['Exp'] = PDF\n",
    "\n",
    "        axes[i].set_xlabel('Distance [kpc]')\n",
    "        axes[i].legend(loc='best')\n",
    "        axes[i].set_title(x_i)\n",
    "    if i>0:\n",
    "        axes[i].set_yticklabels([])\n",
    "    else:\n",
    "         axes[i].set_ylabel(\"number density\")\n",
    "        \n",
    "plt.legend()\n",
    "plt.tight_layout()\n",
    "plt.show()"
   ]
  },
  {
   "cell_type": "markdown",
   "metadata": {},
   "source": [
    "${\\mathrm{\\bf Fig 2:}}$ The distance from the source position follows nicely the expected pdf."
   ]
  },
  {
   "cell_type": "markdown",
   "metadata": {},
   "source": [
    "#### Calculate the pValue of the $\\chi^2$-test to prove the visual statement from above."
   ]
  },
  {
   "cell_type": "code",
   "execution_count": 7,
   "metadata": {},
   "outputs": [
    {
     "data": {
      "text/html": [
       "<div>\n",
       "<style scoped>\n",
       "    .dataframe tbody tr th:only-of-type {\n",
       "        vertical-align: middle;\n",
       "    }\n",
       "\n",
       "    .dataframe tbody tr th {\n",
       "        vertical-align: top;\n",
       "    }\n",
       "\n",
       "    .dataframe thead th {\n",
       "        text-align: right;\n",
       "    }\n",
       "</style>\n",
       "<table border=\"1\" class=\"dataframe\">\n",
       "  <thead>\n",
       "    <tr style=\"text-align: right;\">\n",
       "      <th></th>\n",
       "      <th></th>\n",
       "      <th>p-Value</th>\n",
       "    </tr>\n",
       "    <tr>\n",
       "      <th>Coordinate</th>\n",
       "      <th>Time [s]</th>\n",
       "      <th></th>\n",
       "    </tr>\n",
       "  </thead>\n",
       "  <tbody>\n",
       "    <tr>\n",
       "      <td rowspan=\"3\" valign=\"top\">X</td>\n",
       "      <td>1.03e+12</td>\n",
       "      <td>0.988314</td>\n",
       "    </tr>\n",
       "    <tr>\n",
       "      <td>5.15e+12</td>\n",
       "      <td>0.379516</td>\n",
       "    </tr>\n",
       "    <tr>\n",
       "      <td>1.03e+13</td>\n",
       "      <td>0.340236</td>\n",
       "    </tr>\n",
       "    <tr>\n",
       "      <td rowspan=\"3\" valign=\"top\">Y</td>\n",
       "      <td>1.03e+12</td>\n",
       "      <td>0.763136</td>\n",
       "    </tr>\n",
       "    <tr>\n",
       "      <td>5.15e+12</td>\n",
       "      <td>0.391583</td>\n",
       "    </tr>\n",
       "    <tr>\n",
       "      <td>1.03e+13</td>\n",
       "      <td>0.786104</td>\n",
       "    </tr>\n",
       "    <tr>\n",
       "      <td rowspan=\"3\" valign=\"top\">Z</td>\n",
       "      <td>1.03e+12</td>\n",
       "      <td>0.618256</td>\n",
       "    </tr>\n",
       "    <tr>\n",
       "      <td>5.15e+12</td>\n",
       "      <td>0.885988</td>\n",
       "    </tr>\n",
       "    <tr>\n",
       "      <td>1.03e+13</td>\n",
       "      <td>0.367668</td>\n",
       "    </tr>\n",
       "  </tbody>\n",
       "</table>\n",
       "</div>"
      ],
      "text/plain": [
       "                      p-Value\n",
       "Coordinate Time [s]          \n",
       "X          1.03e+12  0.988314\n",
       "           5.15e+12  0.379516\n",
       "           1.03e+13  0.340236\n",
       "Y          1.03e+12  0.763136\n",
       "           5.15e+12  0.391583\n",
       "           1.03e+13  0.786104\n",
       "Z          1.03e+12  0.618256\n",
       "           5.15e+12  0.885988\n",
       "           1.03e+13  0.367668"
      ]
     },
     "execution_count": 7,
     "metadata": {},
     "output_type": "execute_result"
    }
   ],
   "source": [
    "C, Time, pValue = [], [], []\n",
    "for c in coord:\n",
    "    for l in L:\n",
    "        C.append(c)\n",
    "        t = l*kpc/c_light\n",
    "        s = '%.2e' % t\n",
    "        Time.append(s)\n",
    "        pValue.append(chisquare(ChiDict[c][str(l)]['Obs'], ChiDict[c][str(l)]['Exp'])[1])\n",
    "Chi = pd.DataFrame(pValue, index = [C, Time])\n",
    "Chi.rename(columns = {0:\"p-Value\"}, inplace=True)\n",
    "Chi.index.names = [\"Coordinate\", \"Time [s]\"]\n",
    "Chi"
   ]
  },
  {
   "cell_type": "markdown",
   "metadata": {},
   "source": [
    "${\\mathrm{\\bf Tab 1:}}$ The assumption that the two samples (observed and expected) are drawn from  the same distribution cannot be rejected for any direction."
   ]
  }
 ],
 "metadata": {
  "kernelspec": {
   "display_name": "Python 3",
   "language": "python",
   "name": "python3"
  },
  "language_info": {
   "codemirror_mode": {
    "name": "ipython",
    "version": 3
   },
   "file_extension": ".py",
   "mimetype": "text/x-python",
   "name": "python",
   "nbconvert_exporter": "python",
   "pygments_lexer": "ipython3",
   "version": "3.6.9"
  },
  "widgets": {
   "application/vnd.jupyter.widget-state+json": {
    "state": {},
    "version_major": 2,
    "version_minor": 0
   }
  }
 },
 "nbformat": 4,
 "nbformat_minor": 4
}
