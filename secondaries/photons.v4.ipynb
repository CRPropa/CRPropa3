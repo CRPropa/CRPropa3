{
 "cells": [
  {
   "cell_type": "markdown",
   "metadata": {
    "deletable": true,
    "editable": true
   },
   "source": [
    "# Photon Propagation\n"
   ]
  },
  {
   "cell_type": "code",
   "execution_count": 1,
   "metadata": {
    "collapsed": true,
    "deletable": true,
    "editable": true,
    "scrolled": true
   },
   "outputs": [],
   "source": [
    "from crpropa import *\n",
    "\n",
    "sim = ModuleList()\n",
    "sim.add(SimplePropagation())\n",
    "sim.add(Redshift())\n",
    "sim.add(EMPairProduction(CMB,True))\n",
    "sim.add(EMPairProduction(IRB_Gilmore12,True))\n",
    "sim.add(EMPairProduction(URB_Protheroe96,True))\n",
    "sim.add(EMDoublePairProduction(CMB,True))\n",
    "sim.add(EMDoublePairProduction(IRB_Gilmore12,True))\n",
    "sim.add(EMDoublePairProduction(URB_Protheroe96,True))\n",
    "sim.add(EMInverseComptonScattering(IRB_Gilmore12,True))\n",
    "sim.add(EMInverseComptonScattering(CMB,True))\n",
    "sim.add(EMInverseComptonScattering(URB_Protheroe96,True))\n",
    "sim.add(EMTripletPairProduction(CMB,True))\n",
    "sim.add(EMTripletPairProduction(IRB_Gilmore12,True))\n",
    "sim.add(EMTripletPairProduction(URB_Protheroe96,True))\n",
    "sim.add(MinimumEnergy(0.01 * EeV))\n",
    "obs = Observer()\n",
    "obs.add(ObserverPoint())\n",
    "obs.add(ObserverInactiveVeto())\n",
    "t = TextOutput(\"photon_electron_output.txt\",Output.Event1D)\n",
    "obs.onDetection(t)\n",
    "source = Source()\n",
    "source.add(SourcePosition(Vector3d(4,0,0)*Mpc))\n",
    "source.add(SourceRedshift1D())\n",
    "source.add(SourceParticleType(22))\n",
    "source.add(SourceEnergy(1000*EeV))\n",
    "sim.add(obs)\n",
    "sim.run(source,10000,True)\n"
   ]
  },
  {
   "cell_type": "markdown",
   "metadata": {
    "deletable": true,
    "editable": true
   },
   "source": [
    "### (Optional)  plotting of the results"
   ]
  },
  {
   "cell_type": "code",
   "execution_count": 2,
   "metadata": {
    "collapsed": false,
    "deletable": true,
    "editable": true,
    "scrolled": true
   },
   "outputs": [
    {
     "data": {
      "image/png": "[encoded data removed]",
      "text/plain": [
       "<Figure size 432x432 with 1 Axes>"
      ]
     },
     "metadata": {},
     "output_type": "display_data"
    }
   ],
   "source": [
    "%matplotlib inline\n",
    "from pylab import *\n",
    "\n",
    "t.close()\n",
    "figure(figsize=(6,6))\n",
    "\n",
    "a = loadtxt(\"photon_electron_output.txt\")\n",
    "E = logspace(16,23,71)\n",
    "idx = a[:,1] == 22\n",
    "photons = a[idx,2] * 1e18\n",
    "idx = fabs(a[:,1]) == 11\n",
    "ep = a[idx,2] * 1e18\n",
    "data,bins = histogram(photons,E)\n",
    "bincenter = (E[1:] -E[:-1])/2 + E[:-1]\n",
    "plot(bincenter, data,label=\"photons\")\n",
    "data,bins = histogram(ep,E)\n",
    "plot(bincenter, data, label=\"electrons / positrons\")\n",
    "grid()\n",
    "loglog()\n",
    "xlim(1e16, 1e21)\n",
    "ylim(1e2, 1e4)\n",
    "legend(loc=\"lower right\")\n",
    "xlabel(\"Energy [eV]\")\n",
    "ylabel(\"Number of Particles\")\n",
    "show()"
   ]
  },
  {
   "cell_type": "markdown",
   "metadata": {
    "deletable": true,
    "editable": true
   },
   "source": [
    "# Photon Propagation outside of CRPropa with EleCa and DINT\n",
    "\n",
    "There are two main ways to propagate electromagenetic particle (EM particles: photons, electrons, positrons) in CRPropa.\n",
    "1) propagation as part of the CRPropa simulation chain\n",
    "2) propagation outside of the CRPropa simulation chain\n",
    "\n",
    "The following describes option 2, for which CRPropa provides three functions.\n",
    "EM particles can either be propagated individually using the external EleCa code (suitable for high energies), or their spectra can be propapagated with the transport code DINT (suitable for low energies).\n",
    "Alternatively, a combined option is available that processes high energy photons with Eleca and then calculates the resulting spectra with DINT down to low energies.\n",
    "\n",
    "All three functions take as input a plain-text file with EM particles in the format given in the \"Photons from Proton Propagation\" example below.\n",
    "In the following examples the input file \"photon_monoenergetic_source.dat\" contains 1000 photons with E = 50 EeV from a photon source at 4 Mpc distance.\n",
    "\n",
    "The last example \"Photons from Proton Propagation\" shows how to obtain secondary EM particles from a simulation of hadronic cosmic rays.\n",
    "\n",
    "Note that the differing results in EleCa (and correspondingly the high energy part of the combined option) are due to an incorrect sampling of the background photon energies in EleCa. The EleCa support will be removed in the near future.\n",
    "\n"
   ]
  },
  {
   "cell_type": "markdown",
   "metadata": {
    "deletable": true,
    "editable": true
   },
   "source": [
    "### Propagation with EleCa\n"
   ]
  },
  {
   "cell_type": "code",
   "execution_count": 3,
   "metadata": {
    "collapsed": true,
    "deletable": true,
    "editable": true
   },
   "outputs": [],
   "source": [
    "import crpropa\n",
    "\n",
    "# Signature: ElecaPropagation(inputfile, outputfile, showProgress=True, lowerEnergyThreshold=5*EeV, magneticFieldStrength=1*nG, background=\"ALL\")\n",
    "crpropa.ElecaPropagation(\"photon_monoenergetic_source.dat\", \"photons_eleca.dat\", True, 0.1*crpropa.EeV, 0.1*crpropa.nG)\n",
    "\n"
   ]
  },
  {
   "cell_type": "markdown",
   "metadata": {
    "deletable": true,
    "editable": true
   },
   "source": [
    "### Propagation with DINT\n"
   ]
  },
  {
   "cell_type": "code",
   "execution_count": 4,
   "metadata": {
    "collapsed": true,
    "deletable": true,
    "editable": true
   },
   "outputs": [],
   "source": [
    "import crpropa\n",
    "\n",
    "# Signature: DintPropagation(inputfile, outputfile, IRFlag=4, RadioFlag=4, magneticFieldStrength=1*nG, aCutcascade_Magfield=0)\n",
    "crpropa.DintPropagation(\"photon_monoenergetic_source.dat\", \"spectrum_dint.dat\", 4, 4, 0.1*crpropa.nG)\n",
    "\n"
   ]
  },
  {
   "cell_type": "markdown",
   "metadata": {
    "deletable": true,
    "editable": true
   },
   "source": [
    "### Combined Propagation"
   ]
  },
  {
   "cell_type": "code",
   "execution_count": 5,
   "metadata": {
    "collapsed": true,
    "deletable": true,
    "editable": true
   },
   "outputs": [],
   "source": [
    "import crpropa\n",
    "\n",
    "# Signature: DintElecaPropagation(inputfile, outputfile, showProgress=True, crossOverEnergy=0.5*EeV, magneticFieldStrength=1*nG, aCutcascade_Magfield=0)\n",
    "crpropa.DintElecaPropagation(\"photon_monoenergetic_source.dat\", \"spectrum_dint_eleca.dat\", True, 0.5*crpropa.EeV, 0.1*crpropa.nG)\n"
   ]
  },
  {
   "cell_type": "markdown",
   "metadata": {
    "deletable": true,
    "editable": true
   },
   "source": [
    "### (Optional) Plotting of Results"
   ]
  },
  {
   "cell_type": "code",
   "execution_count": 6,
   "metadata": {
    "collapsed": false,
    "deletable": true,
    "editable": true
   },
   "outputs": [
    {
     "data": {
      "image/png": "[encoded data removed]",
      "text/plain": [
       "<Figure size 432x432 with 1 Axes>"
      ]
     },
     "metadata": {},
     "output_type": "display_data"
    }
   ],
   "source": [
    "%matplotlib inline\n",
    "from pylab import *\n",
    "\n",
    "figure(figsize=(6,6))\n",
    "\n",
    "loglog(clip_on=False)\n",
    "yscale(\"log\", nonposy='clip')\n",
    "xlabel('Energy [eV]')\n",
    "ylabel ('$E^2 dN/dE$  [a.u.]')\n",
    "\n",
    "# Plot the EleCa spectrum\n",
    "elecaPhotons = genfromtxt(\"photons_eleca.dat\")\n",
    "binEdges = 10**arange(12, 24, .1)\n",
    "logBinCenters = log10(binEdges[:-1]) + 0.5 * (log10(binEdges[1:]) - log10(binEdges[:-1]))\n",
    "binWidths = (binEdges[1:] - binEdges[:-1])\n",
    "data = histogram(elecaPhotons[:,1] * 1E18, bins=binEdges)\n",
    "J = data[0] / binWidths\n",
    "E = 10**logBinCenters\n",
    "step(E, J * E**2,  c='m', label='EleCa')\n",
    "\n",
    "#Plot the DINT spectrum\n",
    "data = genfromtxt(\"spectrum_dint.dat\", names=True)\n",
    "lE = data['logE']\n",
    "E  = 10**lE\n",
    "dE = 10**(lE + 0.05) - 10**(lE - 0.05)\n",
    "J  = data['photons'] / dE\n",
    "step(E, J * E**2 , c='b', where='mid', label='DINT')\n",
    "\n",
    "#Plot the combined DINT+EleCa spectrum\n",
    "data = genfromtxt(\"spectrum_dint_eleca.dat\", names=True)\n",
    "lE = data['logE']\n",
    "E  = 10**lE\n",
    "dE = 10**(lE + 0.05) - 10**(lE - 0.05)\n",
    "J  = data['photons'] / dE\n",
    "step(E, J * E**2 , c='r', where='mid', label='Combined')\n",
    "\n",
    "# Nice limits\n",
    "xlim(1e14, 1e20)\n",
    "ylim(bottom=1e17)\n",
    "legend(loc='upper left')\n",
    "show()"
   ]
  },
  {
   "cell_type": "markdown",
   "metadata": {
    "deletable": true,
    "editable": true
   },
   "source": [
    "## Photons from Proton Propagation\n",
    "\n",
    "The generaton of photons has to be enabled for the individual energy-loss processes in the module chain. Also, separate photon output can be added:"
   ]
  },
  {
   "cell_type": "code",
   "execution_count": 7,
   "metadata": {
    "collapsed": false,
    "deletable": true,
    "editable": true
   },
   "outputs": [],
   "source": [
    "from crpropa import *\n",
    "\n",
    "# source setup\n",
    "source = Source()\n",
    "source.add(SourceParticleType(nucleusId(1, 1)))\n",
    "source.add(SourcePowerLawSpectrum(10 * EeV, 100 * EeV, -2))\n",
    "source.add(SourceUniform1D(3 * Mpc, 100.00001 * Mpc))\n",
    "\n",
    "# setup module list for proton propagation\n",
    "m = ModuleList()\n",
    "m.add(SimplePropagation(0, 10 * Mpc))\n",
    "m.add(MinimumEnergy(1 * EeV))\n",
    "\n",
    "# observer\n",
    "obs1 = Observer() # proton output\n",
    "obs1.add( ObserverPoint() )\n",
    "obs1.add( ObserverPhotonVeto() ) # we don't want photons here\n",
    "obs1.onDetection( TextOutput('proton_output.txt', Output.Event1D) )\n",
    "m.add(obs1)\n",
    "obs2 = Observer() # photon output\n",
    "obs2.add( ObserverDetectAll() ) # stores the photons at creation without propagating them\n",
    "obs2.add( ObserverNucleusVeto() ) # we don't want hadrons here\n",
    "out2 = TextOutput('photon_output.txt', Output.Event1D)\n",
    "out2.enable(Output.CreatedIdColumn) # enables the necessary columns to be compatible with the DINT and EleCa propagation\n",
    "out2.enable(Output.CreatedEnergyColumn)\n",
    "out2.enable(Output.CreatedPositionColumn)\n",
    "obs2.onDetection( out2 )\n",
    "m.add(obs2)\n",
    "\n",
    "# secondary electrons are disabled here\n",
    "m.add(ElectronPairProduction(CMB, False))\n",
    "# enable secondary photons\n",
    "m.add(PhotoPionProduction(CMB, True))\n",
    "\n",
    "# run simulation\n",
    "m.run(source, 10000, True)"
   ]
  },
  {
   "cell_type": "markdown",
   "metadata": {
    "deletable": true,
    "editable": true
   },
   "source": [
    "The file 'photon_output.txt' will contain approximately 300 photons and can be processed as the photon example above."
   ]
  }
 ],
 "metadata": {
  "kernelspec": {
   "display_name": "Python 3",
   "language": "python",
   "name": "python3"
  },
  "language_info": {
   "codemirror_mode": {
    "name": "ipython",
    "version": 3
   },
   "file_extension": ".py",
   "mimetype": "text/x-python",
   "name": "python",
   "nbconvert_exporter": "python",
   "pygments_lexer": "ipython3",
   "version": "3.5.2"
  }
 },
 "nbformat": 4,
 "nbformat_minor": 1
}
