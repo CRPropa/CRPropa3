{
 "metadata": {
  "kernelspec": {
   "display_name": "Python 2",
   "language": "python",
   "name": "python2"
  },
  "language_info": {
   "codemirror_mode": {
    "name": "ipython",
    "version": 2
   },
   "file_extension": ".py",
   "mimetype": "text/x-python",
   "name": "python",
   "nbconvert_exporter": "python",
   "pygments_lexer": "ipython2",
   "version": "2.7.10"
  },
  "name": ""
 },
 "nbformat": 3,
 "nbformat_minor": 0,
 "worksheets": [
  {
   "cells": [
    {
     "cell_type": "markdown",
     "metadata": {},
     "source": [
      "# Basics\n",
      "The following is a tour of the basic layout of CRPropa 3, showing how to setup and run a 1D simulation of the extragalactic propagation of UHECR protons from a Python shell.\n",
      "\n",
      "### Simulation setup\n",
      "We start with a ```ModuleList```, which is a container for simulation modules, and represents the simulation.\n",
      "\n",
      "The first module in a simulation should be a propagation module, which will move the cosmic rays. In a 1D simulation magnetic deflections of charged particles are not considered, thus we can use the ```SimplePropagation``` for rectalinear propagation.\n",
      "\n",
      "Next we add modules for photo-pion and electron-pair production with the cosmic microwave background and a module for neutron and nuclear decay. Finally we add a minimum energy requirement: Cosmic rays are stopped once they reach a the minimum energy.\n",
      "\n",
      "**Note** that all input, output and internal calculations are done using SI-units to enforce expressive statements such as ```E = 1 * EeV``` or ```D = 100 * Mpc```."
     ]
    },
    {
     "cell_type": "code",
     "collapsed": false,
     "input": [
      "from crpropa import *\n",
      "\n",
      "# simulation: a sequence of simulation modules\n",
      "sim = ModuleList()\n",
      "\n",
      "# add propagator for rectalinear propagation\n",
      "sim.add( SimplePropagation() )\n",
      "\n",
      "# add interaction modules\n",
      "sim.add( PhotoPionProduction(CMB) )\n",
      "sim.add( ElectronPairProduction(CMB) )\n",
      "sim.add( NuclearDecay() )\n",
      "sim.add( MinimumEnergy( 1 * EeV) )"
     ],
     "language": "python",
     "metadata": {},
     "outputs": [],
     "prompt_number": 1
    },
    {
     "cell_type": "markdown",
     "metadata": {},
     "source": [
      "The simulation can now be used to propagate a cosmic ray, which is called candidate. We create a 100 EeV proton and propagate it using the simulation. The propagation stops when the energy drops below the minimum energy requirement that was specified. The possible propagation distances are rather long since we are neglecting cosmology in this example."
     ]
    },
    {
     "cell_type": "code",
     "collapsed": false,
     "input": [
      "cosmicray = Candidate(nucleusId(1,1), 200 * EeV, Vector3d(100 * Mpc, 0, 0))\n",
      "\n",
      "sim.run(cosmicray)\n",
      "print cosmicray\n",
      "print 'Propagated distance', cosmicray.getTrajectoryLength() / Mpc, 'Mpc'"
     ],
     "language": "python",
     "metadata": {},
     "outputs": [
      {
       "output_type": "stream",
       "stream": "stdout",
       "text": [
        "CosmicRay at z = 0\n",
        "  source:  Particle 1000010010, E = 200 EeV, x = 100 0 0 Mpc, p = -1 0 0\n",
        "  current: Particle 1000010010, E = 0.999783 EeV, x = -14707.3 0 0 Mpc, p = -1 0 0\n",
        "Propagated distance 14807.3124194 Mpc\n"
       ]
      }
     ],
     "prompt_number": 2
    },
    {
     "cell_type": "markdown",
     "metadata": {},
     "source": [
      "### Defining an observer\n",
      "\n",
      "To define an observer within the simulation we create a ```Observer``` object.\n",
      "The convention of 1D simulations is that cosmic rays, starting from positive coordinates, propagate in the negative direction until the reach the observer at 0. Only the x-coordinate is used in the three-vectors that represent position and momentum."
     ]
    },
    {
     "cell_type": "code",
     "collapsed": false,
     "input": [
      "# add an observer\n",
      "obs = Observer()\n",
      "obs.add( ObserverPoint() )  # observer at x = 0\n",
      "sim.add(obs)\n",
      "print obs"
     ],
     "language": "python",
     "metadata": {},
     "outputs": [
      {
       "output_type": "stream",
       "stream": "stdout",
       "text": [
        "Observer\n",
        "    ObserverPoint: observer at x = 0\n",
        "    Flag: '' -> ''\n",
        "    MakeInactive: yes\n",
        "\n"
       ]
      }
     ],
     "prompt_number": 3
    },
    {
     "cell_type": "markdown",
     "metadata": {},
     "source": [
      "### Defining the output file \n",
      "We want to save the propagated cosmic rays to an output file.\n",
      "Plain text output is provided by the TextOutput module. The information being stored can individually configured, or one of the presets \"1D events\", \"3D events\", \"1D trajectories\" and \"3D trajectories\" can be used."
     ]
    },
    {
     "cell_type": "code",
     "collapsed": true,
     "input": [
      "# trajectory output\n",
      "output1 = TextOutput('trajectories.txt', '1D trajectories')\n",
      "#sim.add(output1)  # generates a lot of output"
     ],
     "language": "python",
     "metadata": {},
     "outputs": [],
     "prompt_number": 4
    },
    {
     "cell_type": "markdown",
     "metadata": {},
     "source": [
      "In the example above ```output1``` is added to the module list, and would thus be called on every propagation step to write out the cosmic ray information. \n",
      "To only save cosmic rays that reach our observer, we add an output to the observer that we previously defined."
     ]
    },
    {
     "cell_type": "code",
     "collapsed": true,
     "input": [
      "# event output\n",
      "output2 = TextOutput('events.txt', '1D events')\n",
      "obs.onDetection(output2)"
     ],
     "language": "python",
     "metadata": {},
     "outputs": [],
     "prompt_number": 5
    },
    {
     "cell_type": "markdown",
     "metadata": {},
     "source": [
      "Similary, the output could linked to the ```MinimumEnergy``` module to save those cosmic rays that fall below the minimum energy, and so on."
     ]
    },
    {
     "cell_type": "markdown",
     "metadata": {},
     "source": [
      "### Defining the source\n",
      "To avoid setting each individual cosmic ray by hand we defince a cosmic ray source.\n",
      "The source is located at a distance of 100 Mpc and accelerates protons with a power law spectrum and energies between 1 - 200 EeV."
     ]
    },
    {
     "cell_type": "code",
     "collapsed": false,
     "input": [
      "# cosmic ray source\n",
      "source = Source()\n",
      "source.add( SourcePosition(100 * Mpc) )\n",
      "source.add( SourceParticleType(nucleusId(1, 1)) )\n",
      "source.add( SourcePowerLawSpectrum(1 * EeV, 200 * EeV, -1) )\n",
      "print source"
     ],
     "language": "python",
     "metadata": {},
     "outputs": [
      {
       "output_type": "stream",
       "stream": "stdout",
       "text": [
        "Cosmic ray source\n",
        "    SourcePosition: 100 0 0 Mpc\n",
        "    SourceParticleType: 1000010010\n",
        "    SourcePowerLawSpectrum: Random energy E = 1 - 200 EeV, dN/dE ~ E^-1\n",
        "\n"
       ]
      }
     ],
     "prompt_number": 6
    },
    {
     "cell_type": "markdown",
     "metadata": {},
     "source": [
      "### Running the simulation\n",
      "\n",
      "Finally we run the simulation to inject and propagate 10000 cosmic rays. An optional progress bar can show the progress of the simulation."
     ]
    },
    {
     "cell_type": "code",
     "collapsed": false,
     "input": [
      "sim.setShowProgress(True)  # switch on the progress bar\n",
      "sim.run(source, 10000)"
     ],
     "language": "python",
     "metadata": {},
     "outputs": [],
     "prompt_number": 7
    },
    {
     "cell_type": "markdown",
     "metadata": {},
     "source": [
      "### (Optional) Plotting\n",
      "\n",
      "Next we are going to plot the energy spectrum of detected particles to observe the GZK suppression.\n",
      "The plotting is done here using matplotlib, but of course you can use whatever plotting tool you prefer."
     ]
    },
    {
     "cell_type": "code",
     "collapsed": false,
     "input": [
      "%matplotlib inline\n",
      "import matplotlib.pyplot as plt\n",
      "import numpy as np\n",
      "\n",
      "data = np.genfromtxt('events.txt', names=True)\n",
      "print 'Number of events', len(data)\n",
      "\n",
      "logE0 = np.log10(data['E0']) + 18\n",
      "logE  = np.log10(data['E']) + 18\n",
      "\n",
      "plt.figure(figsize=(10, 7))\n",
      "h1 = plt.hist(logE0, bins=25, range=(18, 20.5), histtype='stepfilled', alpha=0.5, label='At source')\n",
      "h2 = plt.hist(logE,  bins=25, range=(18, 20.5), histtype='stepfilled', alpha=0.5, label='Observed')\n",
      "plt.xlabel('log(E/eV)')\n",
      "plt.ylabel('N(E)')\n",
      "plt.legend(loc = 'upper left', fontsize=20)\n"
     ],
     "language": "python",
     "metadata": {},
     "outputs": [
      {
       "output_type": "stream",
       "stream": "stdout",
       "text": [
        "Number of events 9836\n"
       ]
      },
      {
       "metadata": {},
       "output_type": "pyout",
       "prompt_number": 8,
       "text": [
        "<matplotlib.legend.Legend at 0x7f9bec888dd0>"
       ]
      },
      {
       "metadata": {},
       "output_type": "display_data",
       "png": "[encoded data removed]",
       "text": [
        "<matplotlib.figure.Figure at 0x7f9bfde59a10>"
       ]
      }
     ],
     "prompt_number": 8
    },
    {
     "cell_type": "code",
     "collapsed": false,
     "input": [],
     "language": "python",
     "metadata": {},
     "outputs": [],
     "prompt_number": null
    }
   ],
   "metadata": {}
  }
 ]
}