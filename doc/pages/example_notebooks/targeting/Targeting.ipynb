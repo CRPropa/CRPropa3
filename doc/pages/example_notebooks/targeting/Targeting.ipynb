{
 "cells": [
  {
   "cell_type": "markdown",
   "metadata": {},
   "source": [
    "## The targeting algorithm of CRPropa\n",
    "\n",
    "Here we will introduce you to the targeting algorithm in CRPropa, which emits particles from their sources using a von-Mises-Fisher distribution instead of an isotropic distribution. After emission from their sources, the particles get a weight assigned to them so that the resulting distribution at the observer can be reweighted to resemble an isotropically emitted distribution from the sources. This can lead to significantly larger number of hits compared with starting with an isotropic emission."
   ]
  },
  {
   "cell_type": "markdown",
   "metadata": {},
   "source": [
    "### A simple example on how to use the targeting algorithm of CRPropa"
   ]
  },
  {
   "cell_type": "code",
   "execution_count": 1,
   "metadata": {},
   "outputs": [],
   "source": [
    "import numpy as np\n",
    "from crpropa import *\n",
    "\n",
    "# Create a random magnetic-field setup\n",
    "randomSeed = 42\n",
    "turbSpectrum = SimpleTurbulenceSpectrum(0.2*nG, 200*kpc, 2*Mpc, 5./3.)\n",
    "gridprops = GridProperties(Vector3d(0), 256, 100*kpc)\n",
    "BField = SimpleGridTurbulence(turbSpectrum, gridprops, randomSeed)\n",
    "\n",
    "# Cosmic-ray propagation in magnetic fields without interactions\n",
    "sim = ModuleList()\n",
    "sim.add(PropagationCK(BField))\n",
    "sim.add(MaximumTrajectoryLength(25 * Mpc))\n",
    "\n",
    "# Define an observer\n",
    "sourcePosition = Vector3d(2., 2., 2.) * Mpc\n",
    "obsPosition = Vector3d(2., 10., 2.) * Mpc\n",
    "obsRadius = 2. * Mpc\n",
    "\n",
    "obs = Observer()\n",
    "obs.add(ObserverSurface( Sphere(obsPosition, obsRadius)))\n",
    "obs.setDeactivateOnDetection(True)\n",
    "FilenameObserver = 'TargetedEmission.txt'\n",
    "output = TextOutput(FilenameObserver)\n",
    "obs.onDetection(output)\n",
    "sim.add(obs)\n",
    "    \n",
    "# Define the vMF source\n",
    "source = Source()\n",
    "source.add(SourcePosition(sourcePosition))\n",
    "source.add(SourceParticleType(nucleusId(1,1)))\n",
    "source.add(SourceEnergy(10. * EeV))\n",
    "\n",
    "# Here we need to add the vMF parameters\n",
    "mu = np.array([0.,1.,0.]) # The average direction emission, pointing from the source to the observer\n",
    "muvec = Vector3d(float(mu[0]), float(mu[1]), float(mu[2]))\n",
    "kappa = 100. # The concentration parameter, set to a relatively large value\n",
    "nparticles = 100000\n",
    "\n",
    "source.add(SourceDirectedEmission(muvec,kappa))\n",
    "\n",
    "#now we run the simulation\n",
    "sim.setShowProgress(True)\n",
    "sim.run(source, nparticles)\n",
    "output.close()"
   ]
  },
  {
   "cell_type": "markdown",
   "metadata": {},
   "source": [
    "### Plotting of the results"
   ]
  },
  {
   "cell_type": "code",
   "execution_count": 2,
   "metadata": {},
   "outputs": [
    {
     "data": {
      "image/png": "[encoded data removed]",
      "text/plain": [
       "<Figure size 612x388.8 with 2 Axes>"
      ]
     },
     "metadata": {
      "needs_background": "light"
     },
     "output_type": "display_data"
    }
   ],
   "source": [
    "import healpy as hp\n",
    "import matplotlib.pylab as plt\n",
    "\n",
    "crdata = np.genfromtxt('TargetedEmission.txt')\n",
    "Id = crdata[:,3]\n",
    "E = crdata[:,4] * EeV\n",
    "px = crdata[:,8]\n",
    "py = crdata[:,9]\n",
    "pz = crdata[:,10]\n",
    "w = crdata[:,29]\n",
    "lons = np.arctan2(-1. * py, -1. *px)\n",
    "lats = np.pi / 2 - np.arccos( -pz / np.sqrt(px*px + py*py+ pz*pz) )\n",
    "\n",
    "M = ParticleMapsContainer()\n",
    "for i in range(len(E)):\n",
    "    M.addParticle(int(Id[i]), E[i], lons[i], lats[i], w[i])\n",
    "\n",
    "#stack all maps\n",
    "crMap = np.zeros(49152)\n",
    "for pid in M.getParticleIds():\n",
    "    energies = M.getEnergies(int(pid))\n",
    "    for i, energy in enumerate(energies):\n",
    "        crMap += M.getMap(int(pid), energy * eV )\n",
    "\n",
    "#plot maps using healpy\n",
    "hp.mollview(map=crMap, title='Targeted emission')\n",
    "plt.show()"
   ]
  },
  {
   "cell_type": "markdown",
   "metadata": {},
   "source": [
    "### A learning algorithm to obtain optimal values for mu and kappa"
   ]
  },
  {
   "cell_type": "code",
   "execution_count": 3,
   "metadata": {},
   "outputs": [],
   "source": [
    "import numpy as np\n",
    "from crpropa import *\n",
    "import os.path\n",
    "import time\n",
    "\n",
    "def run_batch(mu,kappa,nbatch,epoch):\n",
    "    # Setup new batch simulation\n",
    "    def run_sim(mu,kappa,nbatch,epoch):\n",
    "        sim = ModuleList()\n",
    "        sim.add( SimplePropagation(5.*parsec, 0.5*Mpc) )\n",
    "        sim.add(MaximumTrajectoryLength(2000.*Mpc))\n",
    "\n",
    "        sourcePosition = Vector3d(100., 0., 0.) * Mpc\n",
    "        obsPosition = Vector3d(0., 0., 0.) * Mpc\n",
    "\n",
    "        obs = Observer()\n",
    "        obs.add(ObserverSurface( Sphere(sourcePosition, 50. * parsec)))\n",
    "        obs.setDeactivateOnDetection(False)\n",
    "        FilenameSource = 'SourceEmission_'+str(epoch)+'.txt'\n",
    "        output1 = TextOutput(FilenameSource)\n",
    "        obs.onDetection(output1)\n",
    "        sim.add(obs)\n",
    "\n",
    "        obs2 = Observer()\n",
    "        obs2.add(ObserverSurface( Sphere(obsPosition, 10.*Mpc)))\n",
    "        obs2.setDeactivateOnDetection(True)\n",
    "        FilenameObserver = 'Observer_'+str(epoch)+'.txt'\n",
    "        output2 = TextOutput(FilenameObserver)\n",
    "        obs2.onDetection(output2)\n",
    "        sim.add(obs2)\n",
    "    \n",
    "        # Define the vMF source\n",
    "        source = Source()\n",
    "        source.add(SourcePosition(sourcePosition))\n",
    "        source.add(SourceParticleType(nucleusId(1,1)))\n",
    "        source.add(SourceEnergy(1 * EeV))\n",
    "    \n",
    "        # Here we need to add the vMF parameters\n",
    "        muvec = Vector3d(float(mu[0]), float(mu[1]), float(mu[2]))\n",
    "        source.add(SourceDirectedEmission(muvec,kappa))\n",
    "        \n",
    "        # Now we run the simulation\n",
    "        sim.setShowProgress(True)\n",
    "        sim.run(source, nbatch)\n",
    "        output1.close()\n",
    "        output2.close()\n",
    "        \n",
    "    run_sim(mu,kappa,nbatch,epoch)    \n",
    "    \n",
    "    # Get ids of particles hitting the source\n",
    "    while not os.path.exists('Observer_'+str(epoch)+'.txt'):\n",
    "        time.sleep(1)\n",
    "    idhit = np.loadtxt('Observer_'+str(epoch)+'.txt', usecols=(2), unpack=True)\n",
    "    \n",
    "    # Get emission directions of particles\n",
    "    virtualfile = open('SourceEmission_'+str(epoch)+'.txt')\n",
    "    ids, px,py,pz = np.loadtxt(virtualfile, usecols=(2,8,9,10), unpack=True) #, skiprows=10)\n",
    "    \n",
    "    indices = [np.where(ids==ii)[0][0] for ii in idhit]\n",
    "    \n",
    "    x=np.array([px[indices],py[indices],pz[indices]]).T\n",
    "\n",
    "    return x\n",
    "    \n",
    "\n",
    "def pdf_vonMises(x,mu,kappa):\n",
    "    # See eq. (3.1) of PoS (ICRC2019) 447\n",
    "    res=kappa*np.exp(-kappa*(1-x.dot(mu)))/(2.*np.pi*(1.-np.exp(-2*kappa)))\n",
    "    return res\n",
    "\n",
    "def weight(x,mu,kappa):\n",
    "    # This routine calculates the reweighting for particles that should have been emitted according to 4pi\n",
    "    p0=1./(4.*np.pi)\n",
    "    p1=pdf_vonMises(x,mu,kappa)\n",
    "    res = p0/p1 \n",
    "    return res\n",
    "\n",
    "def estimate_mu_kappa(x,weights,probhit=0.9):\n",
    "    # This is a very simple learning algorithm\n",
    "    \n",
    "    #1) Just estimate the mean direction on the sky \n",
    "    aux = np.sum(np.array([x[:,0]*weights,x[:,1]*weights,x[:,2]*weights]),axis=1)\n",
    "    mu=aux/np.linalg.norm(aux) #NOTE: mu needs to be normalized\n",
    "    \n",
    "    #2) Estimate the disc of the target on the emission sky\n",
    "    aux = np.sum(((x[:,0]*mu[0])**2+(x[:,1]*mu[1])**2+(x[:,2]*mu[2])**2)*weights)/np.sum(weights)\n",
    "    \n",
    "    # Estimate kappa, such that on average the hit probability is probhit\n",
    "    kappa = np.log(1.-probhit)/(aux-1.) \n",
    "    \n",
    "    return mu,kappa\n",
    "\n",
    "def sample(mu,kappa,nbatch=100,probhit=0.9,nepoch=200):\n",
    "    batches_x=[]\n",
    "    batches_w=[]\n",
    "    mu_traj=[]\n",
    "    kappa_traj=[]\n",
    "    acceptance=[]\n",
    "    for e in np.arange(nepoch):\n",
    "        print('Processing epoch Nr.:',e)\n",
    "        \n",
    "        # Run CRPropa to generate a batch of particles\n",
    "        # CRPropa passes the initial normalised emission directions x\n",
    "        print('starting simulation...')\n",
    "        y=run_batch(mu,kappa,nbatch,e)\n",
    "        print('simulation done...')\n",
    "        \n",
    "        # Now calculate weights for the particles\n",
    "        weights = []\n",
    "        for xx in y:\n",
    "            weights.append(weight(xx,mu,kappa))\n",
    "        \n",
    "        # Change lists to arrays\n",
    "        y       = np.array(y)\n",
    "        weights = np.array(weights)\n",
    "        \n",
    "        # Learn the parameters of the emission vMF distribution\n",
    "        mu,kappa=estimate_mu_kappa(y,weights,probhit=probhit)\n",
    "        acceptance.append(len(y)/float(nbatch))\n",
    "        mu_traj.append(mu)\n",
    "        kappa_traj.append(kappa)\n",
    "        \n",
    "        batches_x.append(y)\n",
    "        batches_w.append(weights)\n",
    "        \n",
    "        \n",
    "    x = np.copy(batches_x[0])\n",
    "    w = np.copy(batches_w[0])\n",
    "    \n",
    "    for i in np.arange(1, len(batches_w)):\n",
    "        x=np.append(x, batches_x[i], axis=0)\n",
    "        w=np.append(w, batches_w[i], axis=0)\n",
    "        \n",
    "        \n",
    "    return x,w,np.array(acceptance),np.array(mu_traj),np.array(kappa_traj)\n"
   ]
  },
  {
   "cell_type": "code",
   "execution_count": 4,
   "metadata": {},
   "outputs": [
    {
     "name": "stdout",
     "output_type": "stream",
     "text": [
      "Processing epoch Nr.: 0\n",
      "starting simulation...\n",
      "simulation done...\n",
      "Processing epoch Nr.: 1\n",
      "starting simulation...\n",
      "simulation done...\n",
      "Processing epoch Nr.: 2\n",
      "starting simulation...\n",
      "simulation done...\n",
      "Processing epoch Nr.: 3\n",
      "starting simulation...\n",
      "simulation done...\n",
      "[[-9.99977342e-01  6.51613821e-03 -1.68982226e-03]\n",
      " [-9.99999983e-01  7.11244300e-06  1.84893357e-04]\n",
      " [-9.99999990e-01  1.19974426e-05  1.38933688e-04]\n",
      " [-9.99999849e-01  3.93475813e-04 -3.82886251e-04]]\n",
      "[464.32730192 458.36995118 459.55750364 459.07788569]\n"
     ]
    }
   ],
   "source": [
    "# Set initial values\n",
    "mu    = np.array([1,0,0])\n",
    "kappa = 0.00001 # We start with an almost 4pi kernel\n",
    "Phit  = 0.90 # Here we choose the desired hit probability. Note: it is a trade off between accuracy and exploration\n",
    "\n",
    "# Start the learning algorithm\n",
    "x,w,acceptance, mu_traj, kappa_traj = sample(mu,kappa,probhit=Phit,nbatch=100000,nepoch=4)\n",
    "print(mu_traj)\n",
    "print(kappa_traj)"
   ]
  },
  {
   "cell_type": "markdown",
   "metadata": {},
   "source": [
    "### Testing sampling results\n",
    "\n",
    "As can be seen in the following plot, the average sampling efficiency matches the desired hitting probability Phit:"
   ]
  },
  {
   "cell_type": "code",
   "execution_count": 5,
   "metadata": {},
   "outputs": [
    {
     "data": {
      "image/png": "[encoded data removed]",
      "text/plain": [
       "<Figure size 432x288 with 1 Axes>"
      ]
     },
     "metadata": {
      "needs_background": "light"
     },
     "output_type": "display_data"
    }
   ],
   "source": [
    "import matplotlib.pylab as plt\n",
    "\n",
    "plt.title('Acceptance rate as a function of epoch')\n",
    "plt.plot(acceptance, label='sample acceptance',color='black')\n",
    "plt.plot(acceptance*0+Phit, label='target acceptance',color='red')\n",
    "plt.xlabel(r'$n_{\\rm{epoch}}$')\n",
    "plt.ylabel('Acceptance rate')\n",
    "plt.legend()\n",
    "plt.show()"
   ]
  },
  {
   "cell_type": "code",
   "execution_count": null,
   "metadata": {},
   "outputs": [],
   "source": []
  }
 ],
 "metadata": {
  "kernelspec": {
   "display_name": "Python 3",
   "language": "python",
   "name": "python3"
  },
  "language_info": {
   "codemirror_mode": {
    "name": "ipython",
    "version": 3
   },
   "file_extension": ".py",
   "mimetype": "text/x-python",
   "name": "python",
   "nbconvert_exporter": "python",
   "pygments_lexer": "ipython3",
   "version": "3.7.6"
  }
 },
 "nbformat": 4,
 "nbformat_minor": 4
}
