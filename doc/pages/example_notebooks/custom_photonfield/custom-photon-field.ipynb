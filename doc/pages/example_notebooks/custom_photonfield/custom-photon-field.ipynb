{
 "cells": [
  {
   "cell_type": "markdown",
   "metadata": {},
   "source": [
    "# Custom Photon Fields"
   ]
  },
  {
   "attachments": {},
   "cell_type": "markdown",
   "metadata": {},
   "source": [
    "## Introduction\n",
    "\n",
    "To fully integrate custom photon fields into a CRPropa simulation **two** photon field classes for each photon field model have to be generated. This comes from the separation of the generation of tabulated data, e.g. interaction rates, of the actual propagation code. \n",
    "\n",
    "All tabulated files are precalculated with tools in the CRPropa-data repository (https://github.com/CRPropa/CRPropa3-data). Usually, the resulting data files are downloaded and moved to the correct location during the install process of CRPropa. For custom photon fields all relevant files have to be generated and copied to the correct location manually. Here, the first photon field class---inhereting from a base class in CRPropa-data---is used.\n",
    "\n",
    "In addition to all precalculated data files, CRPropa needs more functionality for photon targets. This is implemented by the implementation of the second photon field class---this time inhereting from a CRPropa module.\n",
    "\n",
    "### Downloading CRPropa-data\n",
    "The easiest way to get the relevant files is to download/clone the full repository. \n",
    "\n",
    "    git clone https://github.com/CRPropa/CRPropa3-data.git"
   ]
  },
  {
   "attachments": {},
   "cell_type": "markdown",
   "metadata": {},
   "source": [
    "### 1. Create a python class with your custom photon field (CRPropa-data)\n",
    "In this example we show the production of a custom photon field for two different cases. \n",
    "First we consider a photon field where the spectral number density is given by an analytical expression. We consider a powerlaw with a given slope  $\\alpha = -2.75$ in a maximal energy range [eMin = $10^{-3}$ eV, eMax = 1 eV]. \n",
    "\n",
    "The second example is based on a tabulated data file. Here, we use the ISRF model R12 presented in Porter, Johannesson, and Moskalenko, ApJ 846, 67 (2017), which can be downloaded from the GALPROP website: https://galprop.stanford.edu/download.php and is included in the crpropa installation. As CRPropa allows only for isotropic and homogeneous photon fields we use the field at position $(X = 0.0173648 \\, \\mathrm{kpc}, Y = 0.0984808 \\, \\mathrm{kpc})$.\n",
    "\n",
    "\n",
    "All photon fields must have the following mandatory parameters and functions:\n",
    "- name  (string):   name of the photon field, needed for the naming of the files\n",
    "- info  (string):   information tag used for the comments at the beginning of the file\n",
    "- redshift  (None/Array):     Determines if the photon field is redshift dependend. If None no redshift dependence is given. Otherwise the (tabulated) redshift must be provided as a 1D array\n",
    "- energy (Array):   Energies used to calculate files in data/Scaling (must be given in [$\\mathrm{eV}$]).\n",
    "- photonDensity (Array):    Spectral energy density used to calculate files in data/Scaling (must be given in [$\\mathrm{eV}^{-1}\\,\\mathrm{ccm}^{-1}$]).\n",
    "- getDensity    (function):     returns the spectral number density dn/deps(eps, z) at a given photon energy (eps) and redshift (z)\n",
    "- getEmin   (function):     returns the minimum effective photon energy\n",
    "- getEmax   (function):     returns the maximum effective photon energy"
   ]
  },
  {
   "cell_type": "code",
   "execution_count": 1,
   "metadata": {},
   "outputs": [],
   "source": [
    "import numpy as np\n",
    "import pandas as pd \n",
    "from scipy.interpolate import interp1d\n",
    "import warnings\n",
    "import os\n",
    "import sys\n",
    "import crpropa as crp\n",
    "from crpropa import eV, ccm, c_light, h_planck\n",
    "import subprocess\n",
    "\n",
    "\n",
    "#Change for path to the CRPropa data repository\n",
    "crpropa_data_path = \"/rest/CRPropa3-data/\"\n",
    "sys.path.append(crpropa_data_path)\n",
    "\n",
    "crpropa_share_path = \"/rest/venvs/crp_docu/share/crpropa/\"\n",
    "\n",
    "import photonField as pf\n",
    "import calc_all as ca\n",
    "\n",
    "import matplotlib.pyplot as plt # optional for plotting"
   ]
  },
  {
   "cell_type": "code",
   "execution_count": null,
   "metadata": {},
   "outputs": [],
   "source": [
    "class PowerlawPhotonField(pf.PhotonField):    \n",
    "\n",
    "    def __init__(self, norm = 1e20, slope = -2.75, eMin = 1e-3 * eV, eMax = 1 * eV):\n",
    "        \"\"\"\n",
    "            Initialize the photon field as a powerlaw with exponential cutoffs at both ends. \n",
    "            The slope, the normalization (n(eps = 1 eV)) and the minimal and maximal energy can be modified. \n",
    "        \"\"\"\n",
    "        super(PowerlawPhotonField, self).__init__()\n",
    "        self.name = \"PowerlawPhotonField\"\n",
    "        self.info = \"Single power law photon field with exponential cutoffs at both ends.\"\n",
    "        self.redshift = None\n",
    "        self.norm = norm\n",
    "        self.slope = slope\n",
    "        self.eMin = eMin\n",
    "        self.eMax = eMax\n",
    "        self.energy = np.logspace(np.log10(self.eMin),np.log10(self.eMax), 101) / eV\n",
    "        self.photonDensity = self.getDensity(self.energy * eV) / (eV**-1 * ccm**-1)\n",
    "    \n",
    "    def getDensity(self, eps, z = 0):\n",
    "        \"\"\"\n",
    "            Comoving spectral number density dn/deps [1/m^3/J] at given photon energy eps [J] and redshift z.\n",
    "            Multiply with (1+z)^3 for the physical number density.\n",
    "        \"\"\"\n",
    "        # array handling\n",
    "        if (type(eps) == np.ndarray):\n",
    "            return np.array([self.getDensity(_eps, z) for _eps in eps])\n",
    "        if (eps >= self.eMin) & (eps <= self.eMax):\n",
    "            return self.norm * (eps / eV)**self.slope\n",
    "        else:\n",
    "            return 0.\n",
    " \n",
    "    def getEmin(self):\n",
    "        \"\"\"Minimum effective photon energy in [J]\"\"\"\n",
    "        return self.eMin\n",
    "    \n",
    "    def getEmax(self):\n",
    "        \"\"\"Maximum effective photon energy in [J]\"\"\"\n",
    "        return self.eMax\n",
    "\n",
    "\n",
    "class ISRF(pf.PhotonField):    \n",
    "\n",
    "    def __init__(self, dataPath = crpropa_share_path+\"CustomPhotonField/isrf_example_field.dat\"):\n",
    "        super(ISRF, self).__init__()\n",
    "        self.name = \"ISRF\"\n",
    "        self.info = \"Inter Stellar Radiation Field. Model F98 from Porter+(2017)\"\n",
    "        self.redshift = None\n",
    "        names = [\"micron\", \"total\", \"direct\", \"scattered\", \"transient\", \"thermal\"]\n",
    "        df = pd.read_csv(dataPath, delimiter=\" \", names = names)\n",
    "        df[\"E\"] = h_planck * c_light / (df.micron * 1e-6)\n",
    "        df[\"n\"] = df.total *(eV / ccm) / df.E**2\n",
    "        self.data = df[df.total>1e-25] # limit nan-values \n",
    "        self.eMin = self.data[\"E\"].min()\n",
    "        self.eMax = self.data[\"E\"].max()\n",
    "\n",
    "        self.energy = df[\"E\"] / eV\n",
    "        self.photonDensity = df[\"n\"] / (eV**-1 * ccm**-1)\n",
    "\n",
    "    def getDensity(self, eps, z = 0):\n",
    "        \"\"\"\n",
    "            Comoving spectral number density dn/deps [1/m^3/J] at given photon energy eps [J] and redshift z.\n",
    "            Multiply with (1+z)^3 for the physical number density.\n",
    "        \"\"\"\n",
    "\n",
    "        f = interp1d(self.data[\"E\"], self.data[\"n\"], bounds_error=False, fill_value=0)\n",
    "        return f(eps)\n",
    " \n",
    "    def getEmin(self):\n",
    "        \"\"\"Minimum effective photon energy in [J]\"\"\"\n",
    "        return self.eMin\n",
    "    \n",
    "    def getEmax(self):\n",
    "        \"\"\"Maximum effective photon energy in [J]\"\"\"\n",
    "        return self.eMax\n",
    "    \n",
    "\n",
    "field = PowerlawPhotonField()\n",
    "isrf = ISRF()"
   ]
  },
  {
   "attachments": {},
   "cell_type": "markdown",
   "metadata": {},
   "source": [
    "#### Plotting (Optional)\n",
    "Here, both custom photon fields are plotted. Additionaly, the already implemented cosmic microwave background is plotted for comparison."
   ]
  },
  {
   "cell_type": "code",
   "execution_count": 2,
   "metadata": {},
   "outputs": [
    {
     "ename": "NameError",
     "evalue": "name 'field' is not defined",
     "output_type": "error",
     "traceback": [
      "\u001b[0;31m---------------------------------------------------------------------------\u001b[0m",
      "\u001b[0;31mNameError\u001b[0m                                 Traceback (most recent call last)",
      "\u001b[1;32m/rest/CRPropa3/doc/pages/example_notebooks/custom_photonfield/custom-photon-field.ipynb Cell 7\u001b[0m in \u001b[0;36m<cell line: 6>\u001b[0;34m()\u001b[0m\n\u001b[1;32m      <a href='vscode-notebook-cell://ssh-remote%2Bt20/rest/CRPropa3/doc/pages/example_notebooks/custom_photonfield/custom-photon-field.ipynb#W6sdnNjb2RlLXJlbW90ZQ%3D%3D?line=3'>4</a>\u001b[0m c \u001b[39m=\u001b[39m eps\u001b[39m*\u001b[39m\u001b[39m*\u001b[39m\u001b[39m2\u001b[39m \u001b[39m/\u001b[39m eV\u001b[39m*\u001b[39m\u001b[39m*\u001b[39m\u001b[39m2\u001b[39m\n\u001b[1;32m      <a href='vscode-notebook-cell://ssh-remote%2Bt20/rest/CRPropa3/doc/pages/example_notebooks/custom_photonfield/custom-photon-field.ipynb#W6sdnNjb2RlLXJlbW90ZQ%3D%3D?line=4'>5</a>\u001b[0m plt\u001b[39m.\u001b[39mfigure(dpi \u001b[39m=\u001b[39m \u001b[39m100\u001b[39m)\n\u001b[0;32m----> <a href='vscode-notebook-cell://ssh-remote%2Bt20/rest/CRPropa3/doc/pages/example_notebooks/custom_photonfield/custom-photon-field.ipynb#W6sdnNjb2RlLXJlbW90ZQ%3D%3D?line=5'>6</a>\u001b[0m y1 \u001b[39m=\u001b[39m c \u001b[39m*\u001b[39m field\u001b[39m.\u001b[39mgetDensity(eps)\n\u001b[1;32m      <a href='vscode-notebook-cell://ssh-remote%2Bt20/rest/CRPropa3/doc/pages/example_notebooks/custom_photonfield/custom-photon-field.ipynb#W6sdnNjb2RlLXJlbW90ZQ%3D%3D?line=6'>7</a>\u001b[0m y2 \u001b[39m=\u001b[39m c \u001b[39m*\u001b[39m field_cmb\u001b[39m.\u001b[39mgetDensity(eps)\n\u001b[1;32m      <a href='vscode-notebook-cell://ssh-remote%2Bt20/rest/CRPropa3/doc/pages/example_notebooks/custom_photonfield/custom-photon-field.ipynb#W6sdnNjb2RlLXJlbW90ZQ%3D%3D?line=7'>8</a>\u001b[0m y3 \u001b[39m=\u001b[39m c \u001b[39m*\u001b[39m isrf\u001b[39m.\u001b[39mgetDensity(eps)\n",
      "\u001b[0;31mNameError\u001b[0m: name 'field' is not defined"
     ]
    },
    {
     "data": {
      "text/plain": [
       "<Figure size 600x400 with 0 Axes>"
      ]
     },
     "metadata": {},
     "output_type": "display_data"
    }
   ],
   "source": [
    "field_cmb = pf.CMB()\n",
    "\n",
    "eps = np.logspace(-4, 2, 200) * eV\n",
    "c = eps**2 / eV**2\n",
    "plt.figure(dpi = 100)\n",
    "y1 = c * field.getDensity(eps)\n",
    "y2 = c * field_cmb.getDensity(eps)\n",
    "y3 = c * isrf.getDensity(eps)\n",
    "plt.plot(eps / eV, y1, label = \"powerlaw\")\n",
    "plt.plot(eps / eV, y2, label = \"CMB\") \n",
    "plt.plot(eps / eV, y3, label = \"ISRF (F98)\")\n",
    "\n",
    "plt.loglog()\n",
    "plt.legend(ncol = 3, loc= \"upper center\", bbox_to_anchor=(0.5, 1.12))\n",
    "plt.ylim([1e9, 1e27])\n",
    "\n",
    "plt.xlabel(\"$\\epsilon$ [eV]\")\n",
    "plt.ylabel(\"$\\epsilon^2 ~ dn/d\\epsilon$ [eV/m$^3$]\")\n",
    "plt.show()"
   ]
  },
  {
   "cell_type": "code",
   "execution_count": null,
   "metadata": {},
   "outputs": [],
   "source": [
    "df_cmb = pd.read_csv(crpropa_share_path+'/Scaling/CMB_photonDensity.txt', comment='#', names=['n'])\n",
    "df_cmb_e = pd.read_csv(crpropa_share_path+'/Scaling/CMB_photonEnergy.txt', comment='#', names=['e'])\n",
    "\n",
    "#df_cmb = pd.read_csv('/rest/venvs/crp_patrick/share/crpropa/Scaling/CMB_photonDensity.txt', comment='#', names=['n'])\n",
    "#df_cmb_e = pd.read_csv('/rest/venvs/crp_patrick/share/crpropa/Scaling/CMB_photonEnergy.txt', comment='#', names=['e'])\n",
    "\n",
    "#df_cmb = pd.read_csv('/rest/CRPropa3-data/data/Scaling/CMB_photonDensity.txt', comment='#', names=['n'])\n",
    "#df_cmb_e = pd.read_csv('/rest/CRPropa3-data/data/Scaling/CMB_photonEnergy.txt', comment='#', names=['e'])\n",
    "\n",
    "df_pwl = pd.read_csv('data/Scaling/PowerlawPhotonField_photonDensity.txt', comment='#', names=['n'])\n",
    "df_pwl_e = pd.read_csv('data/Scaling/PowerlawPhotonField_photonEnergy.txt', comment='#', names=['e'])\n",
    "\n",
    "df_isrf = pd.read_csv('data/Scaling/ISRF_photonDensity.txt', comment='#', names=['n'])\n",
    "df_isrf_e = pd.read_csv('data/Scaling/ISRF_photonEnergy.txt', comment='#', names=['e'])"
   ]
  },
  {
   "cell_type": "code",
   "execution_count": null,
   "metadata": {},
   "outputs": [],
   "source": [
    "plt.figure(dpi = 100)\n",
    "plt.plot(df_pwl_e.e/eV, df_pwl.n*df_pwl_e.e/eV**2)\n",
    "plt.plot(df_cmb_e.e/eV , df_cmb.n*df_cmb_e.e/eV**2)\n",
    "plt.plot(df_isrf_e.e/eV, df_isrf.n*df_isrf_e.e/eV**2)\n",
    "plt.loglog()\n",
    "plt.xlim(5e-5, 1e2)\n",
    "plt.ylim([1e9, 1e27])"
   ]
  },
  {
   "attachments": {},
   "cell_type": "markdown",
   "metadata": {},
   "source": [
    "### 2. Create tables for all photon field dependent processes \n",
    "\n",
    "Here, tables for all CRPropa interactions are calculated. This process takes some time (~15 minutes)."
   ]
  },
  {
   "cell_type": "code",
   "execution_count": null,
   "metadata": {},
   "outputs": [],
   "source": [
    "with warnings.catch_warnings(): # catch warnings from where density is approx 0 -> leads to division by zero errors\n",
    "    warnings.simplefilter(\"ignore\")\n",
    "    ca.createPhotonTargetInteractions([field, isrf])"
   ]
  },
  {
   "attachments": {},
   "cell_type": "markdown",
   "metadata": {},
   "source": [
    "### 3. Copy files to the share folder\n",
    "The files stored in \"CRPropa3-data/data\" must be copied in the share folder of the CRPropa installation. "
   ]
  },
  {
   "cell_type": "code",
   "execution_count": null,
   "metadata": {},
   "outputs": [],
   "source": [
    "subprocess.run(['cp', '-a', './data/.', crpropa_share_path])"
   ]
  },
  {
   "attachments": {},
   "cell_type": "markdown",
   "metadata": {},
   "source": [
    "### 4. Implementing custom PhotonField in CRPropa\n",
    "To fully implement a custom model in a CRPropa simulation an additional class definition---this time inhereting from CRPropa's *PhotonField* class---is needed. Two different implementations are needed for the power-law and interstellar radiation field, since the latter one must be implemented as a so called *TabularPhotonField*. The power-law photon field is realised with a simple python class:"
   ]
  },
  {
   "cell_type": "code",
   "execution_count": null,
   "metadata": {},
   "outputs": [],
   "source": [
    "class CustomPhotonField(crp.PhotonField):\n",
    "    \"\"\" analogue implementation like above but inheriting from the CRPropa module for compatibility\"\"\"\n",
    "\n",
    "    def __init__(self, name, norm = 1e20, slope = -2.75, eMin = 1e-3 * eV, eMax = 1 * eV):\n",
    "        crp.PhotonField.__init__(self)\n",
    "        self.setFieldName(name)\n",
    "        self.norm = norm\n",
    "        self.slope = slope\n",
    "        self.eMin = eMin\n",
    "        self.eMax = eMax\n",
    "\n",
    "    def getPhotnDensity(self, eps, z = 0.):\n",
    "        return self.norm * (eps / eV)**self.slope * np.exp(- eps / self.eMax - self.eMin / eps)\n",
    "    \n",
    "    \n",
    "    def getMinimumPhotonEnergy(self, z = 0):\n",
    "        return self.eMin\n",
    "    \n",
    "    def getMaximumPhotonEnergy(self, z = 0):\n",
    "        return self.eMax   \n",
    "\n",
    "powerlaw_field = CustomPhotonField(\"PowerlawPhotonField\")"
   ]
  },
  {
   "attachments": {},
   "cell_type": "markdown",
   "metadata": {},
   "source": [
    "The implementation for the interstellar radiation field is even easier as a base class for the tabular photon field exists:"
   ]
  },
  {
   "cell_type": "code",
   "execution_count": null,
   "metadata": {},
   "outputs": [],
   "source": [
    "isrf_field = crp.TabularPhotonField(\"ISRF\", False)"
   ]
  },
  {
   "attachments": {},
   "cell_type": "markdown",
   "metadata": {},
   "source": [
    "### 5. Check implementation\n",
    "To check the new photon fields all interactions depending on photon target are added to a *ModuleList*. If the installation was done correctly this should run without any error meaning all interaction can be used.  "
   ]
  },
  {
   "cell_type": "code",
   "execution_count": null,
   "metadata": {},
   "outputs": [],
   "source": [
    "sim = crp.ModuleList()\n",
    "\n",
    "sim.add(crp.ElasticScattering(powerlaw_field))\n",
    "sim.add(crp.ElasticScattering(isrf_field))\n",
    "\n",
    "\n",
    "sim.add(crp.EMPairProduction(powerlaw_field))\n",
    "sim.add(crp.EMPairProduction(isrf_field))\n",
    "\n",
    "sim.add(crp.EMDoublePairProduction(powerlaw_field))\n",
    "sim.add(crp.EMDoublePairProduction(isrf_field))\n",
    "\n",
    "sim.add(crp.EMTripletPairProduction(powerlaw_field))\n",
    "sim.add(crp.EMTripletPairProduction(isrf_field))\n",
    "\n",
    "sim.add(crp.EMInverseComptonScattering(powerlaw_field))\n",
    "sim.add(crp.EMInverseComptonScattering(isrf_field))\n",
    "\n",
    "sim.add(crp.PhotoDisintegration(powerlaw_field))\n",
    "sim.add(crp.PhotoDisintegration(isrf_field))\n",
    "\n",
    "sim.add(crp.PhotoPionProduction(powerlaw_field))\n",
    "sim.add(crp.PhotoPionProduction(isrf_field))\n",
    "\n",
    "sim.add(crp.ElectronPairProduction(powerlaw_field))\n",
    "sim.add(crp.ElectronPairProduction(isrf_field))\n",
    "\n",
    "print(\"Everything works fine\")"
   ]
  },
  {
   "cell_type": "code",
   "execution_count": null,
   "metadata": {},
   "outputs": [],
   "source": [
    "crpCMB = crp.CMB() #T_CMB = 2.73 --> Leading to small differences \n",
    "crpCMB2 = crp.BlackbodyPhotonField(\"CMBTest\", 2.72548)"
   ]
  },
  {
   "cell_type": "code",
   "execution_count": null,
   "metadata": {},
   "outputs": [],
   "source": [
    "print( crpCMB.getFieldName())\n",
    "print( crpCMB.getMaximumPhotonEnergy(0))\n",
    "print( crpCMB.getMinimumPhotonEnergy(0))\n",
    "print( crpCMB.getPhotonDensity(1e-3*eV, 0))\n",
    "print( crpCMB.getRedshiftScaling(1))"
   ]
  },
  {
   "cell_type": "code",
   "execution_count": null,
   "metadata": {},
   "outputs": [],
   "source": [
    "print( crpCMB2.getFieldName())\n",
    "print( crpCMB2.getMaximumPhotonEnergy(0))\n",
    "print( crpCMB2.getMinimumPhotonEnergy(0))\n",
    "print( crpCMB2.getPhotonDensity(1e-3*eV, 0))\n",
    "print( crpCMB2.getRedshiftScaling(1))\n"
   ]
  },
  {
   "cell_type": "code",
   "execution_count": null,
   "metadata": {},
   "outputs": [],
   "source": [
    "print( field_cmb.name)\n",
    "print( field_cmb.getEmax(0))\n",
    "print( field_cmb.getEmin(0))\n",
    "print( field_cmb.getDensity(1e-3*eV, 0)*eV*1e-3)"
   ]
  },
  {
   "attachments": {},
   "cell_type": "markdown",
   "metadata": {},
   "source": [
    "### 6. Limitation\n",
    "For Bethe-Heitler pairproduction (*ElectronPairProduction*) secondary electrons cannot be injected into the simulation chain. This is due to a lack in the production of the needed tabulated data files. If you want to help to improve CRPropa take a look at the corresponding file (calc_pairproduction.py) in the CRPropa3-data repository (https://github.com/CRPropa/CRPropa3-data.git) and open a pull request."
   ]
  },
  {
   "cell_type": "code",
   "execution_count": null,
   "metadata": {},
   "outputs": [],
   "source": [
    "crp.ElectronPairProduction(powerlaw_field, True)"
   ]
  }
 ],
 "metadata": {
  "kernelspec": {
   "display_name": "crp_docu",
   "language": "python",
   "name": "python3"
  },
  "language_info": {
   "codemirror_mode": {
    "name": "ipython",
    "version": 3
   },
   "file_extension": ".py",
   "mimetype": "text/x-python",
   "name": "python",
   "nbconvert_exporter": "python",
   "pygments_lexer": "ipython3",
   "version": "3.9.2"
  },
  "orig_nbformat": 4,
  "vscode": {
   "interpreter": {
    "hash": "c416687c884a42c367c2f4b19e8bea2627679ca3202fbf20d972b7cd00ee0b77"
   }
  }
 },
 "nbformat": 4,
 "nbformat_minor": 2
}
