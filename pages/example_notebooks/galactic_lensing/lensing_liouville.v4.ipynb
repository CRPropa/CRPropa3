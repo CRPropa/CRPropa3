{
 "cells": [
  {
   "cell_type": "markdown",
   "metadata": {},
   "source": [
    "# Galactic Lensing - confirm liouville\n",
    "\n",
    "Galactic lensing can be applied with the requirement that Liouville's theorem\n",
    "holds, thus in this context: from an isotropic distribution outside the area\n",
    "of influence of the Galactic magnetic field follows an isotropic arrival\n",
    "distribution at any point within our Galaxy.\n",
    "First, we are setting up the oberver which we will place further outside of\n",
    "the Galactic center than Earth to exaggerate the observed effects:"
   ]
  },
  {
   "cell_type": "code",
   "execution_count": null,
   "metadata": {},
   "outputs": [],
   "source": [
    "import crpropa\n",
    "import matplotlib.pyplot as plt\n",
    "import numpy as np\n",
    "\n",
    "n = 10000000\n",
    "\n",
    "# Simulation setup\n",
    "sim = crpropa.ModuleList()\n",
    "# We just need propagation in straight lines here to demonstrate the effect\n",
    "sim.add(crpropa.SimplePropagation())\n",
    "\n",
    "# collect arriving cosmic rays at Observer 19 kpc outside of the Galactic center\n",
    "# to exaggerate effects\n",
    "obs = crpropa.Observer()\n",
    "pos_earth = crpropa.Vector3d(-19, 0, 0) * crpropa.kpc\n",
    "# observer with radius 500 pc to collect fast reasonable statistics\n",
    "obs.add(crpropa.ObserverSurface(crpropa.Sphere(pos_earth, 0.5 * crpropa.kpc)))\n",
    "# Use crpropa's particle collector to only collect the cosmic rays at Earth\n",
    "output = crpropa.ParticleCollector()\n",
    "obs.onDetection(output)\n",
    "sim.add(obs)\n",
    "\n",
    "# Discard outwards going cosmic rays, that missed Earth and leave the Galaxy\n",
    "obs_trash = crpropa.Observer()\n",
    "obs_trash.add(crpropa.ObserverSurface(crpropa.Sphere(crpropa.Vector3d(0), 21 * crpropa.kpc)))\n",
    "sim.add(obs_trash)"
   ]
  },
  {
   "cell_type": "markdown",
   "metadata": {},
   "source": [
    "# Lambert's distribution\n",
    "For the source setup we have to consider that from an isotropic propagation\n",
    "in the Extragalactic universe, the directions on any surface element follows\n",
    "the Lambert's distribution (https://en.wikipedia.org/wiki/Lambert%27s_cosine_law).\n",
    "You could also phrase: vertical incident angles are more frequent due to the\n",
    "larger visible size of the area of the surface element than flat angles."
   ]
  },
  {
   "cell_type": "code",
   "execution_count": null,
   "metadata": {},
   "outputs": [],
   "source": [
    "# source setup\n",
    "source = crpropa.Source()\n",
    "# inward=True for inwards directed emission, and False for outwards directed emission\n",
    "center, radius, inward = crpropa.Vector3d(0, 0, 0) * crpropa.kpc, 20 * crpropa.kpc, True\n",
    "source.add(crpropa.SourceLambertDistributionOnSphere(center, radius, inward))\n",
    "source.add(crpropa.SourceParticleType(-crpropa.nucleusId(1, 1)))\n",
    "source.add(crpropa.SourceEnergy(100 * crpropa.EeV))\n",
    "\n",
    "sim.run(source, n)\n",
    "\n",
    "print(\"Number of hits: %i\" % len(output))\n",
    "lons = []\n",
    "for c in output:\n",
    "    v = c.current.getDirection()\n",
    "    lons.append(v.getPhi())\n",
    "\n",
    "plt.hist(np.array(lons), bins=30, color='k', histtype='step')\n",
    "plt.xlabel('lon', fontsize=20)\n",
    "plt.ylabel('counts', fontsize=20)\n",
    "plt.savefig('lon_distribution_lamberts.png', bbox_inches='tight')"
   ]
  },
  {
   "cell_type": "markdown",
   "metadata": {},
   "source": [
    "One can see, this results in an isotropic arrival distribution. Note, that one\n",
    "instead obtain anisotropies if one assumes an isotropic emission from sources\n",
    "that are distributed uniformly on the sphere shell by e.g.."
   ]
  },
  {
   "cell_type": "code",
   "execution_count": null,
   "metadata": {},
   "outputs": [],
   "source": [
    "source = crpropa.Source()\n",
    "source.add(crpropa.SourceUniformShell(center, radius))\n",
    "source.add(crpropa.SourceIsotropicEmission())\n",
    "source.add(crpropa.SourceParticleType(-crpropa.nucleusId(1, 1)))\n",
    "source.add(crpropa.SourceEnergy(100 * crpropa.EeV))\n",
    "\n",
    "sim.run(source, n)\n",
    "\n",
    "print(\"Number of hits: %i\" % len(output))\n",
    "lons = []\n",
    "for c in output:\n",
    "    v = c.current.getDirection()\n",
    "    lons.append(v.getPhi())\n",
    "\n",
    "plt.hist(np.array(lons), bins=30, color='k', histtype='step')\n",
    "plt.xlabel('lon', fontsize=20)\n",
    "plt.ylabel('counts', fontsize=20)\n",
    "plt.savefig('lon_distribution_double_isotropic.png', bbox_inches='tight')"
   ]
  }
 ],
 "metadata": {
  "kernelspec": {
   "display_name": "Python 3",
   "language": "python",
   "name": "python3"
  },
  "language_info": {
   "codemirror_mode": {
    "name": "ipython",
    "version": 2
   },
   "file_extension": ".py",
   "mimetype": "text/x-python",
   "name": "python",
   "nbconvert_exporter": "python",
   "pygments_lexer": "ipython2",
   "version": "2.7.16"
  }
 },
 "nbformat": 4,
 "nbformat_minor": 2
}
