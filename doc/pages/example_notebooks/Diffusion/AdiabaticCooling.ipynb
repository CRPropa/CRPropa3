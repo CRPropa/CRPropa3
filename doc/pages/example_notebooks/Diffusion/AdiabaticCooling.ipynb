{
 "cells": [
  {
   "cell_type": "markdown",
   "metadata": {},
   "source": [
    "# Adiabatic Cooling"
   ]
  },
  {
   "cell_type": "markdown",
   "metadata": {},
   "source": [
    "Adiabatic energy changes are always happening when the advection field has a non-neglible divergence $\\nabla \\vec{u} \\neq 0$.\n",
    "\n",
    "The relevant term is is usually included in the transport equation as $\\frac{\\partial n}{\\partial t} = \\frac{p}{3} \\,\\nabla \\vec{u} \\frac{\\partial n}{\\partial p}$.\n",
    "\n",
    "This module should always be included when advection is relevant. It can also be used to model acceleration of cosmic rays in a shock via adiabatic heating. In this case the SphericalAdvectionShock advection field is needed.\n",
    "\n",
    "*Note*:\n",
    "For AdiabaticCooling to work the used AdvectionField class needs to provide a getDivergence() method."
   ]
  },
  {
   "cell_type": "code",
   "execution_count": 1,
   "metadata": {},
   "outputs": [],
   "source": [
    "%matplotlib inline\n",
    "\n",
    "import pandas as pd\n",
    "import matplotlib.pyplot as plt\n",
    "import seaborn as sns\n",
    "import numpy as np\n",
    "from scipy.optimize import curve_fit\n",
    "from crpropa import *\n",
    "\n",
    "#figure settings\n",
    "A4heigth = 29.7/2.54\n",
    "A4width = 21./2.54\n",
    "colors = sns.color_palette()"
   ]
  },
  {
   "cell_type": "code",
   "execution_count": 2,
   "metadata": {},
   "outputs": [],
   "source": [
    "def fit(x, a, b):\n",
    "    return a*x+b"
   ]
  },
  {
   "cell_type": "markdown",
   "metadata": {},
   "source": [
    "## Example\n",
    "\n",
    "Cosmic rays injected in a shell at $r=r_0$ and then advected radially outwards.\n",
    "\n",
    "The number density $n(r)=\\frac{N}{V(r)}=\\frac{N}{4\\pi r^2 \\delta r}\\propto \\frac{1}{r^2}$\n",
    "\n",
    "The energy density is $w(r)=\\frac{E}{V(r)}$\n",
    "\n",
    "From thermodynamics it is known that for an adiabatic process of an ideal gas:\n",
    "* $PV = Nk_BT=E$\n",
    "* $V^{\\gamma-1}T = const.$\n",
    "\n",
    "Therefore:\n",
    "$w=\\frac{N k_B T}{V}\\propto \\frac{n}{V^{\\gamma-1}} \\propto n n^{\\gamma-1} = n^\\gamma$\n",
    "\n",
    "With $\\gamma=4/3$ it is expected that the energy density drops with $w\\propto n^{4/3}\\propto r^{-8/3}$"
   ]
  },
  {
   "cell_type": "code",
   "execution_count": 3,
   "metadata": {},
   "outputs": [
    {
     "name": "stdout",
     "output_type": "stream",
     "text": [
      "Simulation finished\n"
     ]
    }
   ],
   "source": [
    "N = 1000\n",
    "\n",
    "# Number of Snapshots\n",
    "# used in ObserverTimeEvolution\n",
    "n = 100.\n",
    "step = 100.*c_light\n",
    "\n",
    "\n",
    "# magnetic field\n",
    "# Remark:\n",
    "# This will be neglected later by setting the diffusion coefficient to 0\n",
    "# It is a work around for this demonstration as usually one needs advection \n",
    "# always in combination with diffusion.\n",
    "ConstMagVec = Vector3d(0*nG,0*nG,1*nG)\n",
    "BField = UniformMagneticField(ConstMagVec)\n",
    "\n",
    "# AdvectionField\n",
    "# Spherical advection field with constant divergence\n",
    "AdvField = ConstantSphericalAdvectionField(Vector3d(0), 10*meter/second)\n",
    "\n",
    "# parameters used for field line tracking\n",
    "precision = 1e-4\n",
    "minStep = 1e-4*c_light\n",
    "maxStep = 1.*c_light\n",
    "\n",
    "# source settings\n",
    "# A point source at the origin is isotropically injecting 10TeV protons.\n",
    "source = Source()\n",
    "source.add(SourceUniformShell(Vector3d(0), 1e2))\n",
    "#Important to use charged particles as neutral particles not be purly advective but remain their \n",
    "#rectilinear motion\n",
    "source.add(SourceParticleType(nucleusId(1, 1)))\n",
    "source.add(SourceEnergy(1*eV))\n",
    "source.add(SourceIsotropicEmission()) #emission direction is irrelevant for DiffusionSDE module\n",
    "\n",
    "# Output settings\n",
    "# Only serial number, trajectory length and current position are stored\n",
    "# The unit of length is set to kpc\n",
    "Out = TextOutput('./Test3.txt')\n",
    "Out.disableAll()\n",
    "Out.enable(Output.TrajectoryLengthColumn)\n",
    "Out.enable(Output.CurrentPositionColumn)\n",
    "Out.enable(Output.CurrentEnergyColumn)\n",
    "Out.setLengthScale(meter)\n",
    "Out.setEnergyScale(100*eV)\n",
    "\n",
    "# Observer settings\n",
    "Obs = Observer()\n",
    "Obs.add(ObserverTimeEvolution(step, step, n))\n",
    "Obs.setDeactivateOnDetection(False) # important, else particles would be deactivated after first detection\n",
    "Obs.onDetection(Out)\n",
    "\n",
    "# Difffusion Module\n",
    "# D_xx=D_yy=D_zz=0\n",
    "# The DiffusionSDE module needs always a magnetic field as input \n",
    "# --> To have advection only the diffusion needs manual disabling.\n",
    "Dif = DiffusionSDE(BField, AdvField, precision, minStep, maxStep)\n",
    "Dif.setScale(0.)\n",
    "\n",
    "# AdiabaticCoolingA4heigth\n",
    "# Make sure to use the same advection field as in DiffusionSDE\n",
    "adCool = AdiabaticCooling(AdvField)\n",
    "\n",
    "# Boundary\n",
    "maxTra = MaximumTrajectoryLength((n+1)*step)\n",
    "\n",
    "# module list\n",
    "# Add modules to the list and run the simulation\n",
    "sim = ModuleList()\n",
    "\n",
    "sim.add(Dif)\n",
    "sim.add(adCool)\n",
    "sim.add(Obs)\n",
    "sim.add(maxTra)\n",
    "\n",
    "sim.run(source, N, True)\n",
    "\n",
    "# Close the Output modules to flush last chunk of data to file.\n",
    "Out.close()\n",
    "\n",
    "\n",
    "print(\"Simulation finished\")"
   ]
  },
  {
   "cell_type": "code",
   "execution_count": 4,
   "metadata": {},
   "outputs": [],
   "source": [
    "data = pd.read_csv('Test3.txt', delimiter='\\t', names=['D', 'E', 'X', 'Y', 'Z'], comment='#', header=None)\n",
    "data['R'] = (data.X**2. + data.Y**2. + data.Z**2.)**0.5\n",
    "\n",
    "# group by trajectory length\n",
    "groups = data.groupby(data.D)"
   ]
  },
  {
   "cell_type": "code",
   "execution_count": 5,
   "metadata": {},
   "outputs": [
    {
     "name": "stdout",
     "output_type": "stream",
     "text": [
      "The resulting power law indices for n/w \\propto r^delta\n",
      "number density: delta=-2.0000000396715967 \\pm 4.78981890393428e-09\n",
      "energy density: delta=-2.6665645983743493 \\pm 8.203933015447318e-06\n"
     ]
    },
    {
     "data": {
      "image/png": "[encoded data removed]",
      "text/plain": [
       "<Figure size 446.4x216 with 1 Axes>"
      ]
     },
     "metadata": {
      "needs_background": "light"
     },
     "output_type": "display_data"
    }
   ],
   "source": [
    "Rmean = np.array(groups.R.mean())\n",
    "Etot = np.array(groups.E.sum())\n",
    "n = Rmean**-2.\n",
    "u = Etot*Rmean**-2.\n",
    "\n",
    "popt1, cov1 = curve_fit(fit, np.log(Rmean), np.log(n))\n",
    "popt2, cov2 = curve_fit(fit, np.log(Rmean), np.log(u))\n",
    "\n",
    "print (r\"The resulting power law indices for n/w \\propto r^delta\")\n",
    "print (r\"number density: delta={} \\pm {}\".format(popt1[0], np.sqrt(np.diag(cov1))[0]))\n",
    "print (u\"energy density: delta={} \\pm {}\".format(popt2[0], np.sqrt(np.diag(cov2))[0]))\n",
    "\n",
    "plt.figure(figsize=(6.2, 3))\n",
    "plt.plot(Rmean, n, marker='s', linewidth=0., label=None, color=colors[0])\n",
    "plt.plot(np.array(Rmean), np.array(Rmean)**popt1[0]*np.exp(popt1[1]),\n",
    "         label=r'particle density $n$', color=colors[0])\n",
    "plt.plot(Rmean, u, marker='o', linewidth=0., color=colors[1])\n",
    "plt.plot(np.array(Rmean), np.array(Rmean)**popt2[0]*np.exp(popt2[1]),\n",
    "         label=r'energy density $w$', color=colors[1])\n",
    "\n",
    "s = r'$n\\propto r^{-2\\pm\\mathrm{3e-9}}$'+r'$\\quad w\\propto r^{-8/3\\pm\\mathrm{8e-6}}$'\n",
    "plt.title(s)\n",
    "plt.loglog()\n",
    "plt.xlim(1e3, 1.1e5)\n",
    "plt.legend()\n",
    "plt.xlabel(r'$r\\;[\\mathrm{a.u.}]$')\n",
    "plt.ylabel(r'$n\\,/\\,w\\;[\\mathrm{a.u.}]$')\n",
    "plt.tight_layout()\n",
    "\n",
    "#plt.show()"
   ]
  },
  {
   "cell_type": "markdown",
   "metadata": {},
   "source": [
    "${\\mathrm{\\bf Fig 1:}}$ The number and energy density follow nicely the thermodynamical expectation of an ideal expanding gas."
   ]
  }
 ],
 "metadata": {
  "kernelspec": {
   "display_name": "Python 3",
   "language": "python",
   "name": "python3"
  },
  "language_info": {
   "codemirror_mode": {
    "name": "ipython",
    "version": 3
   },
   "file_extension": ".py",
   "mimetype": "text/x-python",
   "name": "python",
   "nbconvert_exporter": "python",
   "pygments_lexer": "ipython3",
   "version": "3.6.9"
  },
  "widgets": {
   "application/vnd.jupyter.widget-state+json": {
    "state": {},
    "version_major": 2,
    "version_minor": 0
   }
  }
 },
 "nbformat": 4,
 "nbformat_minor": 4
}
