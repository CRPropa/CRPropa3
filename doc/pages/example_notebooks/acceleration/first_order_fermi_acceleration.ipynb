{
 "cells": [
  {
   "cell_type": "markdown",
   "metadata": {},
   "source": [
    "## First Order Fermi Acceleration"
   ]
  },
  {
   "cell_type": "markdown",
   "metadata": {},
   "source": [
    "For first order Fermi acceleration, the movement of the scatter center is directed. This is accounted for\n",
    "using the DirectedFlowScattering module, that adapts the step length based on the direction of the flow of scatter centers - it is harder to travel against the flow, as the scatter probability increases.\n",
    "\n",
    "The velocity of the scatter centers is different upstream and downstream of the shock. Restricting acceleration modules with corresponding parameters to certain regions using the geometry tools of CRPropa achieves the expected acceleration.\n"
   ]
  },
  {
   "cell_type": "markdown",
   "metadata": {},
   "source": [
    "In the following, we demonstrate acceleration in the 'text-book' scenario for first order Fermi acceleration, \n",
    "a shock in the $y,z$-plane, located at $x = 0$, and the flow of the scatter center parallel to the $x$ axis. We specify the size of upstream and downstream regions to be 10 kpc and 100 pc, respectively and the acceleration region of infinite size in $y,z$ dimension. The sizes need to be large enough compared to the step-length so that the probability to return to the shock is not affected in order to achieve the expected result. Too small sizes for either region, or also a finite dimension in $y,z$ will reduce the return probability and thus steepen the spectrum.  The infinitely large $y,z$ dimension is achieved by a reflective box of finite size. The actual size of this box in $y$ and $z$ dimensions doesn't matter but should probably not be much smaller than the step-length to avoid multiple reflections in one step."
   ]
  },
  {
   "cell_type": "code",
   "execution_count": null,
   "metadata": {},
   "outputs": [],
   "source": [
    "import crpropa\n",
    "scatter_velocity = 0.1 * crpropa.c_light\n",
    "step_length = 0.5 * crpropa.parsec\n",
    "\n",
    "flow_direction = crpropa.Vector3d(1., 0, 0) * scatter_velocity\n",
    "yzsize = 100. * crpropa.parsec\n",
    "\n",
    "\n",
    "upstream_velocity = flow_direction\n",
    "upstreamSize = 10000. * crpropa.parsec\n",
    "upstreamGeometry = crpropa.ParaxialBox(crpropa.Vector3d(-1 * upstreamSize, -.5 * yzsize, -.5 * yzsize),\n",
    "                         crpropa.Vector3d(upstreamSize, yzsize, yzsize))\n",
    "upstream_scatter_module = crpropa.DirectedFlowScattering(upstream_velocity, step_length)\n",
    "upstream = crpropa.RestrictToRegion(upstream_scatter_module, upstreamGeometry)\n",
    "\n",
    "\n",
    "downstreamSize = 100. * crpropa.parsec\n",
    "downstream_velocity = flow_direction * 1./4\n",
    "downstreamGeometry = crpropa.ParaxialBox(crpropa.Vector3d(0, -.5 * yzsize, -.5 * yzsize),\n",
    "                           crpropa.Vector3d(downstreamSize, yzsize, yzsize))\n",
    "downstream_scatter_module = crpropa.DirectedFlowScattering(downstream_velocity, step_length)\n",
    "downstream = crpropa.RestrictToRegion(downstream_scatter_module, downstreamGeometry)\n",
    " \n",
    "simulation = crpropa.ModuleList()\n",
    "simulation.add(upstream)\n",
    "simulation.add(downstream)\n",
    "simulation.add(crpropa.ReflectiveBox(crpropa.Vector3d(-upstreamSize * 2, -yzsize /2, -yzsize /2),\n",
    "    crpropa.Vector3d(upstreamSize * 2 + downstreamSize * 2, yzsize, yzsize)))"
   ]
  },
  {
   "cell_type": "markdown",
   "metadata": {},
   "source": [
    "The rest of the simulation is initialized as usual with two sheet observers upstream and downstream. The upstream observer should not detect any particles but acts as a safe guard and cross check.\n",
    "\n",
    "We inject particles close to the shock in the upstream region with $E_0 = 10^{16}$ eV in this example.\n"
   ]
  },
  {
   "cell_type": "code",
   "execution_count": 1,
   "metadata": {},
   "outputs": [
    {
     "ename": "NameError",
     "evalue": "name 'simulation' is not defined",
     "output_type": "error",
     "traceback": [
      "\u001b[0;31m---------------------------------------------------------------------------\u001b[0m",
      "\u001b[0;31mNameError\u001b[0m                                 Traceback (most recent call last)",
      "\u001b[1;32m/rest/CRPropa3/doc/pages/example_notebooks/acceleration/first_order_fermi_acceleration copy.ipynb Cell 6\u001b[0m in \u001b[0;36m<cell line: 1>\u001b[0;34m()\u001b[0m\n\u001b[0;32m----> <a href='vscode-notebook-cell://ssh-remote%2Bt20/rest/CRPropa3/doc/pages/example_notebooks/acceleration/first_order_fermi_acceleration%20copy.ipynb#W5sdnNjb2RlLXJlbW90ZQ%3D%3D?line=0'>1</a>\u001b[0m simulation\u001b[39m.\u001b[39madd(crpropa\u001b[39m.\u001b[39mSimplePropagation(\u001b[39m1E-4\u001b[39m \u001b[39m*\u001b[39mcrpropa\u001b[39m.\u001b[39mparsec, \u001b[39m.5\u001b[39m \u001b[39m*\u001b[39mcrpropa\u001b[39m.\u001b[39mparsec))\n\u001b[1;32m      <a href='vscode-notebook-cell://ssh-remote%2Bt20/rest/CRPropa3/doc/pages/example_notebooks/acceleration/first_order_fermi_acceleration%20copy.ipynb#W5sdnNjb2RlLXJlbW90ZQ%3D%3D?line=1'>2</a>\u001b[0m obs1 \u001b[39m=\u001b[39m crpropa\u001b[39m.\u001b[39mObserver()\n\u001b[1;32m      <a href='vscode-notebook-cell://ssh-remote%2Bt20/rest/CRPropa3/doc/pages/example_notebooks/acceleration/first_order_fermi_acceleration%20copy.ipynb#W5sdnNjb2RlLXJlbW90ZQ%3D%3D?line=2'>3</a>\u001b[0m obs1\u001b[39m.\u001b[39madd(crpropa\u001b[39m.\u001b[39mObserverSurface(crpropa\u001b[39m.\u001b[39mPlane(crpropa\u001b[39m.\u001b[39mVector3d(\u001b[39m-\u001b[39mupstreamSize, \u001b[39m0\u001b[39m, \u001b[39m0\u001b[39m), crpropa\u001b[39m.\u001b[39mVector3d(\u001b[39m1.\u001b[39m, \u001b[39m0\u001b[39m, \u001b[39m0\u001b[39m))))\n",
      "\u001b[0;31mNameError\u001b[0m: name 'simulation' is not defined"
     ]
    }
   ],
   "source": [
    "simulation.add(crpropa.SimplePropagation(1E-4 *crpropa.parsec, .5 *crpropa.parsec))\n",
    "obs1 = crpropa.Observer()\n",
    "obs1.add(crpropa.ObserverSurface(crpropa.Plane(crpropa.Vector3d(-upstreamSize, 0, 0), crpropa.Vector3d(1., 0, 0))))\n",
    "obs1.setDeactivateOnDetection(True)\n",
    "output1 = crpropa.HDF5Output('shock_upstream.h5', crpropa.Output.Event3D)\n",
    "obs1.onDetection(output1)\n",
    "simulation.add(obs1)\n",
    "\n",
    "obs2 = crpropa.Observer()\n",
    "obs2.add(crpropa.ObserverSurface(crpropa.Plane(crpropa.Vector3d(downstreamSize, 0, 0), crpropa.Vector3d(1., 0, 0))))\n",
    "\n",
    "obs2.setDeactivateOnDetection(True)\n",
    "output2 = crpropa.HDF5Output('shock_downstream.h5', crpropa.Output.Event3D)\n",
    "obs2.onDetection(output2)\n",
    "simulation.add(obs2)\n",
    "\n",
    "source = crpropa.Source()\n",
    "source.add(crpropa.SourcePosition(crpropa.Vector3d(-10. * crpropa.parsec, 0, 0)))\n",
    "source.add(crpropa.SourceParticleType(crpropa.nucleusId(1, 1)))\n",
    "source.add(crpropa.SourceEnergy(1E16 * crpropa.eV))\n",
    "source.add(crpropa.SourceIsotropicEmission())\n",
    "\n",
    "\n",
    "# Execute simulation\n",
    "simulation.setShowProgress(True)\n",
    "simulation.run(source, 10000)\n",
    "output1.close()\n",
    "output2.close()"
   ]
  },
  {
   "cell_type": "code",
   "execution_count": null,
   "metadata": {},
   "outputs": [],
   "source": [
    "import h5py\n",
    "import numpy as np\n",
    "import pylab as plt\n",
    "from scipy import optimize\n",
    "\n",
    "with h5py.File('shock_downstream.h5', 'r') as data:\n",
    "    E = data['CRPROPA3']['E'] * 1E18\n",
    "    bin_edges = 10**np.linspace(15, 21)\n",
    "    bin_width = bin_edges[1:] - bin_edges[:-1]\n",
    "    bin_center = bin_edges[:-1] + 0.5 * bin_width\n",
    "\n",
    "    H = np.histogram(E, bins=bin_edges)\n",
    "\n",
    "    J = H[0] / bin_width\n",
    "\n",
    "    dJ = J / np.sqrt(H[0])\n",
    "\n",
    "    fig = plt.figure(figsize=(6, 6))\n",
    "    sp = fig.add_subplot(111)\n",
    "    sp.loglog()\n",
    "    sp.errorbar(bin_center, J * bin_center**2, xerr=bin_width/2, yerr=dJ * bin_center**2, ls='None')\n",
    "    sp.set_xlabel('$E$ / eV')\n",
    "    sp.set_ylim(1e18, 1e21)\n",
    "    sp.set_ylabel('$J\\cdot E^2$ [a.u.]')"
   ]
  },
  {
   "cell_type": "markdown",
   "metadata": {},
   "source": [
    "yielding the expected $J\\propto E^{-2}$ relationship."
   ]
  },
  {
   "attachments": {},
   "cell_type": "markdown",
   "metadata": {},
   "source": [
    "Due to the power law nature of the acceleration the simulations may become quite time consuming if large energy gains are of interest. Particle splitting, i.e. inverse thinning, can be used here to reduce the simulation effort. \n",
    "\n",
    "The example below shows how that can be done. It is important to take the weights of the candidates into account, which makes small changes in the analysis part necessaray."
   ]
  },
  {
   "cell_type": "code",
   "execution_count": 2,
   "metadata": {},
   "outputs": [
    {
     "name": "stdout",
     "output_type": "stream",
     "text": [
      "crpropa::ModuleList: Number of Threads: 8\n",
      "Run ModuleList\n",
      "  Started Wed Feb  1 10:32:56 2023 : [\u001b[1;32m Finished \u001b[0m] 100%    Needed: 00:00:00  - Finished at Wed Feb  1 10:32:56 2023\n",
      "\r"
     ]
    }
   ],
   "source": [
    "import crpropa\n",
    "scatter_velocity = 0.1 * crpropa.c_light\n",
    "step_length = 0.5 * crpropa.parsec\n",
    "\n",
    "flow_direction = crpropa.Vector3d(1., 0, 0) * scatter_velocity\n",
    "yzsize = 100. * crpropa.parsec\n",
    "\n",
    "\n",
    "upstream_velocity = flow_direction\n",
    "upstreamSize = 10000. * crpropa.parsec\n",
    "upstreamGeometry = crpropa.ParaxialBox(crpropa.Vector3d(-1 * upstreamSize, -.5 * yzsize, -.5 * yzsize),\n",
    "                         crpropa.Vector3d(upstreamSize, yzsize, yzsize))\n",
    "upstream_scatter_module = crpropa.DirectedFlowScattering(upstream_velocity, step_length)\n",
    "upstream = crpropa.RestrictToRegion(upstream_scatter_module, upstreamGeometry)\n",
    "\n",
    "\n",
    "downstreamSize = 100. * crpropa.parsec\n",
    "downstream_velocity = flow_direction * 1./4\n",
    "downstreamGeometry = crpropa.ParaxialBox(crpropa.Vector3d(0, -.5 * yzsize, -.5 * yzsize),\n",
    "                           crpropa.Vector3d(downstreamSize, yzsize, yzsize))\n",
    "downstream_scatter_module = crpropa.DirectedFlowScattering(downstream_velocity, step_length)\n",
    "downstream = crpropa.RestrictToRegion(downstream_scatter_module, downstreamGeometry)\n",
    " \n",
    "simulation = crpropa.ModuleList()\n",
    "simulation.add(upstream)\n",
    "simulation.add(downstream)\n",
    "simulation.add(crpropa.ReflectiveBox(crpropa.Vector3d(-upstreamSize * 2, -yzsize /2, -yzsize /2),\n",
    "    crpropa.Vector3d(upstreamSize * 2 + downstreamSize * 2, yzsize, yzsize)))\n",
    "\n",
    "simulation.add(crpropa.SimplePropagation(1E-4 *crpropa.parsec, .5 *crpropa.parsec))\n",
    "obs1 = crpropa.Observer()\n",
    "obs1.add(crpropa.ObserverSurface(crpropa.Plane(crpropa.Vector3d(-upstreamSize, 0, 0), crpropa.Vector3d(1., 0, 0))))\n",
    "obs1.setDeactivateOnDetection(True)\n",
    "output1 = crpropa.HDF5Output('shock_upstream_splitting.h5', crpropa.Output.Event3D)\n",
    "output1.enable(crpropa.Output.WeightColumn) #weights needs to be stored\n",
    "obs1.onDetection(output1)\n",
    "simulation.add(obs1)\n",
    "\n",
    "obs2 = crpropa.Observer()\n",
    "obs2.add(crpropa.ObserverSurface(crpropa.Plane(crpropa.Vector3d(downstreamSize, 0, 0), crpropa.Vector3d(1., 0, 0))))\n",
    "\n",
    "obs2.setDeactivateOnDetection(True)\n",
    "output2 = crpropa.HDF5Output('shock_downstream_splitting.h5', crpropa.Output.Event3D)\n",
    "output2.enable(crpropa.Output.WeightColumn) #weights needs to be stored\n",
    "obs2.onDetection(output2)\n",
    "simulation.add(obs2)\n",
    "\n",
    "# Splitting of candidates with the following parameters\n",
    "crossingThreshold = 50\n",
    "numSplits = 3\n",
    "minWeight = 0.01\n",
    "counterid = \"ParticleSplittingCounter\"\n",
    "#shock_surface = crpropa.Plane(crpropa.Vector3d(0., 0, 0), crpropa.Vector3d(1., 0, 0))\n",
    "#split = crpropa.ParticleSplitting(shock_surface, crossingThreshold, numSplits, minWeight, counterid)\n",
    "#simulation.add(split)\n",
    "\n",
    "\n",
    "source = crpropa.Source()\n",
    "source.add(crpropa.SourcePosition(crpropa.Vector3d(-10. * crpropa.parsec, 0, 0)))\n",
    "source.add(crpropa.SourceParticleType(crpropa.nucleusId(1, 1)))\n",
    "source.add(crpropa.SourceEnergy(1E16 * crpropa.eV))\n",
    "source.add(crpropa.SourceIsotropicEmission())\n",
    "\n",
    "\n",
    "# Execute simulation\n",
    "simulation.setShowProgress(True)\n",
    "simulation.run(source, 1) #Note the reduced number of primary particles\n",
    "output1.close()\n",
    "output2.close()"
   ]
  },
  {
   "cell_type": "code",
   "execution_count": 4,
   "metadata": {},
   "outputs": [
    {
     "name": "stderr",
     "output_type": "stream",
     "text": [
      "/tmp/ipykernel_23668/2023190340.py:18: RuntimeWarning: invalid value encountered in true_divide\n",
      "  dJ = J / np.sqrt(H_count[0])\n"
     ]
    },
    {
     "data": {
      "image/png": "[encoded data removed]",
      "text/plain": [
       "<Figure size 432x432 with 1 Axes>"
      ]
     },
     "metadata": {
      "needs_background": "light"
     },
     "output_type": "display_data"
    }
   ],
   "source": [
    "import h5py\n",
    "import numpy as np\n",
    "import pylab as plt\n",
    "from scipy import optimize\n",
    "\n",
    "with h5py.File('shock_downstream_splitting.h5', 'r') as data:\n",
    "    E = data['CRPROPA3']['E'] * 1E18\n",
    "    w = data['CRPROPA3']['weight']\n",
    "    bin_edges = 10**np.linspace(15, 21)\n",
    "    bin_width = bin_edges[1:] - bin_edges[:-1]\n",
    "    bin_center = bin_edges[:-1] + 0.5 * bin_width\n",
    "\n",
    "    H = np.histogram(E, bins=bin_edges, weights=w)\n",
    "    H_count = np.histogram(E, bins=bin_edges)\n",
    "\n",
    "    J = H[0] / bin_width\n",
    "\n",
    "    dJ = J / np.sqrt(H_count[0])\n",
    "\n",
    "    fig = plt.figure(figsize=(6, 6))\n",
    "    sp = fig.add_subplot(111)\n",
    "    sp.loglog()\n",
    "    sp.errorbar(bin_center, J * bin_center**2, xerr=bin_width/2, yerr=dJ * bin_center**2, ls='None')\n",
    "    sp.set_xlabel('$E$ / eV')\n",
    "    sp.set_ylim(1e15, 1e18)\n",
    "    sp.set_ylabel('$J\\cdot E^2$ [a.u.]')"
   ]
  },
  {
   "cell_type": "code",
   "execution_count": 16,
   "metadata": {},
   "outputs": [
    {
     "name": "stdout",
     "output_type": "stream",
     "text": [
      "['EnergyScale', 'LengthScale', 'OutputType', 'SEED_000', 'SEED_001', 'SEED_002', 'SEED_003', 'SEED_004', 'SEED_005', 'SEED_006', 'SEED_007', 'Version']\n"
     ]
    }
   ],
   "source": [
    "with h5py.File('shock_downstream_splitting.h5', 'r') as data:\n",
    "    print([a for a in (data['CRPROPA3']).attrs])"
   ]
  },
  {
   "attachments": {},
   "cell_type": "markdown",
   "metadata": {},
   "source": [
    "Note the different normalizations of the flux due the difference in the number of injected particles."
   ]
  }
 ],
 "metadata": {
  "kernelspec": {
   "display_name": "crp_docu",
   "language": "python",
   "name": "python3"
  },
  "language_info": {
   "codemirror_mode": {
    "name": "ipython",
    "version": 3
   },
   "file_extension": ".py",
   "mimetype": "text/x-python",
   "name": "python",
   "nbconvert_exporter": "python",
   "pygments_lexer": "ipython3",
   "version": "3.9.2"
  },
  "vscode": {
   "interpreter": {
    "hash": "c416687c884a42c367c2f4b19e8bea2627679ca3202fbf20d972b7cd00ee0b77"
   }
  },
  "widgets": {
   "application/vnd.jupyter.widget-state+json": {
    "state": {},
    "version_major": 2,
    "version_minor": 0
   }
  }
 },
 "nbformat": 4,
 "nbformat_minor": 4
}
