{
 "cells": [
  {
   "cell_type": "markdown",
   "source": [
    "# Electromagnetic cascade example\n",
    "\n",
    "This is a simple 1D example of gamma-ray propagation over cosmological distances.\n",
    "Note that only pair production and inverse Compton scattering are relevant for the energy range of this example.\n",
    "Moreover, the radio background is negligible for the energy range below PeV.\n"
   ],
   "metadata": {}
  },
  {
   "cell_type": "code",
   "execution_count": 34,
   "source": [
    "from crpropa import *\n",
    "\n",
    "dsrc = redshift2ComovingDistance(0.14)\n",
    "\n",
    "electrons = True\n",
    "photons = True\n",
    "\n",
    "thinning = 0.90 # if 0, no thinning; speeds up the simulations considerably\n",
    "\n",
    "cmb = CMB()\n",
    "ebl = IRB_Gilmore12()\n",
    "crb = URB_Nitu21()\n",
    "\n",
    "sim = ModuleList()\n",
    "sim.add(SimplePropagation())\n",
    "sim.add(Redshift())\n",
    "sim.add(EMPairProduction(cmb, electrons, thinning))\n",
    "sim.add(EMPairProduction(ebl, electrons, thinning))\n",
    "# sim.add(EMPairProduction(crb, electrons, thinning)) \n",
    "# sim.add(EMDoublePairProduction(cmb, electrons, thinning))\n",
    "# sim.add(EMDoublePairProduction(ebl, electrons, thinning))\n",
    "# sim.add(EMDoublePairProduction(crb, electrons, thinning))\n",
    "sim.add(EMInverseComptonScattering(cmb, photons, thinning))\n",
    "sim.add(EMInverseComptonScattering(ebl, photons, thinning))\n",
    "# sim.add(EMInverseComptonScattering(crb, photons, thinning))\n",
    "# sim.add(EMTripletPairProduction(cmb, electrons, thinning))\n",
    "# sim.add(EMTripletPairProduction(ebl, electrons, thinning))\n",
    "# sim.add(EMTripletPairProduction(crb, electrons, thinning))\n",
    "sim.add(MinimumEnergy(10 * GeV))\n",
    "\n",
    "obs = Observer()\n",
    "obs.add(ObserverPoint())\n",
    "obs.add(ObserverElectronVeto()) # we are only interested in photons\n",
    "output = TextOutput('cascade_1d.txt', Output.Event1D)\n",
    "output.setEnergyScale(eV)\n",
    "output.enable(output.WeightColumn) # this is required if thinning > 0\n",
    "obs.onDetection(output)\n",
    "\n",
    "source = Source()\n",
    "source.add(SourcePosition(Vector3d(dsrc, 0, 0)))\n",
    "source.add(SourceRedshift1D())\n",
    "source.add(SourceParticleType(22))\n",
    "source.add(SourcePowerLawSpectrum(10 * GeV, 10 * TeV, -1.5)) # intrinsic source spectrum\n",
    "# source.add(SourceEnergy(20 * TeV)) # a monochromatic intrinsic spectrum\n",
    "\n",
    "sim.add(obs)\n",
    "sim.run(source, 10000, True)\n",
    "\n",
    "output.close()\n"
   ],
   "outputs": [],
   "metadata": {}
  },
  {
   "cell_type": "markdown",
   "source": [
    "## Plotting\n",
    "\n",
    "We will now plot the spectrum of photons arriving at Earth.\n",
    "Note that whenever thinning is used, the weight column has to be enabled and the weights must be accounted for in the analysis."
   ],
   "metadata": {}
  },
  {
   "cell_type": "code",
   "execution_count": 35,
   "source": [
    "%matplotlib inline\n",
    "\n",
    "import numpy as np\n",
    "import matplotlib.pyplot as plt\n",
    "\n",
    "data = np.loadtxt('cascade_1d.txt', comments = '#')\n",
    "energy = data[:, 2] # energies in eV\n",
    "weight = data[:, 5]\n",
    "\n",
    "bins = np.logspace(10, 15, 26, endpoint = True)\n",
    "y, edges = np.histogram(energy , bins = bins, weights = weight)\n",
    "x = edges[:-1] + ((edges[1:] - edges[:-1]) / 2.)\n",
    "y *= x \n",
    "plt.xlim(1e10, 1e14)\n",
    "plt.plot(x, y)\n",
    "plt.xscale('log')\n",
    "plt.yscale('log')\n",
    "plt.ylabel('$E^2 dN/dE$ [arb. u.]')\n",
    "plt.xlabel('E [eV]')\n",
    "plt.show()\n"
   ],
   "outputs": [
    {
     "output_type": "display_data",
     "data": {
      "text/plain": [
       "<Figure size 432x288 with 1 Axes>"
      ],
      "image/png": "[encoded data removed]"
     },
     "metadata": {
      "needs_background": "light"
     }
    }
   ],
   "metadata": {}
  }
 ],
 "metadata": {
  "orig_nbformat": 4,
  "language_info": {
   "name": "python",
   "version": "3.8.3",
   "mimetype": "text/x-python",
   "codemirror_mode": {
    "name": "ipython",
    "version": 3
   },
   "pygments_lexer": "ipython3",
   "nbconvert_exporter": "python",
   "file_extension": ".py"
  },
  "kernelspec": {
   "name": "python3",
   "display_name": "Python 3.8.3 64-bit"
  },
  "interpreter": {
   "hash": "d7f94b8b1e41b02170d45ac71ce2d6b011e7cd56207b4c480f5292088bcfab93"
  }
 },
 "nbformat": 4,
 "nbformat_minor": 2
}