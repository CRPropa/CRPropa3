{
 "cells": [
  {
   "cell_type": "markdown",
   "source": [
    "## Introduction to Python Steering\n",
    "The following is a tour of the basic layout of CRPropa 3, showing how to setup and run a 1D simulation of the extragalactic propagation of UHECR protons from a Python shell.\n",
    "\n",
    "### Simulation setup\n",
    "We start with a ```ModuleList```, which is a container for simulation modules, and represents the simulation.\n",
    "\n",
    "The first module in a simulation should be a propagation module, which will move the cosmic rays. In a 1D simulation magnetic deflections of charged particles are not considered, thus we can use the ```SimplePropagation``` for rectalinear propagation.\n",
    "\n",
    "Next we add modules for photo-pion and electron-pair production with the cosmic microwave background and a module for neutron and nuclear decay. Finally we add a minimum energy requirement: Cosmic rays are stopped once they reach a the minimum energy.\n",
    "In general the order of modules doesn't matter much for sufficiently small propagation steps. For good practice, we recommend the order: Propagator --> Interactions -> Break conditions -> Observer / Output.\n",
    "\n",
    "**Please note** that all input, output and internal calculations are done using SI-units to enforce expressive statements such as ```E = 1 * EeV``` or ```D = 100 * Mpc```."
   ],
   "metadata": {}
  },
  {
   "cell_type": "code",
   "execution_count": 5,
   "source": [
    "from crpropa import *\n",
    "\n",
    "# simulation: a sequence of simulation modules\n",
    "sim = ModuleList()\n",
    "\n",
    "# add propagator for rectalinear propagation\n",
    "sim.add(SimplePropagation())\n",
    "\n",
    "# add interaction modules\n",
    "sim.add(PhotoPionProduction(CMB()))\n",
    "sim.add(ElectronPairProduction(CMB()))\n",
    "sim.add(NuclearDecay())\n",
    "sim.add(MinimumEnergy(1 * EeV))"
   ],
   "outputs": [],
   "metadata": {}
  },
  {
   "cell_type": "markdown",
   "source": [
    "### Propagating a single particle"
   ],
   "metadata": {}
  },
  {
   "cell_type": "markdown",
   "source": [
    "The simulation can now be used to propagate a cosmic ray, which is called candidate. We create a 100 EeV proton and propagate it using the simulation. The propagation stops when the energy drops below the minimum energy requirement that was specified. The possible propagation distances are rather long since we are neglecting cosmology in this example."
   ],
   "metadata": {}
  },
  {
   "cell_type": "code",
   "execution_count": 6,
   "source": [
    "cosmicray = Candidate(nucleusId(1, 1), 200 * EeV, Vector3d(100 * Mpc, 0, 0))\n",
    "\n",
    "sim.run(cosmicray)\n",
    "print(cosmicray)\n",
    "print('Propagated distance', cosmicray.getTrajectoryLength() / Mpc, 'Mpc')"
   ],
   "outputs": [
    {
     "output_type": "stream",
     "name": "stdout",
     "text": [
      "CosmicRay at z = 0\n",
      "  source:  Particle 1000010010, E = 200 EeV, x = 100 0 0 Mpc, p = -1 0 0\n",
      "  current: Particle 1000010010, E = 0.963133 EeV, x = -14227.5 0 0 Mpc, p = -1 0 0\n",
      "Propagated distance 14327.467681058117 Mpc\n"
     ]
    }
   ],
   "metadata": {}
  },
  {
   "cell_type": "markdown",
   "source": [
    "### Defining an observer\n",
    "\n",
    "To define an observer within the simulation we create a ```Observer``` object.\n",
    "The convention of 1D simulations is that cosmic rays, starting from positive coordinates, propagate in the negative direction until the reach the observer at 0. Only the x-coordinate is used in the three-vectors that represent position and momentum."
   ],
   "metadata": {}
  },
  {
   "cell_type": "code",
   "execution_count": 7,
   "source": [
    "# add an observer\n",
    "obs = Observer()\n",
    "obs.add(ObserverPoint())  # observer at x = 0\n",
    "sim.add(obs)\n",
    "print(obs)"
   ],
   "outputs": [
    {
     "output_type": "stream",
     "name": "stdout",
     "text": [
      "Observer\n",
      "    ObserverPoint: observer at x = 0\n",
      "    Flag: '' -> ''\n",
      "    MakeInactive: yes\n",
      "\n"
     ]
    }
   ],
   "metadata": {}
  },
  {
   "cell_type": "markdown",
   "source": [
    "### Defining the output file \n",
    "We want to save the propagated cosmic rays to an output file.\n",
    "Plain text output is provided by the TextOutput module.  \n",
    "For the type of information being stored we can use one of five presets: Event1D, Event3D, Trajectory1D, Trajectory3D and Everything.  \n",
    "We can also fine tune with ```enable(XXXColumn)``` and ```disable(XXXColumn)```"
   ],
   "metadata": {}
  },
  {
   "cell_type": "code",
   "execution_count": 8,
   "source": [
    "# trajectory output\n",
    "output1 = TextOutput('trajectories.txt', Output.Trajectory1D)\n",
    "#sim.add(output1)  # generates a lot of output\n",
    "\n",
    "#output1.disable(Output.RedshiftColumn)  # don't save the current redshift\n",
    "#output1.disableAll()  # disable everything to start from scratch\n",
    "#output1.enable(Output.CurrentEnergyColumn)  # current energy\n",
    "#output1.enable(Output.CurrentIdColumn)      # current particle type\n",
    "# ...\n"
   ],
   "outputs": [],
   "metadata": {}
  },
  {
   "cell_type": "markdown",
   "source": [
    "If in the example above ```output1``` is added to the module list, it is called on every propagation step to write out the cosmic ray information. \n",
    "To save only cosmic rays that reach our observer, we add an output to the observer that we previously defined.\n",
    "This time we are satisfied with the output type Event1D."
   ],
   "metadata": {}
  },
  {
   "cell_type": "code",
   "execution_count": 9,
   "source": [
    "# event output\n",
    "output2 = TextOutput('events.txt', Output.Event1D)\n",
    "obs.onDetection(output2)\n",
    "\n",
    "#sim.run(cosmicray)\n",
    "#output2.close()"
   ],
   "outputs": [],
   "metadata": {}
  },
  {
   "cell_type": "markdown",
   "source": [
    "Similary, the output could be linked to the ```MinimumEnergy``` module to save those cosmic rays that fall below the minimum energy, and so on.  \n",
    "**Note:** If we want to use the CRPropa output file from within the same  script that runs the simulation, the output module should be explicitly closed after the simulation run in order to get all events flushed to the file."
   ],
   "metadata": {}
  },
  {
   "cell_type": "markdown",
   "source": [
    "### Defining the source\n",
    "To avoid setting each individual cosmic ray by hand we defince a cosmic ray source.\n",
    "The source is located at a distance of 100 Mpc and accelerates protons with a power law spectrum and energies between 1 - 200 EeV."
   ],
   "metadata": {}
  },
  {
   "cell_type": "code",
   "execution_count": 10,
   "source": [
    "# cosmic ray source\n",
    "source = Source()\n",
    "source.add(SourcePosition(100 * Mpc))\n",
    "source.add(SourceParticleType(nucleusId(1, 1)))\n",
    "source.add(SourcePowerLawSpectrum(1 * EeV, 200 * EeV, -1))\n",
    "print(source)"
   ],
   "outputs": [
    {
     "output_type": "stream",
     "name": "stdout",
     "text": [
      "Cosmic ray source\n",
      "    SourcePosition: 100 0 0 Mpc\n",
      "    SourceParticleType: 1000010010\n",
      "    SourcePowerLawSpectrum: Random energy E = 1 - 200 EeV, dN/dE ~ E^-1\n",
      "\n"
     ]
    }
   ],
   "metadata": {}
  },
  {
   "cell_type": "markdown",
   "source": [
    "### Running the simulation\n",
    "\n",
    "Finally we run the simulation to inject and propagate 10000 cosmic rays. An optional progress bar can show the progress of the simulation."
   ],
   "metadata": {}
  },
  {
   "cell_type": "code",
   "execution_count": 11,
   "source": [
    "sim.setShowProgress(True)  # switch on the progress bar\n",
    "sim.run(source, 10000)"
   ],
   "outputs": [],
   "metadata": {}
  },
  {
   "cell_type": "markdown",
   "source": [
    "### (Optional) Plotting\n",
    "\n",
    "This is not part of CRPropa, but since we're at it we can plot the energy spectrum of detected particles to observe the GZK suppression.\n",
    "The plotting is done here using matplotlib, but of course you can use whatever plotting tool you prefer.  \n"
   ],
   "metadata": {}
  },
  {
   "cell_type": "code",
   "execution_count": 13,
   "source": [
    "%matplotlib inline\n",
    "import matplotlib.pyplot as plt\n",
    "import numpy as np\n",
    "\n",
    "output2.close()  # close output file before loading\n",
    "data = np.genfromtxt('events.txt', names=True)\n",
    "print('Number of events', len(data))\n",
    "\n",
    "logE0 = np.log10(data['E0']) + 18\n",
    "logE  = np.log10(data['E']) + 18\n",
    "\n",
    "plt.figure(figsize=(10, 7))\n",
    "h1 = plt.hist(logE0, bins=25, range=(18, 20.5), histtype='stepfilled', alpha=0.5, label='At source')\n",
    "h2 = plt.hist(logE,  bins=25, range=(18, 20.5), histtype='stepfilled', alpha=0.5, label='Observed')\n",
    "plt.xlabel('log(E/eV)')\n",
    "plt.ylabel('N(E)')\n",
    "plt.legend(loc = 'upper left', fontsize=20)\n"
   ],
   "outputs": [
    {
     "output_type": "stream",
     "name": "stdout",
     "text": [
      "Number of events 10000\n"
     ]
    },
    {
     "output_type": "execute_result",
     "data": {
      "text/plain": [
       "<matplotlib.legend.Legend at 0x116a310d0>"
      ]
     },
     "metadata": {},
     "execution_count": 13
    },
    {
     "output_type": "display_data",
     "data": {
      "text/plain": [
       "<Figure size 720x504 with 1 Axes>"
      ],
      "image/png": "[encoded data removed]"
     },
     "metadata": {
      "needs_background": "light"
     }
    }
   ],
   "metadata": {}
  },
  {
   "cell_type": "code",
   "execution_count": null,
   "source": [],
   "outputs": [],
   "metadata": {}
  }
 ],
 "metadata": {
  "kernelspec": {
   "name": "python3",
   "display_name": "Python 3.8.3 64-bit"
  },
  "language_info": {
   "name": "python",
   "version": "3.8.3",
   "mimetype": "text/x-python",
   "codemirror_mode": {
    "name": "ipython",
    "version": 3
   },
   "pygments_lexer": "ipython3",
   "nbconvert_exporter": "python",
   "file_extension": ".py"
  },
  "interpreter": {
   "hash": "d7f94b8b1e41b02170d45ac71ce2d6b011e7cd56207b4c480f5292088bcfab93"
  }
 },
 "nbformat": 4,
 "nbformat_minor": 1
}