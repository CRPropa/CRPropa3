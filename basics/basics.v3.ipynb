{
 "metadata": {
  "kernelspec": {
   "display_name": "Python 2",
   "language": "python2",
   "name": "python2"
  },
  "language_info": {
   "codemirror_mode": {
    "name": "ipython",
    "version": 2
   },
   "file_extension": ".py",
   "mimetype": "text/x-python",
   "name": "python",
   "nbconvert_exporter": "python",
   "pygments_lexer": "ipython2",
   "version": "2.7.10"
  },
  "name": ""
 },
 "nbformat": 3,
 "nbformat_minor": 0,
 "worksheets": [
  {
   "cells": [
    {
     "cell_type": "markdown",
     "metadata": {},
     "source": [
      "# Basics\n",
      "The following is a tour of the basic layout of CRPropa 3, showing how to setup and run a 1D simulation of the extragalactic propagation of UHECR protons from a Python shell.\n",
      "\n",
      "### Simulation setup\n",
      "We start with a ```ModuleList```, which is a container for simulation modules, and represents the simulation.\n",
      "\n",
      "The first module in a simulation should be a propagation module, which will move the cosmic rays. In a 1D simulation magnetic deflections of charged particles are not considered, thus we can use the ```SimplePropagation``` for rectalinear propagation.\n",
      "\n",
      "Next we add modules for photo-pion and electron-pair production with the cosmic microwave background and a module for neutron and nuclear decay. Finally we add a minimum energy requirement: Cosmic rays are stopped once they reach a the minimum energy.\n",
      "In general the order of modules doesn't matter much for sufficiently small propagation steps. For good practice, we recommend the order: Propagator --> Interactions -> Break conditions -> Observer / Output.\n",
      "\n",
      "**Please note** that all input, output and internal calculations are done using SI-units to enforce expressive statements such as ```E = 1 * EeV``` or ```D = 100 * Mpc```."
     ]
    },
    {
     "cell_type": "code",
     "collapsed": false,
     "input": [
      "from crpropa import *\n",
      "\n",
      "# simulation: a sequence of simulation modules\n",
      "sim = ModuleList()\n",
      "\n",
      "# add propagator for rectalinear propagation\n",
      "sim.add( SimplePropagation() )\n",
      "\n",
      "# add interaction modules\n",
      "sim.add( PhotoPionProduction(CMB) )\n",
      "sim.add( ElectronPairProduction(CMB) )\n",
      "sim.add( NuclearDecay() )\n",
      "sim.add( MinimumEnergy( 1 * EeV) )"
     ],
     "language": "python",
     "metadata": {},
     "outputs": [],
     "prompt_number": 1
    },
    {
     "cell_type": "heading",
     "level": 3,
     "metadata": {},
     "source": [
      "Propagating a single particle"
     ]
    },
    {
     "cell_type": "markdown",
     "metadata": {},
     "source": [
      "The simulation can now be used to propagate a cosmic ray, which is called candidate. We create a 100 EeV proton and propagate it using the simulation. The propagation stops when the energy drops below the minimum energy requirement that was specified. The possible propagation distances are rather long since we are neglecting cosmology in this example."
     ]
    },
    {
     "cell_type": "code",
     "collapsed": false,
     "input": [
      "cosmicray = Candidate(nucleusId(1,1), 200 * EeV, Vector3d(100 * Mpc, 0, 0))\n",
      "\n",
      "sim.run(cosmicray)\n",
      "print cosmicray\n",
      "print 'Propagated distance', cosmicray.getTrajectoryLength() / Mpc, 'Mpc'"
     ],
     "language": "python",
     "metadata": {},
     "outputs": [
      {
       "output_type": "stream",
       "stream": "stdout",
       "text": [
        "CosmicRay at z = 0\n",
        "  source:  Particle 1000010010, E = 200 EeV, x = 100 0 0 Mpc, p = -1 0 0\n",
        "  current: Particle 1000010010, E = 0.999869 EeV, x = -14447.8 0 0 Mpc, p = -1 0 0\n",
        "Propagated distance 14547.7778267 Mpc\n"
       ]
      }
     ],
     "prompt_number": 2
    },
    {
     "cell_type": "markdown",
     "metadata": {},
     "source": [
      "### Defining an observer\n",
      "\n",
      "To define an observer within the simulation we create a ```Observer``` object.\n",
      "The convention of 1D simulations is that cosmic rays, starting from positive coordinates, propagate in the negative direction until the reach the observer at 0. Only the x-coordinate is used in the three-vectors that represent position and momentum."
     ]
    },
    {
     "cell_type": "code",
     "collapsed": false,
     "input": [
      "# add an observer\n",
      "obs = Observer()\n",
      "obs.add( ObserverPoint() )  # observer at x = 0\n",
      "sim.add(obs)\n",
      "print obs"
     ],
     "language": "python",
     "metadata": {},
     "outputs": [
      {
       "output_type": "stream",
       "stream": "stdout",
       "text": [
        "Observer\n",
        "    ObserverPoint: observer at x = 0\n",
        "    Flag: '' -> ''\n",
        "    MakeInactive: yes\n",
        "\n"
       ]
      }
     ],
     "prompt_number": 3
    },
    {
     "cell_type": "markdown",
     "metadata": {},
     "source": [
      "### Defining the output file \n",
      "We want to save the propagated cosmic rays to an output file.\n",
      "Plain text output is provided by the TextOutput module.  \n",
      "For the type of information being stored we can use one of five presets: Event1D, Event3D, Trajectory1D, Trajectory3D and Everything.  \n",
      "We can also fine tune with ```enable(XXXColumn)``` and ```disable(XXXColumn)```"
     ]
    },
    {
     "cell_type": "code",
     "collapsed": false,
     "input": [
      "# trajectory output\n",
      "output1 = TextOutput('trajectories.txt', Output.Trajectory1D)\n",
      "#sim.add(output1)  # generates a lot of output\n",
      "\n",
      "#output1.disable(Output.RedshiftColumn)  # don't save the current redshift\n",
      "#output1.disableAll()  # disable everything to start from scratch\n",
      "#output1.enable(Output.CurrentEnergyColumn)  # current energy\n",
      "#output1.enable(Output.CurrentIdColumn)      # current particle type\n",
      "# ...\n"
     ],
     "language": "python",
     "metadata": {},
     "outputs": [],
     "prompt_number": 4
    },
    {
     "cell_type": "markdown",
     "metadata": {},
     "source": [
      "If in the example above ```output1``` is added to the module list, it is called on every propagation step to write out the cosmic ray information. \n",
      "To only save cosmic rays that reach our observer, we add an output to the observer that we previously defined.\n",
      "This time we are satisfied with the output type Event1D."
     ]
    },
    {
     "cell_type": "code",
     "collapsed": false,
     "input": [
      "# event output\n",
      "output2 = TextOutput('events.txt', Output.Event1D)\n",
      "obs.onDetection(output2)"
     ],
     "language": "python",
     "metadata": {},
     "outputs": [],
     "prompt_number": 5
    },
    {
     "cell_type": "markdown",
     "metadata": {},
     "source": [
      "Similary, the output could linked to the ```MinimumEnergy``` module to save those cosmic rays that fall below the minimum energy, and so on."
     ]
    },
    {
     "cell_type": "markdown",
     "metadata": {},
     "source": [
      "### Defining the source\n",
      "To avoid setting each individual cosmic ray by hand we defince a cosmic ray source.\n",
      "The source is located at a distance of 100 Mpc and accelerates protons with a power law spectrum and energies between 1 - 200 EeV."
     ]
    },
    {
     "cell_type": "code",
     "collapsed": false,
     "input": [
      "# cosmic ray source\n",
      "source = Source()\n",
      "source.add( SourcePosition(100 * Mpc) )\n",
      "source.add( SourceParticleType(nucleusId(1, 1)) )\n",
      "source.add( SourcePowerLawSpectrum(1 * EeV, 200 * EeV, -1) )\n",
      "print source"
     ],
     "language": "python",
     "metadata": {},
     "outputs": [
      {
       "output_type": "stream",
       "stream": "stdout",
       "text": [
        "Cosmic ray source\n",
        "    SourcePosition: 100 0 0 Mpc\n",
        "    SourceParticleType: 1000010010\n",
        "    SourcePowerLawSpectrum: Random energy E = 1 - 200 EeV, dN/dE ~ E^-1\n",
        "\n"
       ]
      }
     ],
     "prompt_number": 6
    },
    {
     "cell_type": "markdown",
     "metadata": {},
     "source": [
      "### Running the simulation\n",
      "\n",
      "Finally we run the simulation to inject and propagate 10000 cosmic rays. An optional progress bar can show the progress of the simulation."
     ]
    },
    {
     "cell_type": "code",
     "collapsed": false,
     "input": [
      "sim.setShowProgress(True)  # switch on the progress bar\n",
      "sim.run(source, 10000)"
     ],
     "language": "python",
     "metadata": {},
     "outputs": [],
     "prompt_number": 7
    },
    {
     "cell_type": "markdown",
     "metadata": {},
     "source": [
      "### (Optional) Plotting\n",
      "\n",
      "This is not part of CRPropa, but since we're at it we can plot the energy spectrum of detected particles to observe the GZK suppression.\n",
      "The plotting is done here using matplotlib, but of course you can use whatever plotting tool you prefer.  \n",
      "**Note:** If you want load the CRPropa output file from within the simulation script, you should close your Output module before, to get all output flushed."
     ]
    },
    {
     "cell_type": "code",
     "collapsed": false,
     "input": [
      "%matplotlib inline\n",
      "import matplotlib.pyplot as plt\n",
      "import numpy as np\n",
      "\n",
      "output2.close()\n",
      "data = np.genfromtxt('events.txt', names=True)\n",
      "print 'Number of events', len(data)\n",
      "\n",
      "logE0 = np.log10(data['E0']) + 18\n",
      "logE  = np.log10(data['E']) + 18\n",
      "\n",
      "plt.figure(figsize=(10, 7))\n",
      "h1 = plt.hist(logE0, bins=25, range=(18, 20.5), histtype='stepfilled', alpha=0.5, label='At source')\n",
      "h2 = plt.hist(logE,  bins=25, range=(18, 20.5), histtype='stepfilled', alpha=0.5, label='Observed')\n",
      "plt.xlabel('log(E/eV)')\n",
      "plt.ylabel('N(E)')\n",
      "plt.legend(loc = 'upper left', fontsize=20)\n"
     ],
     "language": "python",
     "metadata": {},
     "outputs": [
      {
       "output_type": "stream",
       "stream": "stdout",
       "text": [
        "Number of events 9836\n"
       ]
      },
      {
       "metadata": {},
       "output_type": "pyout",
       "prompt_number": 8,
       "text": [
        "<matplotlib.legend.Legend at 0x7fea53f8c510>"
       ]
      },
      {
       "metadata": {},
       "output_type": "display_data",
       "png": "[encoded data removed]",
       "text": [
        "<matplotlib.figure.Figure at 0x7fea801def90>"
       ]
      }
     ],
     "prompt_number": 8
    },
    {
     "cell_type": "code",
     "collapsed": false,
     "input": [],
     "language": "python",
     "metadata": {},
     "outputs": [],
     "prompt_number": null
    }
   ],
   "metadata": {}
  }
 ]
}