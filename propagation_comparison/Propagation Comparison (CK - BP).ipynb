{
 "cells": [
  {
   "cell_type": "markdown",
   "metadata": {},
   "source": [
    "# Comparison of Propagation Modules (BP - CK)"
   ]
  },
  {
   "cell_type": "markdown",
   "metadata": {},
   "source": [
    "\n",
    "\n",
    "Numerical simulations of the propagation of charged particles through magnetic fields, solving the equation of motion can be achieved in principle with many different algorithms. There are, however, an increasing number of studies that have found that there are two algorithms, which work in general best for propagating charged particles within a magnetic field. These two algorithms are compared and evaluated.\n",
    "\n",
    "Both the Boris push and the Cash-Karp algorithms solve the Lorentz equation and thus enable the propagation of charged particles through magnetic fields. For the simplest case of a homogeneous background field, the particle trajectory can be derived analytically. This enables comparison with numerical integrators and provides information on the errors of the algorithms for the corresponding parameters being used. The aim is to find a relationship between the error and the parameters applied. The pitch angle and the step length are suitable parameters to determine the influence. \n",
    "\n",
    "Consequently, we want to understand which algorithm is suitable for each simulation setup."
   ]
  },
  {
   "cell_type": "markdown",
   "metadata": {},
   "source": [
    "## Analytic Solution"
   ]
  },
  {
   "cell_type": "markdown",
   "metadata": {},
   "source": [
    "The trajectory of a charged particle in a homogeneous background field can be solved analytically. We assume that the particle starts off with non-zero component of the momentum ($p_z > 0$) along the background magnetic field. The particle, then moves in a helix whose gyration radius is given by: $r_g = \\frac{E}{B\\cdot q \\cdot c}$\n",
    "\n",
    "The velocity component parallel to the background field remains constant. The analytical solution for the $direction = Vector3d(p_x, p_y, p_z)$ with $p_x^2+p_y^2+p_z^2 = 1$ and the $position = Vector3d(0, 0, 0)$ yields:"
   ]
  },
  {
   "cell_type": "code",
   "execution_count": 1,
   "metadata": {},
   "outputs": [],
   "source": [
    "def analytical_solution(max_trajectory, p_z, r_g_0, number_steps):\n",
    "    # calculate the time stamps similar to that used in the numerical simulation \n",
    "    t = np.linspace(0, max_trajectory/pc, number_steps+1)\n",
    "    # shift the phase so that the analytical solution \n",
    "    # also starts at (0,0,0) with in the direction (p_x,p_y,p_z)\n",
    "    d = t[1:]/r_g_0-3*math.pi/4.\n",
    "    \n",
    "    # for parallel motion corrected gyro radius\n",
    "    r_g = r_g_0*(1-p_z**2)**0.5 \n",
    "\n",
    "    # at these trajectory lengths, the numerical solutions are known\n",
    "    x_ana = r_g*np.cos(d)\n",
    "    y_ana = -r_g*np.sin(d)\n",
    "    z_ana = p_z*t[1:]\n",
    "    return x_ana, y_ana, z_ana"
   ]
  },
  {
   "cell_type": "markdown",
   "metadata": {},
   "source": [
    "## Helper Functions"
   ]
  },
  {
   "cell_type": "markdown",
   "metadata": {},
   "source": [
    "We define functions with which we can calculate the gyration radius and the circumference. In addition we only want to define how many steps we require per circumference and how many gyrations should be performed. The last helping function should then calculate the maximum trajectory length and the step size, so that our requirements are fulfilled."
   ]
  },
  {
   "cell_type": "code",
   "execution_count": 3,
   "metadata": {},
   "outputs": [],
   "source": [
    "import numpy as np\n",
    "from crpropa import *\n",
    "import math\n",
    "\n",
    "# Gyro radius should be R_g = 10.810076 parsecs for p_z = 0 and B = 10nG and E = 100 TeV\n",
    "def larmor_radius(c, field):\n",
    "    p = c.current.getMomentum()\n",
    "    try:\n",
    "        B = field.getRegularField(c.current.getPosition())\n",
    "    except:\n",
    "        B = field.getField(c.current.getPosition())\n",
    "        q = c.current.getCharge()\n",
    "        p_perp = p.getPerpendicularTo(B)\n",
    "    try:\n",
    "        r =  abs(p_perp.getR() / (B.getR()*q))\n",
    "    except ZeroDivisionError:\n",
    "        r = 1000000\n",
    "    return r\n",
    "\n",
    "# Calculate gyro radius\n",
    "def larmor_circumference(c, field):\n",
    "    r_g_0 = larmor_radius(c, field)/pc # gyro radius for p_z = 0\n",
    "    l_gyration = 2*math.pi*r_g_0*pc    # trajectory lenght of one gyration\n",
    "    return r_g_0, l_gyration\n",
    "\n",
    "# Trajectory length of particle in number of gyrations\n",
    "def maximum_trajectory(steps_per_gyrations, number_of_gyrations, c, field, p_z):\n",
    "    r_g_0, l_gyration = larmor_circumference(c, field)\n",
    "    max_trajectory = l_gyration*number_of_gyrations\n",
    "    steplength = l_gyration/np.array(steps_per_gyrations)\n",
    "    return max_trajectory, steplength, r_g_0"
   ]
  },
  {
   "cell_type": "markdown",
   "metadata": {},
   "source": [
    "## Run Simulation "
   ]
  },
  {
   "cell_type": "markdown",
   "metadata": {},
   "source": [
    "We can now compare the analytical solution with both particle integrators in CRPropa, namely the Boris push and the Cash-Karp.\n",
    "\n",
    "First we have to add our propagation module with the above specialized background magnetic field to our module list. Afterwards we can specify that the particle information is collected at each step along the particle trajectory. With the output module, we can specify where these information will be saved. \n",
    "\n",
    "Now that we have our module list ready we can fire up our simulation with both propagation algorithms and hope that something visually interesting is going to happen. "
   ]
  },
  {
   "cell_type": "code",
   "execution_count": 4,
   "metadata": {},
   "outputs": [],
   "source": [
    "import time as Time\n",
    "\n",
    "# We use only a Background magnetic field in the z-direction. \n",
    "# We could add more complex magentic fields to our MagneticFieldList.\n",
    "B = 10*nG\n",
    "direction_B = Vector3d(0, 0, 1)\n",
    "  \n",
    "const_mag_vec = direction_B * B\n",
    "reg_field = UniformMagneticField(const_mag_vec)\n",
    "\n",
    "\n",
    "### Running the simulation with either CK or BP\n",
    "def run_simulation(module, steps_per_gyrations, number_of_gyrations, p_z):\n",
    "    # Initial condition of candidate\n",
    "    p_x = (1-p_z**2)**(1/2.)/2**0.5\n",
    "    p_y = p_x\n",
    "    E = 100 * TeV\n",
    "    direction = Vector3d(p_x, p_y, p_z)\n",
    "    position = Vector3d(0, 0, 0)\n",
    "    \n",
    "    c = Candidate(nucleusId(1, 1), E, position, direction)\n",
    "    \n",
    "    max_trajectory, steplength, r_g_0 = maximum_trajectory(steps_per_gyrations, number_of_gyrations, c, reg_field, p_z)\n",
    "    \n",
    "    sim = ModuleList()\n",
    "    if module == 'CK':\n",
    "        sim.add(PropagationCK(reg_field,1e-4,steplength, steplength))\n",
    "        output = TextOutput('trajectory_CK.txt', Output.Trajectory3D)\n",
    "    elif module == 'BP':\n",
    "        sim.add(PropagationBP(reg_field, steplength))\n",
    "        output = TextOutput('trajectory_BP.txt', Output.Trajectory3D)\n",
    "    else:\n",
    "        print('no module found. Use either BP or CK.')\n",
    "        return\n",
    "    \n",
    "    # we only want to simulate a certain trajectory length\n",
    "    sim.add(MaximumTrajectoryLength(max_trajectory))\n",
    "    # the output information will be saved in pc instead of the default which is Mpc\n",
    "    output.setLengthScale(pc)\n",
    "    # each particle position will be saved in the above specified text field.\n",
    "    sim.add(output)\n",
    "    # compare the simulation time of both propagation methods\n",
    "    t0 = Time.time()\n",
    "    # run the simulation\n",
    "    sim.run(c, True)\n",
    "    t1 = Time.time()\n",
    "    output.close()\n",
    "    print('Simulation time with module '+ str(module)+' is '+str(t1-t0)+'s.')\n",
    "    Time.sleep(0.5)\n",
    "    return max_trajectory, p_z, r_g_0"
   ]
  },
  {
   "cell_type": "markdown",
   "metadata": {},
   "source": [
    "## Load Simulation Data"
   ]
  },
  {
   "cell_type": "markdown",
   "metadata": {},
   "source": [
    "There are several ways to load the simulation data. Pandas is helpful to load files. To illustrate this, we will load and process the data with pandas."
   ]
  },
  {
   "cell_type": "code",
   "execution_count": 5,
   "metadata": {
    "scrolled": false
   },
   "outputs": [],
   "source": [
    "import pandas as pd\n",
    "\n",
    "def load_data(text, r_g):\n",
    "    data = pd.read_csv(text, \n",
    "                 names=['D','ID','E','X','Y','Z','Px','Py','Pz'], delimiter='\\t', comment='#',\n",
    "                 usecols=[\"D\", \"X\", \"Y\", \"Z\",\"Px\",\"Py\",\"Pz\"])\n",
    "\n",
    "    ### distances are saved in units of pc\n",
    "    ### transform so that the center of the gyromotion is at (0,0)\n",
    "    data.X = data.X.values-r_g/2**0.5\n",
    "    data.Y = data.Y.values+r_g/2**0.5\n",
    "    ### convert disctance in kpc\n",
    "    data.D = data.D.values/1000.\n",
    "    \n",
    "    ### calcualte gyro radius\n",
    "    data['R'] = (data.X**2+data.Y**2)**0.5\n",
    "\n",
    "    return data"
   ]
  }
 ],
 "metadata": {
  "kernelspec": {
   "display_name": "Python 2",
   "language": "python",
   "name": "python2"
  },
  "language_info": {
   "codemirror_mode": {
    "name": "ipython",
    "version": 2
   },
   "file_extension": ".py",
   "mimetype": "text/x-python",
   "name": "python",
   "nbconvert_exporter": "python",
   "pygments_lexer": "ipython2",
   "version": "2.7.15rc1"
  }
 },
 "nbformat": 4,
 "nbformat_minor": 2
}
