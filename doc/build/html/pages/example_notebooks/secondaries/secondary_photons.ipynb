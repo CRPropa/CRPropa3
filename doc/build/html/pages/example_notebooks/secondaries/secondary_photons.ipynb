{
 "cells": [
  {
   "cell_type": "markdown",
   "metadata": {
    "deletable": true,
    "editable": true
   },
   "source": [
    "# Photon Propagation"
   ]
  },
  {
   "cell_type": "markdown",
   "metadata": {},
   "source": [
    "This examples shows how to propagate electromagnetic cascades at ultra-high energies.\n",
    "Note that the `EM*` modules act on photons and electrons only, such that these modules can be used concomitantly with the modules to propagate cosmic-ray nuclei to treat secondary photons produced by cosmic rays.\n",
    "\n",
    "These simulations can be very time consuming. This particular example shown below can take several minutes to run.\n",
    "\n",
    "Here we simulate the propagation of UHE protons. We track the electromagnetic cascades initiated by the photons and electrons produced via photopion production. We ignore the electrons produce via Bether-Heitler pair production to make it possible to run the example within a reasonable time."
   ]
  },
  {
   "cell_type": "markdown",
   "metadata": {},
   "source": [
    "## Setting up the simulation"
   ]
  },
  {
   "cell_type": "code",
   "execution_count": 18,
   "metadata": {
    "collapsed": true,
    "deletable": true,
    "editable": true,
    "scrolled": true
   },
   "outputs": [],
   "source": [
    "from crpropa import *\n",
    "\n",
    "# file names for output\n",
    "filename1 = 'primary_protons.txt'\n",
    "filename2 = 'secondaries_photons.txt'\n",
    "filename3 = 'secondaries_electrons.txt'\n",
    "\n",
    "photons = True\n",
    "neutrinos = False\n",
    "electrons = True\n",
    "\n",
    "# background photon fields\n",
    "cmb = CMB()\n",
    "ebl = IRB_Gilmore12()\n",
    "crb = URB_Protheroe96()\n",
    "\n",
    "\n",
    "# source setup\n",
    "source = Source()\n",
    "source.add(SourceParticleType(nucleusId(1, 1)))\n",
    "source.add(SourcePowerLawSpectrum(10 * EeV, 100 * EeV, -2))\n",
    "source.add(SourceUniform1D(0, 100 * Mpc))\n",
    "\n",
    "# setup module list for proton propagation\n",
    "m = ModuleList()\n",
    "m.add(SimplePropagation(0, 10 * Mpc))\n",
    "m.add(MinimumEnergy(1 * EeV))\n",
    "\n",
    "# observer\n",
    "obs1 = Observer() # proton output\n",
    "obs1.add(ObserverPoint())\n",
    "obs1.add(ObserverPhotonVeto()) # we don't want photons here\n",
    "obs1.add(ObserverElectronVeto()) # we don't want electrons\n",
    "out1 = TextOutput(filename1, Output.Event1D)\n",
    "out1.setEnergyScale(eV)\n",
    "out1.enable(Output.WeightColumn)\n",
    "obs1.onDetection(out1)\n",
    "\n",
    "obs2 = Observer() # photon output\n",
    "obs2.add(ObserverPoint())\n",
    "# obs2.add(ObserverDetectAll()) # stores the photons at creation without propagating them\n",
    "obs2.add(ObserverElectronVeto())\n",
    "obs2.add(ObserverNucleusVeto()) # we don't want nuclei here\n",
    "out2 = TextOutput(filename2, Output.Event1D)\n",
    "out2.setEnergyScale(eV)\n",
    "# enables the necessary columns to be compatible with the DINT and EleCa propagation\n",
    "# out2.enable(Output.CreatedIdColumn) \n",
    "# out2.enable(Output.CreatedEnergyColumn)\n",
    "# out2.enable(Output.CreatedPositionColumn)\n",
    "out2.enable(Output.WeightColumn)\n",
    "obs2.onDetection(out2)\n",
    "\n",
    "obs3 = Observer() # electron output\n",
    "obs3.add(ObserverPoint())\n",
    "# obs3.add(ObserverDetectAll()) # stores the photons at creation without propagating them\n",
    "obs3.add(ObserverPhotonVeto()) # we don't want photons\n",
    "obs3.add(ObserverNucleusVeto()) # we don't want nuclei here\n",
    "out3 = TextOutput(filename3, Output.Event1D)\n",
    "out3.setEnergyScale(eV)\n",
    "out3.enable(Output.WeightColumn)\n",
    "# enables the necessary columns to be compatible with the DINT and EleCa propagation\n",
    "# out2.enable(Output.CreatedIdColumn) \n",
    "# out2.enable(Output.CreatedEnergyColumn)\n",
    "# out2.enable(Output.CreatedPositionColumn)\n",
    "obs3.onDetection(out3)\n",
    "\n",
    "m.add(obs1)\n",
    "m.add(obs2)\n",
    "m.add(obs3)\n",
    "m.add(ElectronPairProduction(cmb, False)) # secondary electrons are disabled here for this test\n",
    "m.add(PhotoPionProduction(cmb, photons, neutrinos, electrons)) # enable secondary photons\n",
    "m.add(EMPairProduction(cmb, electrons))\n",
    "m.add(EMPairProduction(ebl, electrons))\n",
    "m.add(EMPairProduction(crb, electrons))\n",
    "m.add(EMDoublePairProduction(cmb, electrons))\n",
    "m.add(EMDoublePairProduction(ebl, electrons))\n",
    "m.add(EMDoublePairProduction(crb, electrons))\n",
    "m.add(EMInverseComptonScattering(cmb, photons))\n",
    "m.add(EMInverseComptonScattering(ebl, photons))\n",
    "m.add(EMInverseComptonScattering(crb, photons))\n",
    "m.add(EMTripletPairProduction(cmb, electrons))\n",
    "m.add(EMTripletPairProduction(ebl, electrons))\n",
    "m.add(EMTripletPairProduction(crb, electrons))\n",
    "\n",
    "# run simulation\n",
    "m.run(source, 10000, True)\n",
    "\n",
    "out1.close()\n",
    "out2.close()\n",
    "out3.close()"
   ]
  },
  {
   "cell_type": "markdown",
   "metadata": {
    "deletable": true,
    "editable": true
   },
   "source": [
    "## Plotting results (optional)"
   ]
  },
  {
   "cell_type": "code",
   "execution_count": 21,
   "metadata": {
    "collapsed": false,
    "deletable": true,
    "editable": true,
    "scrolled": true
   },
   "outputs": [
    {
     "data": {
      "image/png": "[encoded data removed]",
      "text/plain": [
       "<Figure size 432x288 with 1 Axes>"
      ]
     },
     "metadata": {
      "needs_background": "light"
     },
     "output_type": "display_data"
    }
   ],
   "source": [
    "%matplotlib inline\n",
    "\n",
    "import numpy as np\n",
    "import matplotlib.pyplot as plt\n",
    "\n",
    "\n",
    "data1 = np.loadtxt(filename1, dtype = np.float64)\n",
    "data2 = np.loadtxt(filename2, dtype = np.float64)\n",
    "data3 = np.loadtxt(filename3, dtype = np.float64)\n",
    "\n",
    "bins = np.logspace(16, 23, 36, endpoint = True)\n",
    "x = (bins[1:] - bins[:-1]) / 2. + bins[:-1]\n",
    "\n",
    "y1, edges = np.histogram(data1[:, 2], bins = bins)\n",
    "y2, edges = np.histogram(data2[:, 2], bins = bins)\n",
    "y3, edges = np.histogram(data3[:, 2], bins = bins)\n",
    "\n",
    "# plot E^2 dN/dE\n",
    "y1 = y1 * x\n",
    "y2 = y2 * x\n",
    "y3 = y3 * x\n",
    "\n",
    "plt.plot(x, y1, label = 'protons')\n",
    "plt.plot(x, y2, label = 'photons')\n",
    "plt.plot(x, y3, label = 'electrons')\n",
    "plt.xlim(1e16, 1e21)\n",
    "# ylim(1e2, 1e4)\n",
    "plt.xscale('log')\n",
    "plt.yscale('log')\n",
    "plt.xlabel('Energy [eV]')\n",
    "plt.ylabel('Number of Particles')\n",
    "plt.legend()\n",
    "plt.show()"
   ]
  },
  {
   "cell_type": "code",
   "execution_count": null,
   "metadata": {},
   "outputs": [],
   "source": []
  }
 ],
 "metadata": {
  "interpreter": {
   "hash": "d7f94b8b1e41b02170d45ac71ce2d6b011e7cd56207b4c480f5292088bcfab93"
  },
  "kernelspec": {
   "display_name": "Python 3.8.3 64-bit",
   "name": "python3"
  },
  "language_info": {
   "codemirror_mode": {
    "name": "ipython",
    "version": 3
   },
   "file_extension": ".py",
   "mimetype": "text/x-python",
   "name": "python",
   "nbconvert_exporter": "python",
   "pygments_lexer": "ipython3",
   "version": "3.8.3"
  }
 },
 "nbformat": 4,
 "nbformat_minor": 1
}
