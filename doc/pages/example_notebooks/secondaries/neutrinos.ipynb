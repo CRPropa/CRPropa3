{
 "cells": [
  {
   "cell_type": "markdown",
   "metadata": {},
   "source": [
    "## Example with secondary neutrinos\n",
    "\n",
    "The following is a 1D simulation including secondary neutrinos from photopion production and nuclear decay.\n",
    "Hadrons and Neutrinos are stored separately using two observers.\n",
    "\n",
    "**Note: the simulation might take a minute**"
   ]
  },
  {
   "cell_type": "code",
   "execution_count": 5,
   "metadata": {
    "collapsed": true
   },
   "outputs": [],
   "source": [
    "from crpropa import *\n",
    "\n",
    "neutrinos = True\n",
    "photons = False\n",
    "electrons = False\n",
    "\n",
    "cmb = CMB()\n",
    "ebl = IRB_Gilmore12()\n",
    "\n",
    "# module setup\n",
    "m = ModuleList()\n",
    "m.add(SimplePropagation(10 * kpc, 10 * Mpc))\n",
    "m.add(Redshift())\n",
    "m.add(PhotoPionProduction(cmb, photons, neutrinos))\n",
    "m.add(PhotoPionProduction(ebl, photons, neutrinos))\n",
    "# m.add(PhotoDisintegration(cmb))  # we are propagating only protons\n",
    "# m.add(PhotoDisintegration(ebl))\n",
    "m.add(NuclearDecay(electrons, photons, neutrinos))\n",
    "m.add(ElectronPairProduction(cmb))\n",
    "m.add(ElectronPairProduction(ebl))\n",
    "m.add(MinimumEnergy(1e17 * eV))\n",
    "\n",
    "# observer for hadrons\n",
    "obs1 = Observer()\n",
    "obs1.add(Observer1D())\n",
    "obs1.add(ObserverNeutrinoVeto())  # we don't want neutrinos here\n",
    "output1 = TextOutput('out-nucleons.txt', Output.Event1D)\n",
    "output1.setEnergyScale(eV)\n",
    "obs1.onDetection(output1)\n",
    "m.add(obs1)\n",
    "# observer for neutrinos\n",
    "obs2 = Observer()\n",
    "obs2.add(Observer1D())\n",
    "obs2.add(ObserverNucleusVeto())  # we don't want hadrons here\n",
    "output2 = TextOutput('out-neutrinos.txt', Output.Event1D)\n",
    "output2.setEnergyScale(eV)\n",
    "obs2.onDetection(output2)\n",
    "m.add(obs2)\n",
    "\n",
    "# source: protons with power-law spectrum from uniformly distributed sources with redshift z = 0-3\n",
    "source = Source()\n",
    "source.add(SourceUniform1D(0, redshift2ComovingDistance(3)))\n",
    "source.add(SourceRedshift1D())\n",
    "source.add(SourcePowerLawSpectrum(1e17 * eV, 1e22 * eV, -1))\n",
    "source.add(SourceParticleType(nucleusId(1, 1)))\n",
    "\n",
    "# run simulation for 5000 primaries and propagate all secondaries\n",
    "m.setShowProgress(True)\n",
    "m.run(source, 5000, True)\n",
    "\n",
    "output1.close()\n",
    "output2.close()"
   ]
  },
  {
   "cell_type": "markdown",
   "metadata": {},
   "source": [
    "### Plotting the neutrino energy distribution"
   ]
  },
  {
   "cell_type": "code",
   "execution_count": 10,
   "metadata": {},
   "outputs": [
    {
     "data": {
      "image/png": "[encoded data removed]",
      "text/plain": [
       "<Figure size 432x288 with 1 Axes>"
      ]
     },
     "metadata": {
      "needs_background": "light"
     },
     "output_type": "display_data"
    }
   ],
   "source": [
    "%matplotlib inline\n",
    "import numpy as np\n",
    "import matplotlib.pyplot as plt\n",
    "\n",
    "\n",
    "d = np.genfromtxt('out-neutrinos.txt', names=True)\n",
    "plt.hist(np.log10(d['E']), bins=np.linspace(17, 22, 51), histtype='step', density=True, stacked=True)\n",
    "plt.xlabel(r'$\\log_{10}(E/{\\rm eV})$')\n",
    "plt.ylabel(r'$n_\\nu$ [a.u.]')\n",
    "plt.show()"
   ]
  }
 ],
 "metadata": {
  "interpreter": {
   "hash": "f9f85f796d01129d0dd105a088854619f454435301f6ffec2fea96ecbd9be4ac"
  },
  "kernelspec": {
   "display_name": "Python 3.9.5 64-bit",
   "name": "python3"
  },
  "language_info": {
   "name": "python",
   "version": ""
  }
 },
 "nbformat": 4,
 "nbformat_minor": 1
}