{
 "cells": [
  {
   "cell_type": "markdown",
   "metadata": {},
   "source": [
    "## First Order Fermi Acceleration"
   ]
  },
  {
   "cell_type": "markdown",
   "metadata": {},
   "source": [
    "For first order Fermi acceleration, the movement of the scatter center is directed. This is accounted for\n",
    "using the DirectedFlowScattering module, that adapts the step length based the direction of the flow of scatter centers - it is harder to travel against the flow, as the scatter probability increases.\n",
    "\n",
    "The velociy of the scatter centers is different upstream and downstream of the shock- restricting acceleration modules with corresponding parameters to certain regions using the geometry tools of CRpropa achieves the expected acceleration.\n"
   ]
  },
  {
   "cell_type": "markdown",
   "metadata": {},
   "source": [
    "In the following, we demonstrate acceleration in the 'text-book' scenario for first order Fermi acceleration, \n",
    "a shock in the $y,z$-plane, located at $x = 0$, and the flow of scatter center parallel to the $x$ axis. We specifiy the size of upstream and downstream regions to be 10 kpc and 100 pc, respectively and the acceleration region of infinite size in $y,z$ dimension. The sizes need to be large enough compared to the step-length so that the probability to return to the shock is not affected to achieve the expected result. Too small sizes for either region, or also a finite dimension in $y,z$ will reduce the return probability and thus steepen the spectrum.  The infinitely large $y,z$ dimension is achieved by a reflective box of finite size. The actual size of this box in y and z dimensions, doesn't matter but should probably not be much smaller than the steplength to avoid multiple reflections in one step."
   ]
  },
  {
   "cell_type": "code",
   "execution_count": 23,
   "metadata": {},
   "outputs": [],
   "source": [
    "import crpropa\n",
    "scatter_velocity = 0.1 * crpropa.c_light\n",
    "step_length = 0.5 * crpropa.parsec\n",
    "\n",
    "flow_direction = crpropa.Vector3d(1., 0, 0) * scatter_velocity\n",
    "yzsize = 100. * crpropa.parsec\n",
    "\n",
    "\n",
    "upstream_velocity = flow_direction\n",
    "upstreamSize = 10000. * crpropa.parsec\n",
    "upstreamGeometry = crpropa.ParaxialBox(crpropa.Vector3d(-1 * upstreamSize, -.5 * yzsize, -.5 * yzsize),\n",
    "                         crpropa.Vector3d(upstreamSize, yzsize, yzsize))\n",
    "upstream_scatter_module = crpropa.DirectedFlowScattering(upstream_velocity, step_length)\n",
    "upstream = crpropa.RestrictToRegion(upstream_scatter_module, upstreamGeometry)\n",
    "\n",
    "\n",
    "downstreamSize = 100. * crpropa.parsec\n",
    "downstream_velocity = flow_direction * 1./4\n",
    "downstreamGeometry = crpropa.ParaxialBox(crpropa.Vector3d(0, -.5 * yzsize, -.5 * yzsize),\n",
    "                           crpropa.Vector3d(downstreamSize, yzsize, yzsize))\n",
    "downstream_scatter_module = crpropa.DirectedFlowScattering(downstream_velocity, step_length)\n",
    "downstream = crpropa.RestrictToRegion(downstream_scatter_module, downstreamGeometry)\n",
    " \n",
    "simulation = crpropa.ModuleList()\n",
    "simulation.add(upstream)\n",
    "simulation.add(downstream)\n",
    "simulation.add(crpropa.ReflectiveBox(crpropa.Vector3d(-upstreamSize * 2, -yzsize /2, -yzsize /2),\n",
    "    crpropa.Vector3d(upstreamSize * 2 + downstreamSize * 2, yzsize, yzsize)))"
   ]
  },
  {
   "cell_type": "markdown",
   "metadata": {},
   "source": [
    "The rest of the simulation is inititlized as usual with two sheet observers upstream and downstream. The upstream observer should not detect any particles but acts as a safe guard and cross check.\n",
    "\n",
    "We inject particles close to the shock in the upstream region wit $E_0 = 10^{16}$ eV in this example.\n"
   ]
  },
  {
   "cell_type": "code",
   "execution_count": 6,
   "metadata": {},
   "outputs": [],
   "source": [
    "simulation.add(crpropa.SimplePropagation(1E-4 *crpropa.parsec, .5 *crpropa.parsec))\n",
    "obs1 = crpropa.Observer()\n",
    "obs1.add(crpropa.ObserverSurface(crpropa.Plane(crpropa.Vector3d(-upstreamSize, 0, 0), crpropa.Vector3d(1., 0, 0))))\n",
    "obs1.setDeactivateOnDetection(True)\n",
    "output1 = crpropa.HDF5Output('shock_upstream.h5', crpropa.Output.Event3D)\n",
    "obs1.onDetection(output1)\n",
    "simulation.add(obs1)\n",
    "\n",
    "obs2 = crpropa.Observer()\n",
    "obs2.add(crpropa.ObserverSurface(crpropa.Plane(crpropa.Vector3d(downstreamSize, 0, 0), crpropa.Vector3d(1., 0, 0))))\n",
    "\n",
    "obs2.setDeactivateOnDetection(True)\n",
    "output2 = crpropa.HDF5Output('shock_downstream.h5', crpropa.Output.Event3D)\n",
    "obs2.onDetection(output2)\n",
    "simulation.add(obs2)\n",
    "\n",
    "source = crpropa.Source()\n",
    "source.add(crpropa.SourcePosition(crpropa.Vector3d(-10. * crpropa.parsec, 0, 0)))\n",
    "source.add(crpropa.SourceParticleType(crpropa.nucleusId(1, 1)))\n",
    "source.add(crpropa.SourceEnergy(1E16 * crpropa.eV))\n",
    "source.add(crpropa.SourceIsotropicEmission())\n",
    "\n",
    "\n",
    "# Execute simulation\n",
    "simulation.setShowProgress(True)\n",
    "simulation.run(source, 10000)\n",
    "output1.close()\n",
    "output2.close()\n"
   ]
  },
  {
   "cell_type": "code",
   "execution_count": 24,
   "metadata": {},
   "outputs": [
    {
     "data": {
      "text/plain": [
       "Text(0,0.5,'$J\\\\cdot E^2$ [a.u.]')"
      ]
     },
     "execution_count": 24,
     "metadata": {},
     "output_type": "execute_result"
    },
    {
     "data": {
      "image/png": "[encoded data removed]",
      "text/plain": [
       "<Figure size 432x432 with 1 Axes>"
      ]
     },
     "metadata": {
      "needs_background": "light"
     },
     "output_type": "display_data"
    }
   ],
   "source": [
    "import h5py\n",
    "import numpy as np\n",
    "import pylab as plt\n",
    "from scipy import optimize\n",
    "\n",
    "%matplotlib inline\n",
    "\n",
    "data = h5py.File('shock_downstream.h5','r')\n",
    "\n",
    "E = data['CRPROPA3']['E'] * 1E18\n",
    "bin_edges = 10**np.linspace(15, 21)\n",
    "bin_width = bin_edges[1:] - bin_edges[:-1]\n",
    "bin_center = bin_edges[:-1] + 0.5 * bin_width\n",
    "\n",
    "H = np.histogram(data['CRPROPA3']['E'] * 1E18, bins=bin_edges)\n",
    "\n",
    "J = H[0] / bin_width\n",
    "\n",
    "dJ = np.sqrt(H[0]) / bin_width\n",
    "\n",
    "fig = plt.figure(figsize=(6, 6))\n",
    "sp = fig.add_subplot(111)\n",
    "sp.loglog()\n",
    "sp.errorbar(bin_center, J * bin_center**2, xerr=bin_width/2, yerr=dJ * bin_center**2, ls='None')\n",
    "sp.set_xlabel('$E$ / eV')\n",
    "sp.set_ylabel('$J\\cdot E^2$ [a.u.]')\n",
    "\n",
    "\n"
   ]
  },
  {
   "cell_type": "markdown",
   "metadata": {},
   "source": [
    "yielding the expected $J\\propto E^{-2}$ relationship."
   ]
  },
  {
   "cell_type": "markdown",
   "metadata": {},
   "source": [
    "Due to the power law nature of the acceleration the simualtions may become quite time consuming if large energy gains are of interest. Particle splitting, i.e. inverse thinning, can be used here to reduce the simualtion effort. In the example above, adding the  following code enables particle splitting at the shock front."
   ]
  },
  {
   "cell_type": "code",
   "execution_count": null,
   "metadata": {},
   "outputs": [],
   "source": [
    "shock_surface = crpropa.Plane(crpropa.Vector3d(0., 0, 0), crpropa.Vector3d(1., 0, 0))\n",
    "split = crpropa.ParticleSplitting(shock_surface)\n",
    "simulation.add(split)\n",
    "output2.enable(output2.WeightColumn)\n",
    "output1.enable(output2.WeightColumn)"
   ]
  }
 ],
 "metadata": {
  "kernelspec": {
   "display_name": "Python 2",
   "language": "python",
   "name": "python2"
  },
  "language_info": {
   "codemirror_mode": {
    "name": "ipython",
    "version": 2
   },
   "file_extension": ".py",
   "mimetype": "text/x-python",
   "name": "python",
   "nbconvert_exporter": "python",
   "pygments_lexer": "ipython2",
   "version": "2.7.16"
  }
 },
 "nbformat": 4,
 "nbformat_minor": 2
}
