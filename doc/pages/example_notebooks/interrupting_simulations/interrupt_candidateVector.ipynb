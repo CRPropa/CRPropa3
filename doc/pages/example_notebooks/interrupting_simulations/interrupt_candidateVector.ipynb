{
 "cells": [
  {
   "cell_type": "markdown",
   "metadata": {},
   "source": [
    "# interrupting and continuing of a simulation"
   ]
  },
  {
   "cell_type": "code",
   "execution_count": 5,
   "metadata": {},
   "outputs": [],
   "source": [
    "from crpropa import * \n",
    "import numpy as np \n",
    "import matplotlib.pyplot\n",
    "import os \n",
    "from multiprocessing import cpu_count"
   ]
  },
  {
   "cell_type": "markdown",
   "metadata": {},
   "source": [
    "## example simulation\n",
    "\n",
    "\n",
    "We test the interruption on the propagation of a spectrum with $E^{-1}$ from a distance of 1 Gpc with 1e7 particles. \n",
    "\n",
    "\n"
   ]
  },
  {
   "cell_type": "code",
   "execution_count": 2,
   "metadata": {},
   "outputs": [],
   "source": [
    "# create candidate vector with increasing energies\n",
    "lg_E_min = 17\n",
    "lg_E_max = 21\n",
    "lgE = np.random.uniform(lg_E_min, lg_E_max, 100_000)\n",
    "lgE.sort()"
   ]
  },
  {
   "cell_type": "code",
   "execution_count": 3,
   "metadata": {},
   "outputs": [],
   "source": [
    "def init_candidate_vector():\n",
    "    \"\"\" initilize the candidate vector. Has to be done before every simulation. \"\"\"\n",
    "    cv = CandidateVector()\n",
    "    for i, _e in enumerate(lgE): \n",
    "        c = Candidate(i, 10**_e * eV, Vector3d(1 * Gpc, 0, 0), Vector3d(-1, 0, 0)) \n",
    "        cv.push_back(CandidateRefPtr(c))\n",
    "    return cv"
   ]
  },
  {
   "cell_type": "markdown",
   "metadata": {},
   "source": [
    "### full simulation"
   ]
  },
  {
   "cell_type": "code",
   "execution_count": 31,
   "metadata": {},
   "outputs": [
    {
     "name": "stdout",
     "output_type": "stream",
     "text": [
      "crpropa::ModuleList: Number of Threads: 12\n",
      "Run ModuleList\n",
      "  Started Wed Sep  4 16:28:28 2024 : [\u001b[1;32m Finished \u001b[0m] 100%    Needed: 00:00:55  - Finished at Wed Sep  4 16:29:23 2024\n",
      "\r"
     ]
    }
   ],
   "source": [
    "# general setup \n",
    "def get_sim(filename):\n",
    "    \"\"\" returns a modulelist to ensure running the same modules in each case \"\"\"\n",
    "    \n",
    "    sim = ModuleList() \n",
    "    sim.add(SimplePropagation(1 * kpc, 10 * kpc)) # choose small steps to ensure long simulations \n",
    "\n",
    "    obs = Observer() \n",
    "    obs.add(Observer1D())\n",
    "    out = TextOutput(filename) \n",
    "    obs.onDetection(out) \n",
    "    sim.add(obs)\n",
    "\n",
    "    sim.setShowProgress(True)\n",
    "    return sim, out\n",
    "\n",
    "os.makedirs(\"cand_vector\", exist_ok=True)\n",
    "sim, out = get_sim(\"cand_vector/full.txt\") \n",
    "cv = init_candidate_vector()\n",
    "sim.run(cv)\n",
    "out.close()"
   ]
  },
  {
   "cell_type": "markdown",
   "metadata": {},
   "source": [
    "### simulation with interruption"
   ]
  },
  {
   "cell_type": "code",
   "execution_count": 32,
   "metadata": {},
   "outputs": [
    {
     "name": "stdout",
     "output_type": "stream",
     "text": [
      "crpropa::ModuleList: Number of Threads: 12\n",
      "Run ModuleList\n",
      "  Started Wed Sep  4 16:29:24 2024 : [====>     ]  43%    Finish in: 00:00:30 \r"
     ]
    },
    {
     "name": "stderr",
     "output_type": "stream",
     "text": [
      "crpropa::ModuleList: Signal 2 (SIGINT/SIGTERM) received\n",
      "############################################################################\n",
      "#\tInterrupted CRPropa simulation \n",
      "# in total 56959 Candidates have not been started.\n",
      "# the indicies of the vector haven been written to to output file. \n",
      "############################################################################\n"
     ]
    },
    {
     "ename": "KeyboardInterrupt",
     "evalue": "",
     "output_type": "error",
     "traceback": [
      "\u001b[0;31m---------------------------------------------------------------------------\u001b[0m",
      "\u001b[0;31mKeyboardInterrupt\u001b[0m                         Traceback (most recent call last)",
      "Cell \u001b[0;32mIn[32], line 8\u001b[0m\n\u001b[1;32m      6\u001b[0m sim\u001b[38;5;241m.\u001b[39msetShowProgress(\u001b[38;5;28;01mTrue\u001b[39;00m) \n\u001b[1;32m      7\u001b[0m cv \u001b[38;5;241m=\u001b[39m init_candidate_vector()\n\u001b[0;32m----> 8\u001b[0m sim\u001b[38;5;241m.\u001b[39mrun(cv)\n",
      "\u001b[0;31mKeyboardInterrupt\u001b[0m: "
     ]
    }
   ],
   "source": [
    "sim, out = get_sim(\"cand_vector/interrupted.txt\")\n",
    "\n",
    "out_interrupt = TextOutput(\"cand_vector/on_interruption.txt\")\n",
    "sim.setInterruptAction(out_interrupt)\n",
    "\n",
    "sim.setShowProgress(True) \n",
    "cv = init_candidate_vector()\n",
    "sim.run(cv)"
   ]
  },
  {
   "cell_type": "code",
   "execution_count": 33,
   "metadata": {},
   "outputs": [],
   "source": [
    "out.close()"
   ]
  },
  {
   "cell_type": "code",
   "execution_count": 34,
   "metadata": {},
   "outputs": [
    {
     "name": "stdout",
     "output_type": "stream",
     "text": [
      "number of indices read from file: 56959\n"
     ]
    }
   ],
   "source": [
    "# load candidates from interrupted simulation \n",
    "\n",
    "file = \"cand_vector/on_interruption.txt\"\n",
    "pc = ParticleCollector() \n",
    "pc.load(file)\n",
    "\n",
    "# expected size of particles should be equal to the number of cores \n",
    "assert pc.size() <= cpu_count() , f\"the number of loaded particles ({pc.size()}) must be lower or equal to the number of cores ({cpu_count()})\"\n",
    "\n",
    "# load indicies of not started candidates\n",
    "with open(file, \"r\") as f: \n",
    "    line = f.readlines()[-1]\n",
    "    indices = np.array(line.strip(\"\\n\").split(\"\\t\")[1:-1], dtype= int)\n",
    "\n",
    "print(\"number of indices read from file:\", len(indices))"
   ]
  },
  {
   "cell_type": "code",
   "execution_count": 35,
   "metadata": {},
   "outputs": [],
   "source": [
    "# create a new candidate vector with the missing particles \n",
    "cv_new = pc.getContainer()\n",
    "cv = init_candidate_vector()\n",
    "for i, c in enumerate(cv): \n",
    "    if i in indices: \n",
    "        cv_new.push_back(c)\n",
    "    "
   ]
  },
  {
   "cell_type": "code",
   "execution_count": 36,
   "metadata": {},
   "outputs": [
    {
     "name": "stdout",
     "output_type": "stream",
     "text": [
      "crpropa::ModuleList: Number of Threads: 12\n",
      "Run ModuleList\n",
      "  Started Wed Sep  4 16:29:55 2024 : [\u001b[1;32m Finished \u001b[0m] 100%    Needed: 00:00:37  - Finished at Wed Sep  4 16:30:32 2024\n",
      "\r"
     ]
    }
   ],
   "source": [
    "# run the simulation with the missing candidates \n",
    "sim, out = get_sim(\"cand_vector/continued.txt\")\n",
    "sim.run(cv_new)\n",
    "out.close()"
   ]
  },
  {
   "cell_type": "markdown",
   "metadata": {},
   "source": [
    "# show the data from the different simulations"
   ]
  },
  {
   "cell_type": "code",
   "execution_count": 37,
   "metadata": {},
   "outputs": [],
   "source": [
    "import pandas as pd \n",
    "import matplotlib.pyplot as plt \n",
    "\n",
    "def read_crp(filename): \n",
    "    \"\"\" read a crpropa output file \"\"\"\n",
    "    \n",
    "    with open(filename) as f: \n",
    "        names = f.readline().strip(\"\\n\").split(\"\\t\")[1:]\n",
    "    \n",
    "    return pd.read_csv(filename, names = names, delimiter = \"\\t\", comment=\"#\")"
   ]
  },
  {
   "cell_type": "code",
   "execution_count": 38,
   "metadata": {},
   "outputs": [],
   "source": [
    "df_full = read_crp(\"cand_vector/full.txt\")\n",
    "df_first_half = read_crp(\"cand_vector/interrupted.txt\")\n",
    "df_second_half = read_crp(\"cand_vector/continued.txt\")"
   ]
  },
  {
   "cell_type": "code",
   "execution_count": 39,
   "metadata": {},
   "outputs": [
    {
     "data": {
      "text/plain": [
       "(43030, 56970)"
      ]
     },
     "execution_count": 39,
     "metadata": {},
     "output_type": "execute_result"
    }
   ],
   "source": [
    "len(df_first_half), len(df_second_half)"
   ]
  },
  {
   "cell_type": "code",
   "execution_count": 40,
   "metadata": {},
   "outputs": [
    {
     "data": {
      "image/png": "[encoded data removed]",
      "text/plain": [
       "<Figure size 960x720 with 1 Axes>"
      ]
     },
     "metadata": {},
     "output_type": "display_data"
    }
   ],
   "source": [
    "e_bins = np.logspace(-1, 3, 101) # in EeV as default output unit \n",
    "dE = np.diff(e_bins) \n",
    "\n",
    "dNdE_full = np.histogram(df_full.E, bins = e_bins)[0] \n",
    "dNdE_first = np.histogram(df_first_half.E, e_bins)[0] \n",
    "dNdE_second = np.histogram(df_second_half.E, e_bins)[0]\n",
    "assert np.all(dNdE_full == (dNdE_first + dNdE_second))\n",
    "\n",
    "plt.figure(dpi = 150) \n",
    "plt.stairs(dNdE_full, label = \"full simulation\")\n",
    "plt.stairs(dNdE_first, label = \"first half\", ls = \"--\")\n",
    "plt.stairs(dNdE_second, label = \"second half\", ls = \"--\")\n",
    "plt.loglog()\n",
    "plt.legend()\n",
    "plt.ylabel(\"# particles\")\n",
    "plt.xlabel(\"Energy [GeV]\")\n",
    "plt.show()"
   ]
  },
  {
   "cell_type": "markdown",
   "metadata": {},
   "source": [
    "# check ID number of particles"
   ]
  },
  {
   "cell_type": "code",
   "execution_count": 41,
   "metadata": {},
   "outputs": [],
   "source": [
    "id_list_full = list(df_full.ID)\n",
    "id_list_full.sort() \n",
    "assert np.all(id_list_full == np.arange(100_000))"
   ]
  },
  {
   "cell_type": "code",
   "execution_count": 42,
   "metadata": {},
   "outputs": [],
   "source": [
    "id_list_continued = list(df_first_half.ID) + list(df_second_half.ID)\n",
    "id_list_continued.sort() \n",
    "assert np.all(id_list_continued == np.arange(100_000))"
   ]
  },
  {
   "cell_type": "code",
   "execution_count": null,
   "metadata": {},
   "outputs": [],
   "source": []
  }
 ],
 "metadata": {
  "kernelspec": {
   "display_name": "CRP_Interrupt",
   "language": "python",
   "name": "python3"
  },
  "language_info": {
   "codemirror_mode": {
    "name": "ipython",
    "version": 3
   },
   "file_extension": ".py",
   "mimetype": "text/x-python",
   "name": "python",
   "nbconvert_exporter": "python",
   "pygments_lexer": "ipython3",
   "version": "3.12.4"
  }
 },
 "nbformat": 4,
 "nbformat_minor": 2
}
