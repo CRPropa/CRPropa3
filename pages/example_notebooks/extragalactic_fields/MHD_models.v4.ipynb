{
 "cells": [
  {
   "cell_type": "markdown",
   "metadata": {},
   "source": [
    "# 3D MHD models\n",
    "This notebook explains how to use cubic results of 3D MHD models on a uniform grid in CRPropa.\n",
    "\n",
    "## Supplied data\n",
    "\n",
    "The fields need to be supplied in a raw binary file that contains only single floats, arranged as follows: Starting with the cell values (Bx,By,Bz for magnetic field or rho for density) at the origin of the box, the code continues to read along z, then y and finally x.\n",
    "\n",
    "On https://crpropa.desy.de/ under \"Additional resources\" you can find a number of MHD models used with CRPropa in the literature. \n",
    "\n"
   ]
  },
  {
   "cell_type": "code",
   "execution_count": 1,
   "metadata": {
    "collapsed": true
   },
   "outputs": [],
   "source": [
    "from crpropa import *\n",
    "\n",
    "## settings for MHD model (must be set according to model)\n",
    "filename_bfield = \"clues_primordial.dat\" ## filename of the magnetic field\n",
    "gridOrigin = Vector3d(0,0,0)             ## origin of the 3D data, preferably at boxOrigin\n",
    "gridSize = 1024                          ## size of uniform grid in data points\n",
    "size = 249.827*Mpc                       ## physical edgelength of volume in Mpc\n",
    "b_factor = 1.                            ## global renormalizatino factor for the field\n",
    "\n",
    "## settings of simulation\n",
    "boxOrigin = Vector3d( 0, 0, 0,)          ## origin of the full box of the simulation\n",
    "boxSize = Vector3d( size, size, size )   ## end of the full box of the simulation\n",
    "\n",
    "## settings for computation\n",
    "minStep = 10.*kpc                        ## minimum length of single step of calculation\n",
    "maxStep = 4.*Mpc                         ## maximum length of single step of calculation\n",
    "tolerance = 1e-2                         ## tolerance for error in iterative calculation of propagation step\n",
    "\n",
    "spacing = size/(gridSize)                ## resolution, physical size of single cell\n",
    "\n",
    "m = ModuleList()\n",
    "\n",
    "\n",
    "## instead of  computing propagation without Lorentz deflection via\n",
    "# m.add(SimplePropagation(minStep,maxStep))\n",
    "\n",
    "## initiate grid to hold field values\n",
    "vgrid = VectorGrid( gridOrigin, gridSize, spacing )\n",
    "## load values to the grid\n",
    "loadGrid( vgrid, filename_bfield, b_factor )\n",
    "## use grid as magnetic field\n",
    "bField = MagneticFieldGrid( vgrid )\n",
    "## add propagation module to the simulation to activate deflection in supplied field\n",
    "m.add(PropagationCK( bField, tolerance, minStep, maxStep))\n",
    "#m.add(DeflectionCK( bField, tolerance, minStep, maxStep))  ## this was used in older versions of CRPropa\n"
   ]
  },
  {
   "cell_type": "markdown",
   "metadata": {},
   "source": [
    "to make use of periodicity of the provided data grid, use"
   ]
  },
  {
   "cell_type": "code",
   "execution_count": 2,
   "metadata": {
    "collapsed": true
   },
   "outputs": [],
   "source": [
    "m.add( PeriodicBox( boxOrigin, boxSize ) )"
   ]
  },
  {
   "cell_type": "markdown",
   "metadata": {},
   "source": [
    "to not follow particles forever, use"
   ]
  },
  {
   "cell_type": "code",
   "execution_count": 3,
   "metadata": {
    "collapsed": true
   },
   "outputs": [],
   "source": [
    "m.add( MaximumTrajectoryLength( 400*Mpc ) ) "
   ]
  },
  {
   "cell_type": "markdown",
   "metadata": {},
   "source": [
    "## Uniform injection\n",
    "\n",
    "The most simple scenario of UHECR sources is a uniform distribution of their sources. This can be realized via use of"
   ]
  },
  {
   "cell_type": "code",
   "execution_count": 4,
   "metadata": {
    "collapsed": true
   },
   "outputs": [],
   "source": [
    "source = Source()\n",
    "source.add( SourceUniformBox( boxOrigin, boxSize )) "
   ]
  },
  {
   "cell_type": "markdown",
   "metadata": {},
   "source": [
    "## Injection following density field\n",
    "\n",
    "The distribution of gas density can be used as a probability density function for the injection of particles from random positions."
   ]
  },
  {
   "cell_type": "code",
   "execution_count": 65,
   "metadata": {
    "collapsed": true
   },
   "outputs": [],
   "source": [
    "filename_density = \"mass-density_clues.dat\" ## filename of the density field\n",
    "\n",
    "source = Source()\n",
    "## initialize grid to hold field values\n",
    "mgrid = ScalarGrid( gridOrigin, gridSize, spacing )\n",
    "## load values  to grid\n",
    "loadGrid( mgrid, filename_density )\n",
    "## add source module to simulation\n",
    "source.add( SourceDensityGrid( mgrid ) )"
   ]
  },
  {
   "cell_type": "markdown",
   "metadata": {},
   "source": [
    "## Mass Halo injection\n",
    "\n",
    "Alternatively, for the CLUES models, we also provide a list of mass halo positions. These positions can be used as sources with same properties by use of the following"
   ]
  },
  {
   "cell_type": "code",
   "execution_count": 67,
   "metadata": {
    "collapsed": true
   },
   "outputs": [],
   "source": [
    "filename_halos = 'clues_halos.dat'\n",
    "\n",
    "# read data from file\n",
    "data = np.loadtxt(filename_halos, unpack=True, skiprows=39)\n",
    "sX = data[0]                                                                                 \n",
    "sY = data[1]                                                                                 \n",
    "sZ = data[2]                                                                                 \n",
    "mass_halo = data[5]                                                                          \n",
    "\n",
    "## find only those mass halos inside the provided volume (see Hackstein et al. 2018 for more details)\n",
    "Xdown= sX >= 0.25                                                                            \n",
    "Xup= sX <= 0.75                                                                              \n",
    "Ydown= sY >= 0.25                                                                            \n",
    "Yup= sY <= 0.75                                                                              \n",
    "Zdown= sZ >= 0.25                                                                            \n",
    "Zup= sZ <= 0.75                                                                              \n",
    "insider= Xdown*Xup*Ydown*Yup*Zdown*Zup                                                       \n",
    "\n",
    "## transform relative positions to physical positions within given grid\n",
    "sX = (sX[insider]-0.25)*2*size\n",
    "sY = (sY[insider]-0.25)*2*size\n",
    "sZ = (sZ[insider]-0.25)*2*size\n",
    "\n",
    "## collect all sources in the multiple sources container\n",
    "smp = SourceMultiplePositions()\n",
    "for i in range(0,len(sX)):\n",
    "    pos = Vector3d( sX[i], sY[i], sZ[i] )\n",
    "    smp.add( pos, 1. )\n",
    "    \n",
    "## add collected sources\n",
    "source = Source()\n",
    "source.add( smp )"
   ]
  },
  {
   "cell_type": "markdown",
   "metadata": {},
   "source": [
    "additional source properties"
   ]
  },
  {
   "cell_type": "code",
   "execution_count": 5,
   "metadata": {
    "collapsed": true
   },
   "outputs": [],
   "source": [
    "## use isotropic emission from all sources\n",
    "source.add( SourceIsotropicEmission() )\n",
    "\n",
    "## set particle type to be injected\n",
    "A, Z = 1, 1 # proton\n",
    "source.add( SourceParticleType( nucleusId(A,Z) ) )\n",
    "\n",
    "## set injected energy spectrum\n",
    "Emin, Emax = 1*EeV, 1000*EeV\n",
    "specIndex = -1\n",
    "source.add( SourcePowerLawSpectrum( Emin, Emax, specIndex ) ) "
   ]
  },
  {
   "cell_type": "markdown",
   "metadata": {},
   "source": [
    "## Observer\n",
    "\n",
    "To register particles, an observer has to be defined. In the provided constrained simulations the position of the Milky Way is, by definition, in the center of the volume."
   ]
  },
  {
   "cell_type": "code",
   "execution_count": 6,
   "metadata": {
    "collapsed": true
   },
   "outputs": [],
   "source": [
    "filename_output = 'output.txt'\n",
    "\n",
    "filename_output = 'data/output_MW.txt'\n",
    "\n",
    "obsPosition = Vector3d(0.5*size,0.5*size,0.5*size) # position of observer, MW is in center of constrained simulations\n",
    "obsSize = 800*kpc  ## physical size of observer sphere\n",
    "\n",
    "\n",
    "## initialize observer that registers particles that enter into sphere of given size around its position\n",
    "obs = Observer()\n",
    "obs.add( ObserverSmallSphere( obsPosition, obsSize ) )\n",
    "## write registered particles to output file\n",
    "obs.onDetection( TextOutput( filename_output ) )\n",
    "## choose to not further follow particles paths once detected\n",
    "obs.setDeactivateOnDetection(True)\n",
    "## add observer to module list\n",
    "m.add(obs)\n"
   ]
  },
  {
   "cell_type": "markdown",
   "metadata": {},
   "source": [
    "finally run the simulation by"
   ]
  },
  {
   "cell_type": "code",
   "execution_count": 7,
   "metadata": {
    "collapsed": true
   },
   "outputs": [],
   "source": [
    "N = 1000\n",
    "\n",
    "m.showModules()         ## optional, see summary of loaded modules\n",
    "m.setShowProgress(True) ## optional, see progress during runtime\n",
    "m.run(source, N, True)  ## perform simulation with N particles injected from source"
   ]
  }
 ],
 "metadata": {
  "kernelspec": {
   "display_name": "Python 3",
   "language": "python",
   "name": "python3"
  },
  "language_info": {
   "codemirror_mode": {
    "name": "ipython",
    "version": 3
   },
   "file_extension": ".py",
   "mimetype": "text/x-python",
   "name": "python",
   "nbconvert_exporter": "python",
   "pygments_lexer": "ipython3",
   "version": "3.5.3"
  }
 },
 "nbformat": 4,
 "nbformat_minor": 2
}
