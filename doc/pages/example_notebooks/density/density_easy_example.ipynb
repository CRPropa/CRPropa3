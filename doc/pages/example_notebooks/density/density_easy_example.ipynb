{
 "cells": [
  {
   "cell_type": "markdown",
   "source": [
    "# First example code for use of densities\n",
    "\n",
    "**All densities are seperated in atomic hydrogen (HI), ioninised hydrogen (HII), and molecular hydrogen (H2).**\n",
    "\n",
    "This example contains \n",
    "* constant densities\n",
    "* superposition of different types \n",
    "* superposition of same types\n",
    "\n",
    "Further on, there is another example for all implemented density models for the Milky Way."
   ],
   "metadata": {}
  },
  {
   "cell_type": "code",
   "execution_count": 8,
   "source": [
    "from crpropa import *"
   ],
   "outputs": [],
   "metadata": {
    "collapsed": true
   }
  },
  {
   "cell_type": "markdown",
   "source": [
    "First, we start with the use of a constant density.\n",
    "The first argument sets the HI, the second the HII, and the third the H2 density numbers, in SI units."
   ],
   "metadata": {}
  },
  {
   "cell_type": "code",
   "execution_count": 9,
   "source": [
    "CD = ConstantDensity(1, 2, 0.5)"
   ],
   "outputs": [],
   "metadata": {
    "collapsed": false
   }
  },
  {
   "cell_type": "markdown",
   "source": [
    "To see the output option we check the density at a random position.\n",
    "\n",
    "The output options are:\n",
    "* getDensity: for the sum of all densities\n",
    "* getHIDensity: for the HI part\n",
    "* getHIIDensity: for the HII part\n",
    "* getH2Density: for the H2 part\n",
    "* getNucleonDensity: for the sum of nuclei ($n_{HI} + n_{HII} + 2\\cdot n_{H2}$)\n"
   ],
   "metadata": {}
  },
  {
   "cell_type": "code",
   "execution_count": 10,
   "source": [
    "position = Vector3d(2, 1, 3)\n",
    "\n",
    "n_tot = CD.getDensity(position)\n",
    "n_HI = CD.getHIDensity(position)\n",
    "n_HII = CD.getHIIDensity(position)\n",
    "n_H2 = CD.getH2Density(position)\n",
    "n_nucl = CD.getNucleonDensity(position)\n",
    "\n",
    "\n",
    "print('total density n = %f' % n_tot)\n",
    "print('HI density n_HI = %f' % n_HI)\n",
    "print('HII density n_HII = %f' % n_HII)\n",
    "print('H2 density n_H2 = %f' % n_H2)\n",
    "print('nucleon density n_nucl = %f' % n_nucl)"
   ],
   "outputs": [
    {
     "output_type": "stream",
     "name": "stdout",
     "text": [
      "total density n = 3.500000\n",
      "HI density n_HI = 1.000000\n",
      "HII density n_HII = 2.000000\n",
      "H2 density n_H2 = 0.500000\n",
      "nucleon density n_nucl = 4.000000\n"
     ]
    }
   ],
   "metadata": {
    "collapsed": false
   }
  },
  {
   "cell_type": "markdown",
   "source": [
    "The ConstantDensity can be adjusted to new values and the usage of several parts can be chosen.\n",
    "\n",
    "There are methods to change and activate (setter functions) and methods to see actual configuration (`getisfor`-functions)."
   ],
   "metadata": {}
  },
  {
   "cell_type": "code",
   "execution_count": 11,
   "source": [
    "#see the actual configuration\n",
    "print('HI: %s, HII: %s, H2: %s, \\n \\n' % (CD.getIsForHI(), CD.getIsForHII(), CD.getIsForH2()))\n",
    "\n",
    "# change activity\n",
    "CD.setHI(False)\n",
    "\n",
    "# change activity and density number\n",
    "CD.setHII(False, 1.5)\n",
    "\n",
    "# change density number\n",
    "CD.setH2(1.3)\n",
    "\n",
    "# see the changes in the Description\n",
    "print(CD.getDescription())"
   ],
   "outputs": [
    {
     "output_type": "stream",
     "name": "stdout",
     "text": [
      "HI: True, HII: True, H2: True, \n",
      " \n",
      "\n",
      "ConstantDensity:HI component is not activ and has a density of 1e+06 cm^-3      HII component is not activ and  has a density of 1.5e+06 cm^-3      H2 component is activ and  has a density of 1.3e+06 cm^-3\n"
     ]
    }
   ],
   "metadata": {
    "collapsed": false
   }
  },
  {
   "cell_type": "markdown",
   "source": [
    "The output of the getDensity and getNucleonDensity depends on the activity of the types. Only activated types are used for summing up"
   ],
   "metadata": {}
  },
  {
   "cell_type": "code",
   "execution_count": 12,
   "source": [
    "n_tot = CD.getDensity(position)\n",
    "n_HI = CD.getHIDensity(position)\n",
    "n_HII = CD.getHIIDensity(position)\n",
    "n_H2 = CD.getH2Density(position)\n",
    "n_nucl = CD.getNucleonDensity(position)\n",
    "\n",
    "\n",
    "print('total density n = %f' % n_tot)\n",
    "print('HI density n_HI = %f' % n_HI)\n",
    "print('HII density n_HII = %f' % n_HII)\n",
    "print('H2 density n_H2 = %f' % n_H2)\n",
    "print('nucleon density n_nucl = %f' % n_nucl)"
   ],
   "outputs": [
    {
     "output_type": "stream",
     "name": "stdout",
     "text": [
      "total density n = 1.300000\n",
      "HI density n_HI = 1.000000\n",
      "HII density n_HII = 1.500000\n",
      "H2 density n_H2 = 1.300000\n",
      "nucleon density n_nucl = 2.600000\n"
     ]
    }
   ],
   "metadata": {
    "collapsed": false
   }
  },
  {
   "cell_type": "markdown",
   "source": [
    "## Customize a density with different density models\n",
    "To customize a density, use the DensityList.\n",
    "In a superposition of global models of density distributions of the Milky Way, normalisation is automatically taken care of. Therefore, you can just add components by deactivating the others."
   ],
   "metadata": {}
  },
  {
   "cell_type": "code",
   "execution_count": 13,
   "source": [
    "CD1 = ConstantDensity(0, 2, 0)     # for use HII\n",
    "CD2 = ConstantDensity(3, 1, 2.5)   # for use HI, H2\n",
    "\n",
    "CUS = DensityList()\n",
    "\n",
    "# first deactivate not wanted parts\n",
    "\n",
    "CD1.setHI(False)\n",
    "CD1.setH2(False)\n",
    "CD2.setHII(False)  \n",
    "\n",
    "# add density \n",
    "CUS.addDensity(CD1)\n",
    "CUS.addDensity(CD2)\n",
    "\n",
    "# get output\n",
    "n_tot = CUS.getDensity(position)\n",
    "n_HI = CUS.getHIDensity(position)\n",
    "n_HII = CUS.getHIIDensity(position)\n",
    "n_H2 = CUS.getH2Density(position)\n",
    "n_nucl = CUS.getNucleonDensity(position)\n",
    "\n",
    "print('total density n = %f' % n_tot)\n",
    "print('HI density n_HI = %f' % n_HI)\n",
    "print('HII density n_HII = %f' % n_HII)\n",
    "print('H2 density n_H2 = %f' % n_H2)\n",
    "print('nucleon density n_nucl = %f' % n_nucl)"
   ],
   "outputs": [
    {
     "output_type": "stream",
     "name": "stdout",
     "text": [
      "total density n = 7.500000\n",
      "HI density n_HI = 3.000000\n",
      "HII density n_HII = 3.000000\n",
      "H2 density n_H2 = 2.500000\n",
      "nucleon density n_nucl = 10.000000\n"
     ]
    }
   ],
   "metadata": {
    "collapsed": false
   }
  },
  {
   "cell_type": "markdown",
   "source": [
    "### DensityList\n",
    "you can also superposition total models without deactivating several components"
   ],
   "metadata": {}
  },
  {
   "cell_type": "code",
   "execution_count": 14,
   "source": [
    "#set wanted density\n",
    "CD1 = ConstantDensity(1, 3, 4)\n",
    "CD2 = ConstantDensity(1.5, 2, 3.3)\n",
    "\n",
    "DL = DensityList()\n",
    "\n",
    "# add density to list\n",
    "\n",
    "DL.addDensity(CD1)\n",
    "DL.addDensity(CD2)\n",
    "\n",
    "# see output\n",
    "n_tot = DL.getDensity(position)\n",
    "n_HI = DL.getHIDensity(position)\n",
    "n_HII = DL.getHIIDensity(position)\n",
    "n_H2 = DL.getH2Density(position)\n",
    "n_nucl = DL.getNucleonDensity(position)\n",
    "\n",
    "print('total density n = %f' % n_tot)\n",
    "print('HI density n_HI = %f' % n_HI)\n",
    "print('HII density n_HII = %f' % n_HII)\n",
    "print('H2 density n_H2 = %f' % n_H2)\n",
    "print('nucleon density n_nucl = %f' % n_nucl)"
   ],
   "outputs": [
    {
     "output_type": "stream",
     "name": "stdout",
     "text": [
      "total density n = 14.800000\n",
      "HI density n_HI = 2.500000\n",
      "HII density n_HII = 5.000000\n",
      "H2 density n_H2 = 7.300000\n",
      "nucleon density n_nucl = 22.100000\n"
     ]
    }
   ],
   "metadata": {
    "collapsed": false
   }
  }
 ],
 "metadata": {
  "kernelspec": {
   "name": "python3",
   "display_name": "Python 3.8.3 64-bit"
  },
  "language_info": {
   "name": "python",
   "version": "3.8.3",
   "mimetype": "text/x-python",
   "codemirror_mode": {
    "name": "ipython",
    "version": 3
   },
   "pygments_lexer": "ipython3",
   "nbconvert_exporter": "python",
   "file_extension": ".py"
  },
  "interpreter": {
   "hash": "d7f94b8b1e41b02170d45ac71ce2d6b011e7cd56207b4c480f5292088bcfab93"
  }
 },
 "nbformat": 4,
 "nbformat_minor": 2
}
