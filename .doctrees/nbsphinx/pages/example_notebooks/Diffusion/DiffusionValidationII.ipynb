{
 "cells": [
  {
   "cell_type": "markdown",
   "metadata": {},
   "source": [
    "# Diffusion Validation II"
   ]
  },
  {
   "cell_type": "markdown",
   "metadata": {},
   "source": [
    "#### This notebbok simulates a diffusion process in a homogenous background magnetic field. The diffusion tensor is anisotropic, meaning the parallel component is larger than the perpendicular component ($\\kappa_\\parallel = 10\\cdot\\kappa_\\perp$). Additionally, a wind in a perpendicular direction is included."
   ]
  },
  {
   "cell_type": "markdown",
   "metadata": {},
   "source": [
    "Load modules and use jupyter inline magic to use interactive plots."
   ]
  },
  {
   "cell_type": "code",
   "execution_count": 1,
   "metadata": {},
   "outputs": [],
   "source": [
    "%matplotlib inline\n",
    "\n",
    "import pandas as pd\n",
    "import matplotlib.pyplot as plt\n",
    "import seaborn as sns\n",
    "import numpy as np\n",
    "from scipy.stats import chisquare\n",
    "from scipy.integrate import quad\n",
    "from scipy.stats import anderson\n",
    "from crpropa import *\n",
    "\n",
    "#figure settings\n",
    "A4heigth = 29.7/2.54\n",
    "A4width = 21./2.54"
   ]
  },
  {
   "cell_type": "markdown",
   "metadata": {},
   "source": [
    "Definition of the probability distribution function of the particle density in one dimension: <br>\n",
    "$\\psi(R, t) = \\frac{2}{\\sqrt{4 \\pi D t}} \\cdot \\exp{-\\frac{R^2}{4 D t}}$ <br>\n",
    "Here, $R=||\\vec{R}||$ is the norm of the position."
   ]
  },
  {
   "cell_type": "code",
   "execution_count": 2,
   "metadata": {},
   "outputs": [],
   "source": [
    "def gaussian(x, mu=0, sigma=1, N=1):\n",
    "    \n",
    "    y = (x-mu)\n",
    "    two_sSquare = 2*sigma*sigma\n",
    "    norm = 1./np.sqrt((np.pi*two_sSquare))\n",
    "    \n",
    "    return N*norm*np.exp(-y*y/two_sSquare)"
   ]
  },
  {
   "cell_type": "markdown",
   "metadata": {},
   "source": [
    "Simulation set-up <br>\n",
    "Using 10000 pseudo particle to trace the phase space."
   ]
  },
  {
   "cell_type": "code",
   "execution_count": 3,
   "metadata": {},
   "outputs": [
    {
     "name": "stdout",
     "output_type": "stream",
     "text": [
      "Simulation finished\n"
     ]
    }
   ],
   "source": [
    "N = 10000\n",
    "\n",
    "# magnetic field\n",
    "ConstMagVec = Vector3d(0,0,1)\n",
    "BField = UniformMagneticField(ConstMagVec)\n",
    "\n",
    "# advection field\n",
    "ConstAdvVec = Vector3d(.3, 0, 0)*meter/second\n",
    "AdvField = UniformAdvectionField(ConstAdvVec)\n",
    "\n",
    "# parameters used for field line tracking\n",
    "precision = 1e-4\n",
    "minStep = 1e-1*c_light # corresponds to t_min=0.1 s\n",
    "maxStep = 10*c_light # corresponds to t_max=10 s\n",
    "\n",
    "#ratio between parallel and perpendicular diffusion coefficient\n",
    "epsilon = .1\n",
    "\n",
    "# source settings\n",
    "# A point source at the origin is isotropically injecting 10TeV protons.\n",
    "source = Source()\n",
    "source.add(SourcePosition(Vector3d(0.)))\n",
    "source.add(SourceParticleType(nucleusId(1, 1)))\n",
    "source.add(SourceEnergy(10*TeV))\n",
    "source.add(SourceIsotropicEmission())\n",
    "\n",
    "# Output settings\n",
    "# Only serial number, trajectory length and current position are stored\n",
    "# The unit of length is set to kpc\n",
    "Out = TextOutput('./Test2.txt')\n",
    "Out.disableAll()\n",
    "#Out.enable(Output.TrajectoryLengthColumn)\n",
    "Out.enable(Output.CurrentPositionColumn)\n",
    "#Out.enable(Output.SerialNumberColumn)\n",
    "Out.setLengthScale(1)\n",
    "\n",
    "# Difffusion Module\n",
    "# D_xx=D_yy= 1 m^2 / s, D_zz=10*D_xx\n",
    "# The normalization is adjusted and the energy dependence is deactivated (setting power law index alpha=0)\n",
    "Dif = DiffusionSDE(BField, AdvField, precision, minStep, maxStep, epsilon)\n",
    "Dif.setScale(1./6.1*1e-23)\n",
    "Dif.setAlpha(0.)\n",
    "\n",
    "\n",
    "# Boundary\n",
    "# Simulation ends after t=100kpc/c\n",
    "# Candidates are recorded on rejection\n",
    "maxTra = MaximumTrajectoryLength(1000*c_light) # corresponds to t_fin=1000 s\n",
    "maxTra.onReject(Out)\n",
    "\n",
    "# module list\n",
    "# Add modules to the list and run the simulation\n",
    "sim = ModuleList()\n",
    "\n",
    "sim.add(Dif)\n",
    "sim.add(maxTra)\n",
    "\n",
    "sim.run(source, N, True)\n",
    "\n",
    "# Close the Output modules to flush last chunk of data to file.\n",
    "Out.close()\n",
    "\n",
    "\n",
    "print(\"Simulation finished\")"
   ]
  },
  {
   "cell_type": "markdown",
   "metadata": {},
   "source": [
    "Load the simulation data"
   ]
  },
  {
   "cell_type": "code",
   "execution_count": 4,
   "metadata": {},
   "outputs": [],
   "source": [
    "NAMES = ['X', 'Y', 'Z']\n",
    "df = pd.read_csv('Test2.txt', delimiter='\\t', names=NAMES, comment='#')"
   ]
  },
  {
   "cell_type": "markdown",
   "metadata": {},
   "source": [
    "#### Anderson Darling Test\n",
    "\n",
    "Test the three distributions for normality"
   ]
  },
  {
   "cell_type": "code",
   "execution_count": 5,
   "metadata": {},
   "outputs": [
    {
     "name": "stdout",
     "output_type": "stream",
     "text": [
      "The test statistic is larger than 1.092 in roughly 1 percent of all cases.\n",
      "X 0.17748584728542482\n",
      "Y 0.7288268359425274\n",
      "Z 0.5724466717219912\n"
     ]
    }
   ],
   "source": [
    "print (\"The test statistic is larger than 1.092 in roughly 1 percent of all cases.\")\n",
    "for c in NAMES:\n",
    "    print (c, anderson(df[c], 'norm').statistic)"
   ]
  },
  {
   "cell_type": "markdown",
   "metadata": {},
   "source": [
    "#### Calculate the mean and variance\n",
    "\n",
    "Expected values:\n",
    " * $\\langle x \\rangle = 300\\,\\mathrm{m}$, $\\mathrm{Var}(x)=2tD_x=2000\\,\\mathrm{m^2}$\n",
    " \n",
    " * $\\langle y \\rangle = 0$, $\\mathrm{Var}(y)=2000\\,\\mathrm{m^2}$\n",
    " \n",
    " * $\\langle z \\rangle = 0$, $\\mathrm{Var}(z)=2tD_z=20{,}000\\,\\mathrm{m^2}$\n",
    "\n"
   ]
  },
  {
   "cell_type": "code",
   "execution_count": 6,
   "metadata": {},
   "outputs": [
    {
     "name": "stdout",
     "output_type": "stream",
     "text": [
      "X 300.5112075999999 1996.2768065319556\n",
      "Y -0.09414561009860006 1964.9727477332287\n",
      "Z -1.7849235279660003 19789.558302256584\n"
     ]
    }
   ],
   "source": [
    "for c in NAMES:\n",
    "    print (c, df[c].mean(), df[c].var())"
   ]
  },
  {
   "cell_type": "code",
   "execution_count": 7,
   "metadata": {},
   "outputs": [
    {
     "data": {
      "image/png": "[encoded data removed]",
      "text/plain": [
       "<Figure size 446.4x180 with 3 Axes>"
      ]
     },
     "metadata": {
      "needs_background": "light"
     },
     "output_type": "display_data"
    }
   ],
   "source": [
    "binning=np.linspace(-500, 500, 51)\n",
    "\n",
    "fig = plt.figure(figsize=(6.2, 2.5))\n",
    "ax = fig.add_subplot(131)\n",
    "ax.hist(df.X, bins=binning, histtype='stepfilled', density=10000)\n",
    "x = np.linspace(-500, 500, 10000)\n",
    "y = gaussian(x, mu=300, sigma=np.sqrt(2*1000))\n",
    "ax.plot(x, y)\n",
    "ax.set_xticks([-300, 0, 300])\n",
    "ax.set_xticks(np.linspace(-500, 500, 11), minor=True)\n",
    "ax.set_yticklabels([0, 0.2, 0.4, 0.6, 0.8, 1.0])\n",
    "ax.set_yticks(np.linspace(0,1e-2, 11), minor=True)\n",
    "ax.set_ylim(0,1e-2)\n",
    "ax.set_xlabel(r'$x\\;[\\mathrm{m}]$')\n",
    "ax.set_ylabel(r'$n\\;[\\mathrm{a.u.}]$')\n",
    "\n",
    "ax2 = fig.add_subplot(132)\n",
    "ax2.hist(df.Y, bins=binning, histtype='stepfilled', density=10000)\n",
    "x = np.linspace(-500, 500, 10000)\n",
    "y = gaussian(x, mu=0, sigma=np.sqrt(2*1000))\n",
    "ax2.plot(x, y)\n",
    "ax2.set_xticks([-300, 0, 300])\n",
    "ax2.set_xticks(np.linspace(-500, 500, 11), minor=True)\n",
    "ax2.set_yticklabels([])\n",
    "ax2.set_yticks(np.linspace(0,1e-2, 11), minor=True)\n",
    "ax2.set_ylim(0,1e-2)\n",
    "ax2.set_xlabel(r'$y\\;[\\mathrm{m}]$')\n",
    "\n",
    "ax3 = fig.add_subplot(133)\n",
    "ax3.hist(df.Z, bins=binning, histtype='stepfilled', density=1e4, label='Simulation')\n",
    "x = np.linspace(-500, 500, 10000)\n",
    "y = gaussian(x, mu=0, sigma=np.sqrt(2*1000*10))\n",
    "ax3.plot(x, y, label='Expectation')\n",
    "ax3.set_xticks([-300, 0, 300])\n",
    "ax3.set_xticks(np.linspace(-500, 500, 11), minor=True)\n",
    "ax3.set_yticklabels([])\n",
    "ax3.set_yticks(np.linspace(0,1e-2, 11), minor=True)\n",
    "ax3.set_ylim(0,1e-2)\n",
    "ax3.set_xlabel(r'$z\\;[\\mathrm{m}]$')\n",
    "plt.legend()\n",
    "\n",
    "plt.tight_layout()\n"
   ]
  },
  {
   "cell_type": "markdown",
   "metadata": {},
   "source": [
    "${\\mathrm{\\bf Fig 2:}}$ Distribution of pseudo-particle postion at time $t=1000\\,\\mathrm{s}$ compared to the expected phase space density."
   ]
  }
 ],
 "metadata": {
  "kernelspec": {
   "display_name": "Python 3",
   "language": "python",
   "name": "python3"
  },
  "language_info": {
   "codemirror_mode": {
    "name": "ipython",
    "version": 3
   },
   "file_extension": ".py",
   "mimetype": "text/x-python",
   "name": "python",
   "nbconvert_exporter": "python",
   "pygments_lexer": "ipython3",
   "version": "3.6.9"
  },
  "widgets": {
   "application/vnd.jupyter.widget-state+json": {
    "state": {},
    "version_major": 2,
    "version_minor": 0
   }
  }
 },
 "nbformat": 4,
 "nbformat_minor": 1
}
