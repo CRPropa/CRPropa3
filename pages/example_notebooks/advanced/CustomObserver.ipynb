{
 "cells": [
  {
   "cell_type": "markdown",
   "metadata": {},
   "source": [
    "# Custom Observer\n",
    "\n",
    "This example defines a plane-observer in python."
   ]
  },
  {
   "cell_type": "code",
   "execution_count": 1,
   "metadata": {
    "jupyter": {
     "outputs_hidden": true
    }
   },
   "outputs": [],
   "source": [
    "import crpropa\n",
    "import numpy as np\n",
    "\n",
    "class ObserverPlane(crpropa.ObserverFeature):\n",
    "    \"\"\"\n",
    "    Detects all particles after crossing the plane. Defined by position (any\n",
    "    point in the plane) and vectors v1 and v2.\n",
    "    \"\"\"\n",
    "    def __init__(self, position, v1, v2):\n",
    "        crpropa.ObserverFeature.__init__(self)\n",
    "\n",
    "        # calculate three points of a plane\n",
    "        self.__v1 = v1\n",
    "        self.__v2 = v2\n",
    "        self.__x0 = position\n",
    "\n",
    "    def distanceToPlane(self, X):\n",
    "        \"\"\"\n",
    "        Always positive for one side of plane and negative for the other side.\n",
    "        \"\"\"\n",
    "        dX = np.asarray([X.x - self.__x0[0], X.y - self.__x0[1], X.z - self.__x0[2]])\n",
    "        V = np.linalg.det([self.__v1, self.__v2, dX])\n",
    "        return V\n",
    "\n",
    "    def checkDetection(self, candidate):\n",
    "\n",
    "        currentDistance = self.distanceToPlane(candidate.current.getPosition())\n",
    "        previousDistance = self.distanceToPlane(candidate.previous.getPosition())\n",
    "        candidate.limitNextStep(abs(currentDistance))\n",
    "\n",
    "        if np.sign(currentDistance) == np.sign(previousDistance):\n",
    "            return crpropa.NOTHING\n",
    "        else:\n",
    "            return crpropa.DETECTED"
   ]
  },
  {
   "cell_type": "markdown",
   "metadata": {},
   "source": [
    "As test, we propagate some particles in a random field with a sheet observer:"
   ]
  },
  {
   "cell_type": "code",
   "execution_count": 5,
   "metadata": {
    "jupyter": {
     "outputs_hidden": true
    }
   },
   "outputs": [
    {
     "name": "stdout",
     "output_type": "stream",
     "text": [
      "crpropa::ModuleList: Number of Threads: 8\n"
     ]
    }
   ],
   "source": [
    "from crpropa import Mpc, nG, EeV\n",
    "Brms, lMin, lMax, sIndex=1*nG, 2*Mpc, 5*Mpc, 5./3.\n",
    "turbSpectrum = crpropa.SimpleTurbulenceSpectrum(Brms, lMin, lMax, sIndex)\n",
    "gridprops = crpropa.GridProperties(crpropa.Vector3d(0), 128, 1 * Mpc)\n",
    "BField = crpropa.SimpleGridTurbulence(turbSpectrum, gridprops)\n",
    "\n",
    "m = crpropa.ModuleList()\n",
    "m.add(crpropa.PropagationCK(BField, 1e-4, 0.1 * Mpc, 5 * Mpc))\n",
    "m.add(crpropa.MaximumTrajectoryLength(25 * Mpc))\n",
    "\n",
    "# Observer\n",
    "out = crpropa.TextOutput(\"sheet.txt\")\n",
    "out.disable(crpropa.Output.CandidateTagColumn) # not needed here, if activated loading of data needs to be updated.\n",
    "o = crpropa.Observer()\n",
    "# The Observer feature has to be created outside of the class attribute\n",
    "# o.add(ObserverPlane(...)) will not work for custom python modules\n",
    "plo = ObserverPlane(np.asarray([0., 0, 0]) * Mpc, np.asarray([0., 1., 0.]) * Mpc, np.asarray([0., 0., 1.]) * Mpc)\n",
    "o.add(plo)\n",
    "o.setDeactivateOnDetection(False)\n",
    "o.onDetection(out)\n",
    "m.add(o)\n",
    "\n",
    "# source setup\n",
    "source = crpropa.Source()\n",
    "source.add(crpropa.SourcePosition(crpropa.Vector3d(0, 0, 0) * Mpc))\n",
    "source.add(crpropa.SourceIsotropicEmission())\n",
    "source.add(crpropa.SourceParticleType(crpropa.nucleusId(1, 1)))\n",
    "source.add(crpropa.SourceEnergy(1 * EeV))\n",
    "\n",
    "m.run(source, 1000)\n",
    "out.close()"
   ]
  },
  {
   "cell_type": "markdown",
   "metadata": {},
   "source": [
    "and plot the final position of the particles in 3D"
   ]
  },
  {
   "cell_type": "code",
   "execution_count": 3,
   "metadata": {},
   "outputs": [
    {
     "data": {
      "image/png": "[encoded data removed]",
      "text/plain": [
       "<Figure size 432x288 with 1 Axes>"
      ]
     },
     "metadata": {
      "needs_background": "light"
     },
     "output_type": "display_data"
    }
   ],
   "source": [
    "%matplotlib inline\n",
    "\n",
    "from mpl_toolkits.mplot3d import Axes3D\n",
    "import pylab as plt\n",
    "\n",
    "ax = plt.subplot(111, projection='3d')\n",
    "\n",
    "data = plt.loadtxt('sheet.txt')\n",
    "\n",
    "ax.scatter(data[:,5], data[:,6], data[:,7] )\n",
    "ax.set_xlabel('X')\n",
    "ax.set_ylabel('Y')\n",
    "ax.set_zlabel('Z')\n",
    "ax.set_xlim(20,-20)\n",
    "ax.set_ylim(20,-20)\n",
    "ax.set_zlim(20,-20)\n",
    "ax.view_init(25, 95)"
   ]
  },
  {
   "cell_type": "markdown",
   "metadata": {},
   "source": [
    "or as a histogram. Note the width of the X distribution, which is due to the particles being detected after crossing."
   ]
  },
  {
   "cell_type": "code",
   "execution_count": 4,
   "metadata": {},
   "outputs": [
    {
     "data": {
      "image/png": "[encoded data removed]",
      "text/plain": [
       "<Figure size 432x288 with 1 Axes>"
      ]
     },
     "metadata": {
      "needs_background": "light"
     },
     "output_type": "display_data"
    }
   ],
   "source": [
    "bins = np.linspace(-20,20, 50)\n",
    "plt.hist(data[:,5], bins=bins, label='X', histtype='step')\n",
    "plt.hist(data[:,6], bins=bins, label='Y', histtype='step')\n",
    "plt.hist(data[:,7], bins=bins, label='Z', histtype='step')\n",
    "plt.legend()\n",
    "plt.show()"
   ]
  }
 ],
 "metadata": {
  "kernelspec": {
   "display_name": "crp_docu",
   "language": "python",
   "name": "python3"
  },
  "language_info": {
   "codemirror_mode": {
    "name": "ipython",
    "version": 3
   },
   "file_extension": ".py",
   "mimetype": "text/x-python",
   "name": "python",
   "nbconvert_exporter": "python",
   "pygments_lexer": "ipython3",
   "version": "3.9.2"
  },
  "vscode": {
   "interpreter": {
    "hash": "c416687c884a42c367c2f4b19e8bea2627679ca3202fbf20d972b7cd00ee0b77"
   }
  },
  "widgets": {
   "application/vnd.jupyter.widget-state+json": {
    "state": {},
    "version_major": 2,
    "version_minor": 0
   }
  }
 },
 "nbformat": 4,
 "nbformat_minor": 4
}
