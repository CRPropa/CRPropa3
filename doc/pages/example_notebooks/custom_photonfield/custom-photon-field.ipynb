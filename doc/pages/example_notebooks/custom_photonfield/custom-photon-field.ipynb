{
 "cells": [
  {
   "cell_type": "markdown",
   "metadata": {},
   "source": [
    "# custom photon fields"
   ]
  },
  {
   "cell_type": "markdown",
   "metadata": {},
   "source": [
    "## example to create necessary tabulated data\n",
    "\n",
    "For the use of custom photon fields in CRPropa it is necessary to generate some tables with precalculated interaction rates. \n",
    "All scripts needed are given in the CRPropa data repository (https://github.com/CRPropa/CRPropa3-data) where also the calculation for the pre-defined photon fields is done. The easiest way is to download/colne the full repository. \n",
    "\n",
    "    git clone https://github.com/CRPropa/CRPropa3-data.git"
   ]
  },
  {
   "cell_type": "markdown",
   "metadata": {},
   "source": [
    "\n",
    "### 1. create a python class with your custom photon field\n",
    "In this example we show the production of a custom photon field for 2 different cases. \n",
    "In the first case we consider a photon field where the spectral number density is given by an analytical expression. We consider a powerlaw with given slope  $\\alpha = -2.75$ in a maximal energy range [eMin = $10^{-3}$ eV, eMax = 1 eV]. \n",
    "\n",
    "The second example is a tabulated data file. Here we use the ISRF model R12 presented in Porter, Johannesson, and Moskalenko, ApJ 846, 67 (2017), which can be downloaded from the GALPROP website: https://galprop.stanford.edu/download.php\n",
    "as CRPropa allows only isotropic photon fields we use the position $(X = 0.0173648 \\, \\mathrm{kpc}, Y = 0.0984808 \\, \\mathrm{kpc})$.\n",
    "\n",
    "\n",
    "\n",
    "\n",
    "All photon fields must have the following content\n",
    "- name  (string):   name of the photon field, needed for the naming of the files\n",
    "- info  (string):   information tag used for the comments at the begining of the file\n",
    "- redshift  (None/Array):     Determines if the photon field is redshift dependen. If None no redshift dependence is given. Otherwise the (tabulated) redshift is given as a 1D array\n",
    "- getDensity    (function):     returns the spectral number density dn/deps at given photon energy and redshift\n",
    "- getEmin   (function):     returns the minimum effective photon energy\n",
    "- getEmax   (function):     returns the maximum effective photon energy\n"
   ]
  },
  {
   "cell_type": "code",
   "execution_count": 1,
   "metadata": {},
   "outputs": [],
   "source": [
    "import numpy as np\n",
    "import pandas as pd \n",
    "from scipy.interpolate import interp1d\n",
    "import warnings\n",
    "import os\n",
    "os.chdir(\"./CRPropa3-data/\")\n",
    "\n",
    "import matplotlib.pyplot as plt # optional for plotting"
   ]
  },
  {
   "cell_type": "code",
   "execution_count": 2,
   "metadata": {},
   "outputs": [],
   "source": [
    "eV = 1.60217657e-19  # [J]\n",
    "h = 6.62607015e-34 # Js\n",
    "c_light = 299792458 # m/s\n",
    "ccm = 1e-6 # m^3\n",
    "\n",
    "class PowerlawPhotonField:\n",
    "    # general parameters\n",
    "    name = \"PowerlawPhotonField\"\n",
    "    info = \"custom photon field as a powerlaw\"\n",
    "    redshift = None\n",
    "\n",
    "    # model parameters, will be setted by initilation\n",
    "    slope = -2  \n",
    "    norm = 1\n",
    "    eMin = 0 \n",
    "    eMax = np.inf \n",
    "\n",
    "    def __init__(self, norm = 1e20, slope = -2.75, eMin = 1e-3 * eV, eMax = 1 * eV):\n",
    "        \"\"\"\n",
    "            initilize the photon field as a powerlaw with exponential cutoff at both ends. \n",
    "            The slope, the normalization (n(eps = 1 eV)) and the minimal and maximal energy can be modified. \n",
    "        \"\"\"\n",
    "        self.norm = norm\n",
    "        self.slope = slope\n",
    "        self.eMin = eMin\n",
    "        self.eMax = eMax\n",
    "    \n",
    "    def getDensity(self, eps, z = 0):\n",
    "        \"\"\"\n",
    "            Comoving spectral number density dn/deps [1/m^3/J] at given photon energy eps [J] and redshift z.\n",
    "            Multiply with (1+z)^3 for the physical number density.\n",
    "        \"\"\"\n",
    "        # array handling\n",
    "        if (type(eps) == np.ndarray):\n",
    "            return np.array([self.getDensity(_eps, z) for _eps in eps])\n",
    "        if (eps >= self.eMin) & (eps <= self.eMax):\n",
    "            return self.norm * (eps / eV)**self.slope\n",
    "        else:\n",
    "            return 0.\n",
    " \n",
    "    def getEmin(self):\n",
    "        \"\"\"Minimum effective photon energy in [J]\"\"\"\n",
    "        return self.eMin\n",
    "    \n",
    "    def getEmax(self):\n",
    "        \"\"\"Maximum effective phton energy in [J]\"\"\"\n",
    "        return self.eMax\n",
    "\n",
    "\n",
    "class ISRF:\n",
    "    # general parameters\n",
    "    name = \"ISRF\"\n",
    "    info = \"Inter Stellar Radiation Field. Model F98 from Porter+(2017)\"\n",
    "    redshift = None\n",
    "\n",
    "    def __init__(self, dataPath = \"../Porter_etal_ApJ_846_67_2017_SEDonly/F98/freudenreich_DL07_PAHISMMix_0.0173648_0.0984808_0_Flux.dat\"):\n",
    "        names = [\"micron\", \"total\", \"direct\", \"scattered\", \"transient\", \"thermal\"]\n",
    "        df = pd.read_csv(dataPath, delimiter=\" \", names = names)\n",
    "        df[\"E\"] = h * c_light / (df.micron * 1e-6)\n",
    "        df[\"n\"] = df.total *(eV / ccm) / df.E**2\n",
    "        self.data = df[df.total>1e-25] # limit nan-values \n",
    "        self.eMin = self.data[\"E\"].min()\n",
    "        self.eMax = self.data[\"E\"].max()\n",
    "\n",
    "    def getDensity(self, eps, z = 0):\n",
    "        \"\"\"\n",
    "            Comoving spectral number density dn/deps [1/m^3/J] at given photon energy eps [J] and redshift z.\n",
    "            Multiply with (1+z)^3 for the physical number density.\n",
    "        \"\"\"\n",
    "\n",
    "        f = interp1d(self.data[\"E\"], self.data[\"n\"], bounds_error=False, fill_value=0)\n",
    "        return f(eps)\n",
    " \n",
    "    def getEmin(self):\n",
    "        \"\"\"Minimum effective photon energy in [J]\"\"\"\n",
    "        return self.eMin\n",
    "    \n",
    "    def getEmax(self):\n",
    "        \"\"\"Maximum effective phton energy in [J]\"\"\"\n",
    "        return self.eMax\n",
    "    \n",
    "\n",
    "field = PowerlawPhotonField()\n",
    "isrf = ISRF()"
   ]
  },
  {
   "cell_type": "markdown",
   "metadata": {},
   "source": [
    "#### plotting (Optional)\n",
    "Here, both custom photon fields are plotted. Additionaly the already implemented CMB is plotted to compare."
   ]
  },
  {
   "cell_type": "code",
   "execution_count": 3,
   "metadata": {},
   "outputs": [
    {
     "name": "stderr",
     "output_type": "stream",
     "text": [
      "/home/home1/jdo/Test_CRPropa/CRPropa_Documentation/CRPropa3-data/photonField.py:31: RuntimeWarning: overflow encountered in expm1\n",
      "  return 8*np.pi / c0**3 / h**3 * eps**2 / np.expm1(eps / (kB * T_CMB))\n"
     ]
    },
    {
     "data": {
      "image/png": "[encoded data removed]",
      "text/plain": [
       "<Figure size 600x400 with 1 Axes>"
      ]
     },
     "metadata": {
      "needs_background": "light"
     },
     "output_type": "display_data"
    }
   ],
   "source": [
    "from photonField import CMB\n",
    "\n",
    "field_cmb = CMB()\n",
    "\n",
    "eps = np.logspace(-4, 2, 200) * eV\n",
    "c = eps**2 / eV\n",
    "plt.figure(dpi = 100)\n",
    "y1 = c * field.getDensity(eps)\n",
    "y2 = c * field_cmb.getDensity(eps)\n",
    "y3 = c * isrf.getDensity(eps)\n",
    "plt.plot(eps / eV, y1, label = \"powerlaw\")\n",
    "plt.plot(eps / eV, y2, label = \"CMB\") \n",
    "plt.plot(eps / eV, y3, label = \"ISRF (F98)\")\n",
    "\n",
    "plt.loglog()\n",
    "plt.legend(ncol = 3, loc= \"upper center\", bbox_to_anchor=(0.5, 1.12))\n",
    "plt.ylim([1e-10, 1e8])\n",
    "\n",
    "plt.xlabel(\"$\\epsilon$ [eV]\")\n",
    "plt.ylabel(\"$\\epsilon^2 ~ dn/d\\epsilon$ [eV/m$^3$]\")\n",
    "plt.show()"
   ]
  },
  {
   "cell_type": "markdown",
   "metadata": {},
   "source": [
    "### 2. Create tables for wanted processes \n",
    "\n",
    "Here, all possible processes are used and the tables for the interactions are calculated. This process takes some time (ca. 45 minutes)."
   ]
  },
  {
   "cell_type": "code",
   "execution_count": 4,
   "metadata": {},
   "outputs": [
    {
     "name": "stdout",
     "output_type": "stream",
     "text": [
      "running ElasticScattering\n",
      "running EMPairProduction\n",
      "running EMDoublePairProduction\n",
      "running EMTripletPairProduction\n",
      "running EMInverseComptonScattering\n",
      "running ElectronPairProduction\n",
      "running PhotoDissintegration\n",
      "running PhotoPionProduction\n",
      "finished rate calculation\n"
     ]
    }
   ],
   "source": [
    "with warnings.catch_warnings(): # catch warnings from where density is approx 0 -> leads to divde errors\n",
    "    warnings.simplefilter(\"ignore\")\n",
    "    \n",
    "    # elasticscattering\n",
    "    from calc_elasticscattering import process\n",
    "    print(\"running ElasticScattering\")\n",
    "    process(field)\n",
    "    process(isrf)\n",
    "    \n",
    "    # electro-magnetic\n",
    "    from calc_electromagnetic import sigmaPP, sigmaDPP, sigmaICS, sigmaTPP, process\n",
    "    print(\"running EMPairProduction\")\n",
    "    process(sigmaPP, field, \"EMPairProduction\")\n",
    "    process(sigmaPP, isrf, \"EMPairProduction\")\n",
    "    print(\"running EMDoublePairProduction\")\n",
    "    process(sigmaDPP, field, \"EMDoublePairProduction\")\n",
    "    process(sigmaDPP, isrf, \"EMDoublePairProduction\")\n",
    "    print(\"running EMTripletPairProduction\")\n",
    "    process(sigmaTPP, field, \"EMTripletPairProduction\")\n",
    "    process(sigmaTPP, isrf, \"EMTripletPairProduction\")\n",
    "    print(\"running EMInverseComptonScattering\")\n",
    "    process(sigmaICS, field, \"EMInverseComptonScattering\")\n",
    "    process(sigmaICS, isrf, \"EMInverseComptonScattering\")\n",
    "\n",
    "    # pair production\n",
    "    from calc_pairproduction import process\n",
    "    print(\"running ElectronPairProduction\")\n",
    "    process(field)\n",
    "    process(isrf)\n",
    "    # currently the spectrum can not be provided. Only as energy loss for primary\n",
    "\n",
    "    # photo disintegration\n",
    "    from calc_photodisintegration import processRate, processEmission\n",
    "    print(\"running PhotoDissintegration\")\n",
    "    processRate(field)\n",
    "    processRate(isrf)\n",
    "    processEmission(field)\n",
    "    processEmission(isrf)\n",
    "\n",
    "    # photo pion production\n",
    "    from calc_photopionproduction import process\n",
    "    print(\"running PhotoPionProduction\")\n",
    "    process(field)\n",
    "    process(isrf)\n",
    "    print(\"finished rate calculation\")"
   ]
  },
  {
   "cell_type": "markdown",
   "metadata": {},
   "source": [
    "### 3. copy files to the share folder\n",
    "\n",
    "The files stored in \"CRPropa3-data/data\" must been copied in the share folder of crpropa. \n",
    "\n",
    "    cp -r CRPropa3-data/data/* <installation-path>/share/crpropa/ \n",
    "\n",
    "\n",
    "For ElectronPairProduction a calculation of the spectrum is not possible. As the spectrum is not needed for the energy loss of the primary the following work around is possible:\n",
    "- go to the share folder and in the subfolder ElectronPairProduction        \n",
    "\n",
    "        cd <installation-path>/share/crpropa/ElectronPairProduction\n",
    "- copy one spectrum file and rename CMB or IRB with the first 3 letters of your photon field (here *Pow* or *ISR*)\n",
    "\n",
    "        cp spectrum_CMB.txt spectrum_<Pow/ISR>.txt\n",
    "\n",
    "***Using this workaround and including the production of secondaries from the ElectrtonPairProduction module is not recomended!***"
   ]
  },
  {
   "cell_type": "markdown",
   "metadata": {},
   "source": [
    "## Implementing custom PhotonField in CRPropa\n",
    "for implemting your custom model in the final CRPropa simulation a PhotonField class is needed. Here are two different implementations possible. On the one hand a seperate python-based class with the analytical description of the photon density can be provided"
   ]
  },
  {
   "cell_type": "code",
   "execution_count": 5,
   "metadata": {},
   "outputs": [],
   "source": [
    "from crpropa import * "
   ]
  },
  {
   "cell_type": "code",
   "execution_count": 6,
   "metadata": {},
   "outputs": [],
   "source": [
    "class CustomPhotonField(PhotonField):\n",
    "    \"\"\" analogue implementation like above but inheriting from the CRPropa module for compatibility\"\"\"\n",
    "\n",
    "    def __init__(self, name, norm = 1e20, slope = -2.75, eMin = 1e-3 * eV, eMax = 1 * eV):\n",
    "        PhotonField.__init__(self)\n",
    "        self.setFieldName(name)\n",
    "        self.norm = norm\n",
    "        self.slope = slope\n",
    "        self.eMin = eMin\n",
    "        self.eMax = eMax\n",
    "\n",
    "    def getPhotnDensity(self, eps, z = 0.):\n",
    "        return self.norm * (eps / eV)**self.slope * np.exp(- eps / self.eMax - self.eMin / eps)\n",
    "    \n",
    "    \n",
    "    def getMinimumPhotonEnergy(self, z = 0):\n",
    "        return self.eMin\n",
    "    \n",
    "    def getMaximumPhotonEnergy(self, z = 0):\n",
    "        return self.eMax   \n",
    "\n",
    "powerlowField = CustomPhotonField(\"PowerlawPhotonField\")\n"
   ]
  },
  {
   "cell_type": "markdown",
   "metadata": {},
   "source": [
    "On the other hand the Baseclass `TabularPhotonField` can be used to create a field on tabulated data. In the following the needed Scaling files will be created. In the end this files have to be copied to the sharefolder as described above"
   ]
  },
  {
   "cell_type": "code",
   "execution_count": 7,
   "metadata": {},
   "outputs": [],
   "source": [
    "def createScaling(field, nBin = 100):\n",
    "    \"\"\"\n",
    "        create the scaling files needed for the TabularPhotonField class. \n",
    "\n",
    "        field:  class instance for the description of the photon field as used for the generation of data files\n",
    "        nBin:   number of log-bins between eMin and eMax. Should be increesed for large energy ranges \n",
    "    \"\"\"\n",
    "\n",
    "    eMin = field.getEmin()\n",
    "    eMax = field.getEmax()\n",
    "    \n",
    "    eps = np.logspace(np.log10(eMin), np.log10(eMax), nBin)\n",
    "\n",
    "    folder = \"data/Scaling/\"\n",
    "    if not os.path.isdir(folder):\n",
    "        os.makedirs(folder)\n",
    "    \n",
    "    header = \"# Custom Photon Field: \" + field.name + \"\\n\"\n",
    "    header = \"# \" + field.info + \"\\n\"\n",
    "    \n",
    "    file_photonEnergy =  open(folder + field.name + \"_photonEnergy.txt\", \"w\")\n",
    "    file_photonEnergy.writelines(header + \"# photon energies in [J] \\n\")\n",
    "    \n",
    "    file_photonDensity = open(folder + field.name + \"_photonDensity.txt\", \"w\")\n",
    "    file_photonDensity.writelines(header + \"# Comiving photon number density in [m^-3] \\n\")    \n",
    "    \n",
    "    for e in eps:\n",
    "        file_photonEnergy.write(\"{:.8e} \\n\".format(e))\n",
    "        file_photonDensity.write(\"{:.8e} \\n\".format(field.getDensity(e)))\n",
    "\n",
    "    file_photonDensity.close()\n",
    "    file_photonEnergy.close()\n",
    "createScaling(isrf)"
   ]
  },
  {
   "cell_type": "markdown",
   "metadata": {},
   "source": [
    "now the files must be copied!"
   ]
  },
  {
   "cell_type": "code",
   "execution_count": 9,
   "metadata": {},
   "outputs": [],
   "source": [
    "isrf_field = TabularPhotonField(\"ISRF\", False)"
   ]
  },
  {
   "cell_type": "markdown",
   "metadata": {},
   "source": [
    "## check implementation\n",
    "To check the new photon fields all interactions on a photon fields are added to a ModuleList. If the instalation is done correctly this should run without any error and all interactions can be used. "
   ]
  },
  {
   "cell_type": "code",
   "execution_count": 10,
   "metadata": {},
   "outputs": [
    {
     "name": "stdout",
     "output_type": "stream",
     "text": [
      "Everything works fine\n"
     ]
    }
   ],
   "source": [
    "sim = ModuleList()\n",
    "\n",
    "sim.add(ElasticScattering(powerlowField))\n",
    "sim.add(ElasticScattering(isrf_field))\n",
    "\n",
    "\n",
    "sim.add(EMPairProduction(powerlowField))\n",
    "sim.add(EMPairProduction(isrf_field))\n",
    "\n",
    "sim.add(EMDoublePairProduction(powerlowField))\n",
    "sim.add(EMDoublePairProduction(isrf_field))\n",
    "\n",
    "sim.add(EMTripletPairProduction(powerlowField))\n",
    "sim.add(EMTripletPairProduction(isrf_field))\n",
    "\n",
    "sim.add(EMInverseComptonScattering(powerlowField))\n",
    "sim.add(EMInverseComptonScattering(isrf_field))\n",
    "\n",
    "sim.add(ElectronPairProduction(powerlowField))\n",
    "sim.add(ElectronPairProduction(isrf_field))\n",
    "\n",
    "sim.add(PhotoDisintegration(powerlowField))\n",
    "sim.add(PhotoDisintegration(isrf_field))\n",
    "\n",
    "sim.add(PhotoPionProduction(powerlowField))\n",
    "sim.add(PhotoPionProduction(isrf_field))\n",
    "\n",
    "print(\"Everything works fine\")"
   ]
  },
  {
   "cell_type": "code",
   "execution_count": null,
   "metadata": {},
   "outputs": [],
   "source": []
  }
 ],
 "metadata": {
  "kernelspec": {
   "display_name": "Python 3.9.2 ('documentation')",
   "language": "python",
   "name": "python3"
  },
  "language_info": {
   "codemirror_mode": {
    "name": "ipython",
    "version": 3
   },
   "file_extension": ".py",
   "mimetype": "text/x-python",
   "name": "python",
   "nbconvert_exporter": "python",
   "pygments_lexer": "ipython3",
   "version": "3.9.2"
  },
  "orig_nbformat": 4,
  "vscode": {
   "interpreter": {
    "hash": "fb0d053f2fc7a51fab1b12c61652c7afb98f5cf72d66d469d3887d807bdc2ded"
   }
  }
 },
 "nbformat": 4,
 "nbformat_minor": 2
}
