{
 "cells": [
  {
   "cell_type": "markdown",
   "metadata": {},
   "source": [
    "# first example code for use of densitys\n",
    "\n",
    "#### all densitys are seperated in atomic hydrogyn (HI), ioninised hydrogyn (HII) and molecular hydrogn (H2)\n",
    "\n",
    "### this example contains \n",
    "* constant densitys\n",
    "* superposition of different typses \n",
    "* superposition of same types\n",
    "\n",
    "Further on there is another example for all implemented density models of the Milky-Way"
   ]
  },
  {
   "cell_type": "code",
   "execution_count": 2,
   "metadata": {
    "collapsed": true
   },
   "outputs": [],
   "source": [
    "from crpropa import *"
   ]
  },
  {
   "cell_type": "markdown",
   "metadata": {},
   "source": [
    "### first we start with the use of a constant density \n",
    "the first double set the HI, the second the HII and the third the H2 density-number in SI units"
   ]
  },
  {
   "cell_type": "code",
   "execution_count": 3,
   "metadata": {
    "collapsed": false
   },
   "outputs": [],
   "source": [
    "CD = ConstantDensity(1,2,0.5)"
   ]
  },
  {
   "cell_type": "markdown",
   "metadata": {},
   "source": [
    "to see the output option we check the density at a random position\n",
    "\n",
    "the output options are:\n",
    "* getDensity: for the sum of all densitys\n",
    "* getHIDensity: for the HI part\n",
    "* getHIIDensity: for the HII part\n",
    "* getH2Density: for the H2 part\n",
    "* getNucleonDensity: for the sum of nuclei ($n_{HI} + n_{HII} + 2\\cdot n_{H2}$)\n"
   ]
  },
  {
   "cell_type": "code",
   "execution_count": 4,
   "metadata": {
    "collapsed": false
   },
   "outputs": [
    {
     "name": "stdout",
     "output_type": "stream",
     "text": [
      "total density n = 3.500000\n",
      "HI density n_HI = 1.000000\n",
      "HII density n_HII = 2.000000\n",
      "H2 density n_H2 = 0.500000\n",
      "nucleon density n_nucl = 4.000000\n"
     ]
    }
   ],
   "source": [
    "position = Vector3d(2,1,3)\n",
    "\n",
    "n_tot = CD.getDensity(position)\n",
    "n_HI = CD.getHIDensity(position)\n",
    "n_HII = CD.getHIIDensity(position)\n",
    "n_H2 = CD.getH2Density(position)\n",
    "n_nucl = CD.getNucleonDensity(position)\n",
    "\n",
    "\n",
    "print('total density n = %f' %n_tot)\n",
    "print('HI density n_HI = %f' %n_HI)\n",
    "print('HII density n_HII = %f' %n_HII)\n",
    "print('H2 density n_H2 = %f' %n_H2)\n",
    "print('nucleon density n_nucl = %f' %n_nucl)"
   ]
  },
  {
   "cell_type": "markdown",
   "metadata": {},
   "source": [
    "#### the ConstantDensity can be adjusted to new values and the useage of several parts can be chosen\n",
    "therefore are methodes to change and activate (set-function) and methodes to see actual configuration (getisfor-functions)"
   ]
  },
  {
   "cell_type": "code",
   "execution_count": 7,
   "metadata": {
    "collapsed": false
   },
   "outputs": [
    {
     "name": "stdout",
     "output_type": "stream",
     "text": [
      "HI: True, HII: True, H2: True, \n",
      " \n",
      "\n",
      "ConstantDensity:HI component is not activ and has a density of 1e+06 cm^-3      HII component is not activ and  has a density of 1.5e+06 cm^-3      H2 component is activ and  has a density of 1.3e+06 cm^-3\n"
     ]
    }
   ],
   "source": [
    "#see the actual configuration\n",
    "print('HI: %s, HII: %s, H2: %s, \\n \\n' %(CD.getIsForHI(), CD.getIsForHII(), CD.getIsForH2()))\n",
    "\n",
    "# change activity\n",
    "CD.setHI(False)\n",
    "\n",
    "# change activity and density number\n",
    "CD.setHII(False, 1.5)\n",
    "\n",
    "# change density number\n",
    "CD.setH2(1.3)\n",
    "\n",
    "# see the changes in the Description\n",
    "print(CD.getDescription())"
   ]
  },
  {
   "cell_type": "markdown",
   "metadata": {},
   "source": [
    "#### the output of the getDensity and getNucleonDensity depends on the activity of the types. Only acitvated types are used for summing up"
   ]
  },
  {
   "cell_type": "code",
   "execution_count": 8,
   "metadata": {
    "collapsed": false
   },
   "outputs": [
    {
     "name": "stdout",
     "output_type": "stream",
     "text": [
      "total density n = 1.300000\n",
      "HI density n_HI = 1.000000\n",
      "HII density n_HII = 1.500000\n",
      "H2 density n_H2 = 1.300000\n",
      "nucleon density n_nucl = 2.600000\n"
     ]
    }
   ],
   "source": [
    "n_tot = CD.getDensity(position)\n",
    "n_HI = CD.getHIDensity(position)\n",
    "n_HII = CD.getHIIDensity(position)\n",
    "n_H2 = CD.getH2Density(position)\n",
    "n_nucl = CD.getNucleonDensity(position)\n",
    "\n",
    "\n",
    "print('total density n = %f' %n_tot)\n",
    "print('HI density n_HI = %f' %n_HI)\n",
    "print('HII density n_HII = %f' %n_HII)\n",
    "print('H2 density n_H2 = %f' %n_H2)\n",
    "print('nucleon density n_nucl = %f' %n_nucl)"
   ]
  },
  {
   "cell_type": "markdown",
   "metadata": {},
   "source": [
    "## customize a density with different density models\n",
    "To customize a density use the DensityList.\n",
    "In a superposition of globel models of density distribution of the Milkyway keep care of normalisation. Therfore you can just add components by deactivating the other  "
   ]
  },
  {
   "cell_type": "code",
   "execution_count": 10,
   "metadata": {
    "collapsed": false
   },
   "outputs": [
    {
     "name": "stdout",
     "output_type": "stream",
     "text": [
      "total density n = 7.500000\n",
      "HI density n_HI = 3.000000\n",
      "HII density n_HII = 3.000000\n",
      "H2 density n_H2 = 2.500000\n",
      "nucleon density n_nucl = 10.000000\n"
     ]
    }
   ],
   "source": [
    "CD1 = ConstantDensity(0,2,0)     # for use HII\n",
    "CD2 = ConstantDensity(3,1,2.5)   # for use HI, H2\n",
    "\n",
    "CUS = DensityList()\n",
    "\n",
    "# first deactivate not wanted parts\n",
    "\n",
    "CD1.setHI(False)\n",
    "CD1.setH2(False)\n",
    "\n",
    "CD2.setHII(False)  \n",
    "\n",
    "# add density \n",
    "\n",
    "CUS.addDensity(CD1)\n",
    "CUS.addDensity(CD2)\n",
    "\n",
    "# get output\n",
    "\n",
    "n_tot = CUS.getDensity(position)\n",
    "n_HI = CUS.getHIDensity(position)\n",
    "n_HII = CUS.getHIIDensity(position)\n",
    "n_H2 = CUS.getH2Density(position)\n",
    "n_nucl = CUS.getNucleonDensity(position)\n",
    "\n",
    "print('total density n = %f' %n_tot)\n",
    "print('HI density n_HI = %f' %n_HI)\n",
    "print('HII density n_HII = %f' %n_HII)\n",
    "print('H2 density n_H2 = %f' %n_H2)\n",
    "print('nucleon density n_nucl = %f' %n_nucl)"
   ]
  },
  {
   "cell_type": "markdown",
   "metadata": {},
   "source": [
    "### DensityList\n",
    "you can also superposition total models without deactivating several components"
   ]
  },
  {
   "cell_type": "code",
   "execution_count": 11,
   "metadata": {
    "collapsed": false
   },
   "outputs": [
    {
     "name": "stdout",
     "output_type": "stream",
     "text": [
      "total density n = 14.800000\n",
      "HI density n_HI = 2.500000\n",
      "HII density n_HII = 5.000000\n",
      "H2 density n_H2 = 7.300000\n",
      "nucleon density n_nucl = 22.100000\n"
     ]
    }
   ],
   "source": [
    "#set wanted density\n",
    "CD1 = ConstantDensity(1,3,4)\n",
    "CD2 = ConstantDensity(1.5,2,3.3)\n",
    "\n",
    "DL = DensityList()\n",
    "\n",
    "# add density to list\n",
    "\n",
    "DL.addDensity(CD1)\n",
    "DL.addDensity(CD2)\n",
    "\n",
    "# see output\n",
    "n_tot = DL.getDensity(position)\n",
    "n_HI = DL.getHIDensity(position)\n",
    "n_HII = DL.getHIIDensity(position)\n",
    "n_H2 = DL.getH2Density(position)\n",
    "n_nucl = DL.getNucleonDensity(position)\n",
    "\n",
    "print('total density n = %f' %n_tot)\n",
    "print('HI density n_HI = %f' %n_HI)\n",
    "print('HII density n_HII = %f' %n_HII)\n",
    "print('H2 density n_H2 = %f' %n_H2)\n",
    "print('nucleon density n_nucl = %f' %n_nucl)"
   ]
  },
  {
   "cell_type": "code",
   "execution_count": 12,
   "metadata": {
    "collapsed": true
   },
   "outputs": [],
   "source": []
  },
  {
   "cell_type": "code",
   "execution_count": null,
   "metadata": {
    "collapsed": true
   },
   "outputs": [],
   "source": []
  }
 ],
 "metadata": {
  "kernelspec": {
   "display_name": "Python 2",
   "language": "python",
   "name": "python2"
  },
  "language_info": {
   "codemirror_mode": {
    "name": "ipython",
    "version": 2
   },
   "file_extension": ".py",
   "mimetype": "text/x-python",
   "name": "python",
   "nbconvert_exporter": "python",
   "pygments_lexer": "ipython2",
   "version": "2.7.13"
  }
 },
 "nbformat": 4,
 "nbformat_minor": 2
}
