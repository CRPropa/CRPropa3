{
 "cells": [
  {
   "cell_type": "markdown",
   "metadata": {},
   "source": [
    "# Photon propagation\n",
    "\n",
    "Photons can be propagated as individual particles with Eleca (suitable for high energies), or the resulting spectra can be calculated with DINT (suitable for low energies). Alternatively a combined module is available that processes high energy photons with Eleca and the calcualtes the resulting spectra with DINT down to low energies. The propagation of photons is currently possible only in 1D and is not integrated into the CRPpropa module-chain. Instead,  photons are read in from an external file.\n",
    "\n",
    "The file \"photon_monoenergetic_source.dat\" contains 1000 photons with E = 50 EeV from a photon source in 4 Mpc distance."
   ]
  },
  {
   "cell_type": "markdown",
   "metadata": {},
   "source": [
    "## Propagation with Dint\n"
   ]
  },
  {
   "cell_type": "code",
   "execution_count": 4,
   "metadata": {
    "collapsed": false
   },
   "outputs": [],
   "source": [
    "import crpropa\n",
    "\n",
    "crpropa.DintPropagation(\"photon_monoenergetic_source.dat\", \"spectrumDINT.dat\", 0.1 * 1E-9 * crpropa.gauss, 4, 4)\n",
    "\n"
   ]
  },
  {
   "cell_type": "markdown",
   "metadata": {},
   "source": [
    "## Propagation with Eleca\n"
   ]
  },
  {
   "cell_type": "code",
   "execution_count": 5,
   "metadata": {
    "collapsed": false
   },
   "outputs": [],
   "source": [
    "import crpropa\n",
    "\n",
    "crpropa.EleCaPropagation(\"photon_monoenergetic_source.dat\", \"eleca_photons.dat\", True, 1E17*crpropa.eV, 0.1 * 1E-9 * crpropa.gauss)\n",
    "\n"
   ]
  },
  {
   "cell_type": "markdown",
   "metadata": {},
   "source": [
    "## Combined Propagation"
   ]
  },
  {
   "cell_type": "code",
   "execution_count": 6,
   "metadata": {
    "collapsed": false
   },
   "outputs": [],
   "source": [
    "import crpropa\n",
    "\n",
    "crpropa.DintElcaPropagation(\"photon_monoenergetic_source.dat\", \"dintElca_spectrum.dat\", True, .5 * crpropa.EeV, 0.1 * 1E-9 * crpropa.gauss)\n"
   ]
  },
  {
   "cell_type": "markdown",
   "metadata": {},
   "source": [
    "## (Optional) Plotting of Results"
   ]
  },
  {
   "cell_type": "code",
   "execution_count": 7,
   "metadata": {
    "collapsed": false
   },
   "outputs": [
    {
     "data": {
      "text/plain": [
       "<matplotlib.legend.Legend at 0x7fcba0312550>"
      ]
     },
     "execution_count": 7,
     "metadata": {},
     "output_type": "execute_result"
    },
    {
     "data": {
      "image/png": "[encoded data removed]",
      "text/plain": [
       "<matplotlib.figure.Figure at 0x7fcba046b750>"
      ]
     },
     "metadata": {},
     "output_type": "display_data"
    }
   ],
   "source": [
    "%matplotlib inline\n",
    "from pylab import *\n",
    "\n",
    "figure(figsize=(6,6))\n",
    "\n",
    "loglog(clip_on=False)\n",
    "yscale(\"log\", nonposy='clip')\n",
    "xlabel('Energy [eV]')\n",
    "ylabel ('$dN/dE\\; E^2$  [a.u.]')\n",
    "\n",
    "# define bins\n",
    "binEdges = 10**arange(12, 24, .1)\n",
    "logBinCenters = log10(binEdges[:-1]) + 0.5 * (log10(binEdges[1:]) - log10(binEdges[:-1]))\n",
    "binWidths = (binEdges[1:] - binEdges[:-1])\n",
    "\n",
    "#load eleca photons\n",
    "elecaPhotons = loadtxt(\"eleca_photons.dat\")\n",
    "data = histogram(elecaPhotons[:,1] * 1E18, bins=binEdges)\n",
    "\n",
    "#calculate spectrum\n",
    "J = data[0] / binWidths\n",
    "dJ = J / sqrt(data[0])\n",
    "E = 10**logBinCenters\n",
    "step(E, J * E**2,  c='m', label='EleCa')\n",
    "\n",
    "#Plot the dint spectrum\n",
    "dataDINT = loadtxt(\"spectrumDINT.dat\")\n",
    "E = dataDINT[:,0] * 1E18 \n",
    "J = dataDINT[:,2] / (dataDINT[:,1] * 1E18)\n",
    "step(E, J * E**2 , c='b', ls='-', where='mid', label='Dint')\n",
    "\n",
    "\n",
    "#Plot the dintelca spectrum\n",
    "dataDINTElca = loadtxt(\"dintElca_spectrum.dat\")\n",
    "E = dataDINTElca[:,0] * 1E18 \n",
    "J = dataDINTElca[:,2] / (dataDINTElca[:,1] * 1E18)\n",
    "step(E, J *E**2 , c='r', ls='-', where='mid', label='Combined')\n",
    "\n",
    "# Nice limits\n",
    "xlim(1e14, 1E21)\n",
    "ylim(ymin=1E17)\n",
    "legend(loc='upper left')\n",
    "\n",
    "\n",
    "\n"
   ]
  },
  {
   "cell_type": "markdown",
   "metadata": {},
   "source": [
    "## Photons from Proton Propagation\n",
    "\n",
    "The generaton of photons has to be enabled for the individual energy-loss processes in the module chain. Also, a photon output module has to be added:"
   ]
  },
  {
   "cell_type": "code",
   "execution_count": null,
   "metadata": {
    "collapsed": false
   },
   "outputs": [],
   "source": [
    "from crpropa import *   \n",
    "\n",
    "# source setup  \n",
    "source = Source()       \n",
    "source.add(SourceParticleType(nucleusId(1, 1))) \n",
    "source.add(SourcePowerLawSpectrum(10 * EeV, 100 * EeV, -2))     \n",
    "source.add(SourceUniform1D(3 * Mpc, 100.00001 * Mpc))   \n",
    "\n",
    "#Setup module list for proton propagation\n",
    "m = ModuleList()        \n",
    "m.add(SimplePropagation(0, 10 * Mpc))\n",
    "m.add(MinimumEnergy(1 * EeV))   \n",
    "m.add(Observer1D())     \n",
    "m.add(EventOutput1D(\"proton_output.txt\"))       \n",
    "\n",
    "# Secondary electrons are disabled here\n",
    "m.add(ElectronPairProduction(CMB, False))        \n",
    "# Enable secondary photons\n",
    "m.add(PhotoPionProduction(CMB, True))   \n",
    "\n",
    "# add a photon output\n",
    "m.add(PhotonOutput1D(\"photon_output.txt\"))\n",
    "\n",
    "# run simulation        \n",
    "m.run(source, 10000, True)"
   ]
  },
  {
   "cell_type": "markdown",
   "metadata": {},
   "source": [
    "The file 'photon_output' will contain approximately 600 secondary particles, half of them photons and can be processed as the photon example above."
   ]
  },
  {
   "cell_type": "raw",
   "metadata": {},
   "source": [
    "#ID     E       D       pID     pE      iID     iE\n",
    "#\n",
    "# ID          Id of particle (photon, electron, positron)\n",
    "# E           Energy [EeV]\n",
    "# D           Comoving trajectory length [Mpc]\n",
    "# pID         Id of parent particle\n",
    "# pE          Energy [EeV] of parent particle\n",
    "# iID         Id of source particle\n",
    "# iE          Energy [EeV] of source particle\n",
    "#\n",
    " -11    6.77482  67.1766        1000000010       75.9465        1000010010       91.8829\n",
    "  11    0.0191816        20.3029        1000010010       65.2432        1000010010       91.8829\n",
    " -11    0.346937         30.1839        1000000010       61.6767        1000010010       85.4494\n",
    " -11    0.414738         20.0958        1000000010       54.7093        1000010010       63.1855\n",
    " -11    0.967904          9.0220        1000000010       81.2254        1000010010       94.8547\n",
    "  22    14.0028  50.9686        1000010010       72.0608        1000010010       88.8126\n",
    "  22    8.24537  43.0673        1000010010       70.7568        1000010010       92.8280\n",
    "  22    0.771388         50.9686        1000010010       72.0608        1000010010       88.8126\n",
    "  22    10.5142  43.0673        1000010010       70.7568        1000010010       92.8280\n",
    " -11    2.61693  50.9686        1000000010       64.1018        1000010010       88.8126\n",
    " -11    2.0019   33.0673        1000000010       60.4899        1000010010       92.8280\n",
    "  22    14.31     3.0673        1000000010       39.5666        1000010010       92.8280\n",
    "  22    6.61331   3.0673        1000000010       39.5666        1000010010       92.8280\n",
    " -11    2.18491  52.5561        1000000010       53.0487        1000010010       63.5297\n",
    " -11    4.29165  33.0320        1000000010       73.2522        1000010010       83.5731\n",
    " -11    0.441877         62.9243        1000000010       90.4563        1000010010       99.4810\n",
    "  11    1.45     46.9630        1000010010       83.2926        1000010010       99.4810\n",
    "  22    0.876782         36.3717        1000010010       55.3764        1000010010       66.9174\n",
    "  22    10.1596  36.3717        1000010010       55.3764        1000010010       66.9174\n",
    " -11    0.456958         64.0524        1000000010       55.8222        1000010010       64.8143\n",
    " -11    2.64216  37.4412        1000000010       74.5617        1000010010       90.1071\n",
    " -11    5.70889  38.7002        1000000010       49.5142        1000010010       64.7278\n",
    " -11    1.05272  38.6030        1000000010       47.4831        1000010010       59.5987\n",
    "..."
   ]
  },
  {
   "cell_type": "code",
   "execution_count": null,
   "metadata": {
    "collapsed": false
   },
   "outputs": [],
   "source": []
  }
 ],
 "metadata": {
  "kernelspec": {
   "display_name": "Python 3",
   "language": "python",
   "name": "python3"
  },
  "language_info": {
   "codemirror_mode": {
    "name": "ipython",
    "version": 3
   },
   "file_extension": ".py",
   "mimetype": "text/x-python",
   "name": "python",
   "nbconvert_exporter": "python",
   "pygments_lexer": "ipython3",
   "version": "3.5.0"
  }
 },
 "nbformat": 4,
 "nbformat_minor": 0
}
