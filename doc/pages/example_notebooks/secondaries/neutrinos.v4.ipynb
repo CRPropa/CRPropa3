{
 "cells": [
  {
   "cell_type": "markdown",
   "metadata": {},
   "source": [
    "## Example with secondary neutrinos\n",
    "\n",
    "The following is a 1D simulation including secondary neutrinos from photopion production and nuclear decay.\n",
    "Hadrons and Neutrinos are stored separately using two observers.\n",
    "\n",
    "**Note: the simulation might take a minute**"
   ]
  },
  {
   "cell_type": "code",
   "execution_count": 1,
   "metadata": {
    "collapsed": true
   },
   "outputs": [],
   "source": [
    "from crpropa import *\n",
    "\n",
    "neutrinos = True\n",
    "photons = False\n",
    "electrons = False\n",
    "\n",
    "# module setup\n",
    "m = ModuleList()\n",
    "m.add(SimplePropagation(10*kpc, 10*Mpc))\n",
    "m.add(Redshift())\n",
    "m.add(PhotoPionProduction(CMB, photons, neutrinos))\n",
    "m.add(PhotoPionProduction(IRB, photons, neutrinos))\n",
    "# m.add(PhotoDisintegration(CMB))  # we are propagating only protons\n",
    "# m.add(PhotoDisintegration(EBL))\n",
    "m.add(NuclearDecay(electrons, photons, neutrinos))\n",
    "m.add(ElectronPairProduction(CMB))\n",
    "m.add(ElectronPairProduction(IRB))\n",
    "m.add(MinimumEnergy(10**17 * eV))\n",
    "\n",
    "# observer for hadrons\n",
    "obs1 = Observer()\n",
    "obs1.add(ObserverPoint())\n",
    "obs1.add(ObserverNeutrinoVeto())  # we don't want neutrinos here\n",
    "output1 = TextOutput('out-nucleons.txt', Output.Event1D)\n",
    "obs1.onDetection( output1 )\n",
    "m.add(obs1)\n",
    "# observer for neutrinos\n",
    "obs2 = Observer()\n",
    "obs2.add(ObserverPoint())\n",
    "obs2.add(ObserverNucleusVeto())  # we don't want hadrons here\n",
    "output2 = TextOutput('out-neutrinos.txt', Output.Event1D)\n",
    "obs2.onDetection( output2 )\n",
    "m.add(obs2)\n",
    "\n",
    "# source: protons with power-law spectrum from uniformly distributed sources with redshift z = 0-3\n",
    "source = Source()\n",
    "source.add(SourceUniform1D(0, redshift2ComovingDistance(3)))\n",
    "source.add(SourceRedshift1D())\n",
    "source.add(SourcePowerLawSpectrum(10**17 * eV, 10**22 * eV, -1))\n",
    "source.add(SourceParticleType(nucleusId(1, 1)))\n",
    "\n",
    "# run simulation for 5000 primaries and propagate all secondaries\n",
    "m.setShowProgress(True)\n",
    "m.run(source, 5000, True)"
   ]
  },
  {
   "cell_type": "markdown",
   "metadata": {},
   "source": [
    "### Plotting the neutrino energy distribution"
   ]
  },
  {
   "cell_type": "code",
   "execution_count": 4,
   "metadata": {},
   "outputs": [
    {
     "data": {
      "image/png": "[encoded data removed]",
      "text/plain": [
       "<matplotlib.figure.Figure at 0x7efe6f84d890>"
      ]
     },
     "metadata": {},
     "output_type": "display_data"
    }
   ],
   "source": [
    "%matplotlib inline\n",
    "import numpy as np\n",
    "import matplotlib.pyplot as plt\n",
    "\n",
    "output1.close()\n",
    "output2.close()\n",
    "d = np.genfromtxt('out-neutrinos.txt', names=True)\n",
    "plt.hist(np.log10(d['E']) + 18, bins=np.linspace(17, 22, 51), histtype='step', normed=True)\n",
    "plt.xlabel(r'$\\log_{10}(E/{\\rm eV})$')\n",
    "plt.ylabel(r'$n_\\nu$ [a.u.]')\n",
    "plt.show()"
   ]
  }
 ],
 "metadata": {
  "kernelspec": {
   "display_name": "Python 2",
   "language": "python",
   "name": "python2"
  },
  "language_info": {
   "codemirror_mode": {
    "name": "ipython",
    "version": 2
   },
   "file_extension": ".py",
   "mimetype": "text/x-python",
   "name": "python",
   "nbconvert_exporter": "python",
   "pygments_lexer": "ipython2",
   "version": "2.7.16"
  }
 },
 "nbformat": 4,
 "nbformat_minor": 1
}
