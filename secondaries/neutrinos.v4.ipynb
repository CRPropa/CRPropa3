{
 "cells": [
  {
   "cell_type": "markdown",
   "metadata": {},
   "source": [
    "## Example with secondary neutrinos\n",
    "\n",
    "The following is a 1D simulation including secondary neutrinos from photopion production and nuclear decay.\n",
    "Hadrons and Neutrinos are stored separately using two observers."
   ]
  },
  {
   "cell_type": "code",
   "execution_count": 3,
   "metadata": {
    "collapsed": false
   },
   "outputs": [],
   "source": [
    "from crpropa import *\n",
    "\n",
    "neutrinos = True\n",
    "photons = False\n",
    "\n",
    "# module setup\n",
    "m = ModuleList()\n",
    "m.add(SimplePropagation(10*kpc, 10*Mpc))\n",
    "m.add(Redshift())\n",
    "m.add(PhotoPionProduction(CMB, photons, neutrinos))\n",
    "m.add(PhotoPionProduction(IRB, photons, neutrinos))\n",
    "# m.add(PhotoDisintegration(CMB))  # we are propagating only protons\n",
    "# m.add(PhotoDisintegration(EBL))\n",
    "m.add(NuclearDecay(photons, neutrinos))\n",
    "m.add(ElectronPairProduction(CMB))\n",
    "m.add(ElectronPairProduction(IRB))\n",
    "m.add(MinimumEnergy(10**17 * eV))\n",
    "\n",
    "# observer for hadrons\n",
    "obs1 = Observer()\n",
    "obs1.add(ObserverPoint())\n",
    "obs1.add(ObserverNeutrinoVeto())\n",
    "obs1.onDetection( TextOutput('out-nucleons.txt', '1D events') )\n",
    "m.add(obs1)\n",
    "# observer for neutrinos\n",
    "obs2 = Observer()\n",
    "obs2.add(ObserverPoint())\n",
    "obs2.add(ObserverNucleusVeto())\n",
    "obs2.onDetection( TextOutput('out-neutrinos.txt', '1D events') )\n",
    "m.add(obs2)\n",
    "\n",
    "# source: protons with power-law spectrum from uniformly distributed sources with redshift z = 0-3\n",
    "source = Source()\n",
    "source.add(SourceUniform1D(0, redshift2ComovingDistance(3)))\n",
    "source.add(SourceRedshift1D())\n",
    "source.add(SourcePowerLawSpectrum(10**17 * eV, 10**22 * eV, -1))\n",
    "source.add(SourceParticleType(nucleusId(1, 1)))\n",
    "\n",
    "# run simulation for 1000 primaries and propagate all secondaries\n",
    "m.setShowProgress(True)\n",
    "m.run(source, 5000, True)\n",
    "\n"
   ]
  },
  {
   "cell_type": "markdown",
   "metadata": {},
   "source": [
    "### Plotting the neutrino energy distribution"
   ]
  },
  {
   "cell_type": "code",
   "execution_count": 2,
   "metadata": {
    "collapsed": false
   },
   "outputs": [
    {
     "data": {
      "text/plain": [
       "<matplotlib.text.Text at 0x7f8902b90ed0>"
      ]
     },
     "execution_count": 2,
     "metadata": {},
     "output_type": "execute_result"
    },
    {
     "data": {
      "image/png": "[encoded data removed]",
      "text/plain": [
       "<matplotlib.figure.Figure at 0x7f89200f5790>"
      ]
     },
     "metadata": {},
     "output_type": "display_data"
    }
   ],
   "source": [
    "%matplotlib inline\n",
    "from pylab import *\n",
    "\n",
    "d = genfromtxt('out-neutrinos.txt', names=True)\n",
    "hist(log10(d['E']) + 18, bins=linspace(17, 22, 51), histtype='step', normed=True)\n",
    "xlabel(r'$\\log_{10}(E/\\text{eV})$')\n",
    "ylabel(r'$n_\\nu$ [a.u.]')\n",
    "\n",
    "\n"
   ]
  },
  {
   "cell_type": "code",
   "execution_count": null,
   "metadata": {
    "collapsed": false
   },
   "outputs": [],
   "source": []
  }
 ],
 "metadata": {
  "kernelspec": {
   "display_name": "Python 2",
   "language": "python2",
   "name": "python2"
  },
  "language_info": {
   "codemirror_mode": {
    "name": "ipython",
    "version": 2
   },
   "file_extension": ".py",
   "mimetype": "text/x-python",
   "name": "python",
   "nbconvert_exporter": "python",
   "pygments_lexer": "ipython2",
   "version": "2.7.10"
  }
 },
 "nbformat": 4,
 "nbformat_minor": 0
}
