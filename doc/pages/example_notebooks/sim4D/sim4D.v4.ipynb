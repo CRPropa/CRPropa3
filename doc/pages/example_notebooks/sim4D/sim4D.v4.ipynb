{
 "cells": [
  {
   "cell_type": "markdown",
   "metadata": {},
   "source": [
    "# 4D Simulation\n",
    "\n",
    "The following is a simple 4D simulation where cosmic rays are emitted by a source at a specified spatial position at a specified time-point. A cosmic rays is detected if it arrives at the observer position within a specified time window.\n",
    "\n",
    "**Note:** In CRPropa, time is always expressed in terms of redshift $z$, whereas positions are always expressed in terms of comoving coordinates as Cartesian 3-vectors.\n",
    "\n",
    "### Simulation setup\n",
    "The simulation setup is that of a 3D simulation with a few addition:\n",
    "1. We add a source property for the redshift at emission. This can be either ```SourceRedshift```, ```SourceUniformRedshift``` or ```SourceRedshiftEvolution```.\n",
    "2. The simulation module ```FutureRedshift``` implements adiabatic energy loss and updates the redshift. In contrast to ```Redshift``` it allows particles to be propagated into the future $z < 0$ which enables faster convergence for finite observation windows.\n",
    "3. The observer feature ```ObserverRedshiftWindow``` specifies a time window $z_\\rm{min} < z < z_\\rm{max}$ in which particles are detected if they hit the observer. Note that this can also be done after the simulation by cutting on the redshifts at observation. For this we also output the current redshift at observation.\n",
    "4. A minimum redshift is defined via MinimumRedshift which we set to the lower bound of the observer time window.\n",
    "\n",
    "### Periodic boundaries\n",
    "Due to the additional time dimension, particles are detected much less often. In order to increase the otherwhise horrible simulation efficiency, a ```PeriodicBox``` is defined: Particles that leave this simulation volume, enter again from the opposite side and their source position is moved accordingly.\n",
    "As a result the periodic boundaries keep the particles close to the observer and therefore increase the chance of detection. A careful setup is required however:\n",
    "1. Sources should only be defined inside the volume as sources outside are filled up by the periodic conditions.\n",
    "2. The magnetic field at the boundaries should be periodic as well. This is the case for ```initTurbulence``` as long as the simulation volume coincides with (multiples of) the magnetic field grid.\n",
    "\n",
    "### Source positions\n",
    "In the example below, a single source is defined. For specifying multiple identical discrete sources ```SourceMultiplePositions``` can be used. Multiple non-identical sources can be added to a ```SourceList```. For continous source distributions ```SourceUniformSphere```, ```SourceUniformSphere```, ```SourceUniformBox``` and ```SourceUniformCylinder``` can be used. ```SourceDensityGrid``` allows to specify a source distribution via a 3D grid."
   ]
  },
  {
   "cell_type": "code",
   "execution_count": null,
   "metadata": {},
   "outputs": [],
   "source": [
    "from crpropa import *\n",
    "\n",
    "\n",
    "# set up random turbulent field\n",
    "vgrid = VectorGrid(Vector3d(0), 512, 30 * kpc)\n",
    "initTurbulence(vgrid, 8 * nG, 60 * kpc, 800 * kpc, -11. / 3, 42)\n",
    "Bfield = MagneticFieldGrid(vgrid)\n",
    "\n",
    "# simulation setup\n",
    "sim = ModuleList()\n",
    "sim.add(PropagationCK(Bfield))\n",
    "sim.add(FutureRedshift())\n",
    "sim.add(PhotoPionProduction(CMB))\n",
    "sim.add(PhotoPionProduction(IRB))\n",
    "sim.add(PhotoDisintegration(CMB))\n",
    "sim.add(PhotoDisintegration(IRB))\n",
    "sim.add(ElectronPairProduction(CMB))\n",
    "sim.add(ElectronPairProduction(IRB))\n",
    "sim.add(NuclearDecay())\n",
    "sim.add(MinimumEnergy(1 * EeV))\n",
    "sim.add(MinimumRedshift(-0.05))\n",
    "\n",
    "# periodic boundaries\n",
    "extent = 512 * 30 * kpc  # size of the magnetic field grid\n",
    "sim.add(PeriodicBox(Vector3d(-extent), Vector3d(2 * extent)))\n",
    "\n",
    "# define the observer\n",
    "obs = Observer()\n",
    "obs.add(ObserverSmallSphere(Vector3d(0, 0, 0), 0.5 * Mpc))\n",
    "obs.add(ObserverRedshiftWindow(-0.05, 0.05))\n",
    "output = TextOutput('output.txt', Output.Event3D)\n",
    "output.enable(output.RedshiftColumn)\n",
    "obs.onDetection(output)\n",
    "sim.add(obs)\n",
    "\n",
    "# define the source(s)\n",
    "source = Source()\n",
    "source.add(SourcePosition(Vector3d(10, 0, 0) * Mpc))\n",
    "source.add(SourceIsotropicEmission())\n",
    "source.add(SourceParticleType(nucleusId(1, 1)))\n",
    "source.add(SourcePowerLawSpectrum(1 * EeV, 200 * EeV, -1))\n",
    "source.add(SourceRedshiftEvolution(1.5, 0.001, 3))\n",
    "\n",
    "# run simulation\n",
    "sim.setShowProgress(True)\n",
    "sim.run(source, 10000)"
   ]
  },
  {
   "cell_type": "markdown",
   "metadata": {},
   "source": []
  }
 ],
 "metadata": {
  "kernelspec": {
   "display_name": "Python 3",
   "language": "python",
   "name": "python3"
  },
  "language_info": {
   "codemirror_mode": {
    "name": "ipython",
    "version": 3
   },
   "file_extension": ".py",
   "mimetype": "text/x-python",
   "name": "python",
   "nbconvert_exporter": "python",
   "pygments_lexer": "ipython3",
   "version": "3.6.2"
  }
 },
 "nbformat": 4,
 "nbformat_minor": 1
}
